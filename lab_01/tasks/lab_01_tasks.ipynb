{
 "cells": [
  {
   "cell_type": "code",
   "execution_count": 20,
   "id": "initial_id",
   "metadata": {
    "collapsed": true,
    "ExecuteTime": {
     "end_time": "2024-10-03T12:32:22.128291Z",
     "start_time": "2024-10-03T12:32:19.511083Z"
    }
   },
   "outputs": [],
   "source": [
    "import pandas as pd\n",
    "import numpy as np\n",
    "from datetime import datetime\n",
    "import fastparquet\n",
    "import matplotlib.pyplot as plt"
   ]
  },
  {
   "cell_type": "markdown",
   "source": [
    "Auxiliary functions"
   ],
   "metadata": {
    "collapsed": false
   },
   "id": "a49677bd203e2d72"
  },
  {
   "cell_type": "code",
   "outputs": [],
   "source": [
    "def size_of_format(num, suffix=\"B\"):\n",
    "    for unit in (\"\", \"Ki\", \"Mi\", \"Gi\", \"Ti\", \"Pi\", \"Ei\", \"Zi\"):\n",
    "        if abs(num) < 1024.0:\n",
    "            return f\"{num:3.1f}{unit}{suffix}\"\n",
    "        num /= 1024.0\n",
    "    return f\"{num:.1f}Yi{suffix}\""
   ],
   "metadata": {
    "collapsed": false,
    "ExecuteTime": {
     "end_time": "2024-10-03T11:53:48.599896Z",
     "start_time": "2024-10-03T11:53:48.594544Z"
    }
   },
   "id": "65cc483dadb0ebf",
   "execution_count": 2
  },
  {
   "cell_type": "code",
   "outputs": [],
   "source": [
    "def count_time(func):\n",
    "    def wrapper(*args, **kwargs):\n",
    "        start = datetime.now()\n",
    "        func(*args, **kwargs)\n",
    "        print(f\"Reading time {func.__name__}: {datetime.now() - start} seconds\")\n",
    "        return func(*args, **kwargs)\n",
    "    return wrapper"
   ],
   "metadata": {
    "collapsed": false,
    "ExecuteTime": {
     "end_time": "2024-10-03T13:05:59.273306Z",
     "start_time": "2024-10-03T13:05:59.267979Z"
    }
   },
   "id": "2b583a03b648ad32",
   "execution_count": 44
  },
  {
   "cell_type": "markdown",
   "source": [
    "### Task 1\n",
    "Wczytaj pliki danych i scal je w jedną ramkę DataFrame. Wykonaj analizę typów danych podobnie jak w przykładach. Zmierz wielkość pamięci RAM ramki z domyślnymi typami danych."
   ],
   "metadata": {
    "collapsed": false
   },
   "id": "a89b13fa82665d52"
  },
  {
   "cell_type": "code",
   "outputs": [],
   "source": [
    "path_1 = 'data\\\\0000.parquet'\n",
    "path_2 = 'data\\\\0001.parquet'\n",
    "path_3 = 'data\\\\0002.parquet'\n",
    "path_4 = 'data\\\\0003.parquet'\n",
    "path_5 = 'data\\\\0004.parquet'\n",
    "\n",
    "paths = [path_1, path_2, path_3, path_4, path_5]\n",
    "\n",
    "df = pd.concat([pd.read_parquet(file, engine='fastparquet') for file in paths], ignore_index=True)"
   ],
   "metadata": {
    "collapsed": false,
    "ExecuteTime": {
     "end_time": "2024-10-03T11:54:13.427175Z",
     "start_time": "2024-10-03T11:53:48.600897Z"
    }
   },
   "id": "d547aa84330b515e",
   "execution_count": 3
  },
  {
   "cell_type": "code",
   "outputs": [
    {
     "data": {
      "text/plain": "        sid  sid_profile      post_id  profile_id                 date  \\\n0  28370919      3496776  BXdjjUlgcgq  2237947779  2017-08-06 20:06:57   \n1  13623950      3496776  BeyPed5hKj9  2237947779  2018-02-04 19:35:20   \n2  28370905      3496776  Bunhd1DFVAG  2237947779  2019-03-05 08:03:11   \n3  28370907      3496776  Bppi85gliQK  2237947779  2018-11-01 20:17:41   \n4  32170690      3496776  BuDfIyslzfw  2237947779  2019-02-19 08:10:11   \n\n   post_type                                        description  likes  \\\n0          2  Wreckloose! Deevalley bike park laps on the @i...     80   \n1          1  The dirty south was prime today. Top day with ...     86   \n2          1  Tech Tuesday. Been flat out on the tools. Got ...    168   \n3          1  On the tools, my favourite wheel builds @stans...    102   \n4          1  Solid effort on the bar turn.\\nFully turned.\\n...    145   \n\n   comments   username                                                bio  \\\n0         0  andylund_  Professional Bicycle technician, Intense Racin...   \n1         2  andylund_  Professional Bicycle technician, Intense Racin...   \n2         3  andylund_  Professional Bicycle technician, Intense Racin...   \n3         2  andylund_  Professional Bicycle technician, Intense Racin...   \n4         2  andylund_  Professional Bicycle technician, Intense Racin...   \n\n   following  followers  num_posts  is_business_account lang  \\\n0        520       1204        494                False   en   \n1        520       1204        494                False   en   \n2        520       1204        494                False   en   \n3        520       1204        494                False   en   \n4        520       1204        494                False   en   \n\n               category  \n0    travel_&_adventure  \n1  diaries_&_daily_life  \n2  science_&_technology  \n3  diaries_&_daily_life  \n4  diaries_&_daily_life  ",
      "text/html": "<div>\n<style scoped>\n    .dataframe tbody tr th:only-of-type {\n        vertical-align: middle;\n    }\n\n    .dataframe tbody tr th {\n        vertical-align: top;\n    }\n\n    .dataframe thead th {\n        text-align: right;\n    }\n</style>\n<table border=\"1\" class=\"dataframe\">\n  <thead>\n    <tr style=\"text-align: right;\">\n      <th></th>\n      <th>sid</th>\n      <th>sid_profile</th>\n      <th>post_id</th>\n      <th>profile_id</th>\n      <th>date</th>\n      <th>post_type</th>\n      <th>description</th>\n      <th>likes</th>\n      <th>comments</th>\n      <th>username</th>\n      <th>bio</th>\n      <th>following</th>\n      <th>followers</th>\n      <th>num_posts</th>\n      <th>is_business_account</th>\n      <th>lang</th>\n      <th>category</th>\n    </tr>\n  </thead>\n  <tbody>\n    <tr>\n      <th>0</th>\n      <td>28370919</td>\n      <td>3496776</td>\n      <td>BXdjjUlgcgq</td>\n      <td>2237947779</td>\n      <td>2017-08-06 20:06:57</td>\n      <td>2</td>\n      <td>Wreckloose! Deevalley bike park laps on the @i...</td>\n      <td>80</td>\n      <td>0</td>\n      <td>andylund_</td>\n      <td>Professional Bicycle technician, Intense Racin...</td>\n      <td>520</td>\n      <td>1204</td>\n      <td>494</td>\n      <td>False</td>\n      <td>en</td>\n      <td>travel_&amp;_adventure</td>\n    </tr>\n    <tr>\n      <th>1</th>\n      <td>13623950</td>\n      <td>3496776</td>\n      <td>BeyPed5hKj9</td>\n      <td>2237947779</td>\n      <td>2018-02-04 19:35:20</td>\n      <td>1</td>\n      <td>The dirty south was prime today. Top day with ...</td>\n      <td>86</td>\n      <td>2</td>\n      <td>andylund_</td>\n      <td>Professional Bicycle technician, Intense Racin...</td>\n      <td>520</td>\n      <td>1204</td>\n      <td>494</td>\n      <td>False</td>\n      <td>en</td>\n      <td>diaries_&amp;_daily_life</td>\n    </tr>\n    <tr>\n      <th>2</th>\n      <td>28370905</td>\n      <td>3496776</td>\n      <td>Bunhd1DFVAG</td>\n      <td>2237947779</td>\n      <td>2019-03-05 08:03:11</td>\n      <td>1</td>\n      <td>Tech Tuesday. Been flat out on the tools. Got ...</td>\n      <td>168</td>\n      <td>3</td>\n      <td>andylund_</td>\n      <td>Professional Bicycle technician, Intense Racin...</td>\n      <td>520</td>\n      <td>1204</td>\n      <td>494</td>\n      <td>False</td>\n      <td>en</td>\n      <td>science_&amp;_technology</td>\n    </tr>\n    <tr>\n      <th>3</th>\n      <td>28370907</td>\n      <td>3496776</td>\n      <td>Bppi85gliQK</td>\n      <td>2237947779</td>\n      <td>2018-11-01 20:17:41</td>\n      <td>1</td>\n      <td>On the tools, my favourite wheel builds @stans...</td>\n      <td>102</td>\n      <td>2</td>\n      <td>andylund_</td>\n      <td>Professional Bicycle technician, Intense Racin...</td>\n      <td>520</td>\n      <td>1204</td>\n      <td>494</td>\n      <td>False</td>\n      <td>en</td>\n      <td>diaries_&amp;_daily_life</td>\n    </tr>\n    <tr>\n      <th>4</th>\n      <td>32170690</td>\n      <td>3496776</td>\n      <td>BuDfIyslzfw</td>\n      <td>2237947779</td>\n      <td>2019-02-19 08:10:11</td>\n      <td>1</td>\n      <td>Solid effort on the bar turn.\\nFully turned.\\n...</td>\n      <td>145</td>\n      <td>2</td>\n      <td>andylund_</td>\n      <td>Professional Bicycle technician, Intense Racin...</td>\n      <td>520</td>\n      <td>1204</td>\n      <td>494</td>\n      <td>False</td>\n      <td>en</td>\n      <td>diaries_&amp;_daily_life</td>\n    </tr>\n  </tbody>\n</table>\n</div>"
     },
     "metadata": {},
     "output_type": "display_data"
    },
    {
     "name": "stdout",
     "output_type": "stream",
     "text": [
      "<class 'pandas.core.frame.DataFrame'>\n",
      "RangeIndex: 5736790 entries, 0 to 5736789\n",
      "Data columns (total 17 columns):\n",
      " #   Column               Dtype \n",
      "---  ------               ----- \n",
      " 0   sid                  int64 \n",
      " 1   sid_profile          int64 \n",
      " 2   post_id              object\n",
      " 3   profile_id           int64 \n",
      " 4   date                 object\n",
      " 5   post_type            int64 \n",
      " 6   description          object\n",
      " 7   likes                int64 \n",
      " 8   comments             int64 \n",
      " 9   username             object\n",
      " 10  bio                  object\n",
      " 11  following            int64 \n",
      " 12  followers            int64 \n",
      " 13  num_posts            int64 \n",
      " 14  is_business_account  bool  \n",
      " 15  lang                 object\n",
      " 16  category             object\n",
      "dtypes: bool(1), int64(9), object(7)\n",
      "memory usage: 705.8+ MB\n"
     ]
    }
   ],
   "source": [
    "display(df.head())\n",
    "df.info()"
   ],
   "metadata": {
    "collapsed": false,
    "ExecuteTime": {
     "end_time": "2024-10-03T11:54:13.483993Z",
     "start_time": "2024-10-03T11:54:13.429227Z"
    }
   },
   "id": "c6cb35dd879d017b",
   "execution_count": 4
  },
  {
   "cell_type": "code",
   "outputs": [
    {
     "data": {
      "text/plain": "'6.3GiB'"
     },
     "execution_count": 5,
     "metadata": {},
     "output_type": "execute_result"
    }
   ],
   "source": [
    "size_of_format(sum(df.memory_usage(deep=True)))"
   ],
   "metadata": {
    "collapsed": false,
    "ExecuteTime": {
     "end_time": "2024-10-03T11:54:22.361698Z",
     "start_time": "2024-10-03T11:54:13.486607Z"
    }
   },
   "id": "ed61029e1efff0f9",
   "execution_count": 5
  },
  {
   "cell_type": "markdown",
   "source": [
    "### Task 2\n",
    "Dobierz bardziej optymalne typy danych i ponownie zmierz wielkość zajmowanej pamięci RAM. Porównaj obie wielkości na wykresie (wybierz pasujący typ wykresu)."
   ],
   "metadata": {
    "collapsed": false
   },
   "id": "9c8b4389801977f7"
  },
  {
   "cell_type": "code",
   "outputs": [
    {
     "name": "stdout",
     "output_type": "stream",
     "text": [
      "sid: 43.8MiB\n",
      "sid_profile: 43.8MiB\n",
      "post_id: 328.2MiB\n",
      "profile_id: 43.8MiB\n",
      "date: 372.0MiB\n",
      "post_type: 43.8MiB\n",
      "description: 2.9GiB\n",
      "likes: 43.8MiB\n",
      "comments: 43.8MiB\n",
      "username: 337.8MiB\n",
      "bio: 1.4GiB\n",
      "following: 43.8MiB\n",
      "followers: 43.8MiB\n",
      "num_posts: 43.8MiB\n",
      "is_business_account: 5.5MiB\n",
      "lang: 279.0MiB\n",
      "category: 360.2MiB\n"
     ]
    }
   ],
   "source": [
    "for column in df.columns:\n",
    "    print(f'{column}: {size_of_format(df[column].memory_usage(deep=True))}')"
   ],
   "metadata": {
    "collapsed": false,
    "ExecuteTime": {
     "end_time": "2024-10-03T11:54:30.846189Z",
     "start_time": "2024-10-03T11:54:22.363421Z"
    }
   },
   "id": "a365bc43fa9d3c39",
   "execution_count": 6
  },
  {
   "cell_type": "code",
   "outputs": [
    {
     "data": {
      "text/plain": "                 sid   sid_profile        profile_id     post_type  \\\ncount  5736790.00000 5736790.00000     5736790.00000 5736790.00000   \nmean  27720978.52187 3279221.32765  2503748503.94097       1.01522   \nstd   12667158.24351 1029348.40370  3199724951.29741       0.12247   \nmin       6025.00000      -1.00000           4.00000       1.00000   \n25%   15276543.50000 3202940.00000   205086341.00000       1.00000   \n50%   33478781.50000 3656606.00000  1038123944.00000       1.00000   \n75%   39106213.25000 3919388.00000  4010788817.00000       1.00000   \nmax   43330548.00000 4510785.00000 15666951479.00000       3.00000   \n\n              likes      comments     following       followers     num_posts  \ncount 5736790.00000 5736790.00000 5736790.00000   5736790.00000 5736790.00000  \nmean      428.06697       8.74623    1134.52575     22097.04002     918.78841  \nstd      7362.32929     153.46968    2823.81610    745727.59365    2105.25304  \nmin         0.00000       0.00000       0.00000         0.00000       0.00000  \n25%        20.00000       0.00000     323.00000       316.00000     119.00000  \n50%        47.00000       2.00000     686.00000       781.00000     357.00000  \n75%       126.00000       5.00000    1267.00000      1900.00000     952.00000  \nmax   3311246.00000  173988.00000 1190947.00000 285457645.00000  183730.00000  ",
      "text/html": "<div>\n<style scoped>\n    .dataframe tbody tr th:only-of-type {\n        vertical-align: middle;\n    }\n\n    .dataframe tbody tr th {\n        vertical-align: top;\n    }\n\n    .dataframe thead th {\n        text-align: right;\n    }\n</style>\n<table border=\"1\" class=\"dataframe\">\n  <thead>\n    <tr style=\"text-align: right;\">\n      <th></th>\n      <th>sid</th>\n      <th>sid_profile</th>\n      <th>profile_id</th>\n      <th>post_type</th>\n      <th>likes</th>\n      <th>comments</th>\n      <th>following</th>\n      <th>followers</th>\n      <th>num_posts</th>\n    </tr>\n  </thead>\n  <tbody>\n    <tr>\n      <th>count</th>\n      <td>5736790.00000</td>\n      <td>5736790.00000</td>\n      <td>5736790.00000</td>\n      <td>5736790.00000</td>\n      <td>5736790.00000</td>\n      <td>5736790.00000</td>\n      <td>5736790.00000</td>\n      <td>5736790.00000</td>\n      <td>5736790.00000</td>\n    </tr>\n    <tr>\n      <th>mean</th>\n      <td>27720978.52187</td>\n      <td>3279221.32765</td>\n      <td>2503748503.94097</td>\n      <td>1.01522</td>\n      <td>428.06697</td>\n      <td>8.74623</td>\n      <td>1134.52575</td>\n      <td>22097.04002</td>\n      <td>918.78841</td>\n    </tr>\n    <tr>\n      <th>std</th>\n      <td>12667158.24351</td>\n      <td>1029348.40370</td>\n      <td>3199724951.29741</td>\n      <td>0.12247</td>\n      <td>7362.32929</td>\n      <td>153.46968</td>\n      <td>2823.81610</td>\n      <td>745727.59365</td>\n      <td>2105.25304</td>\n    </tr>\n    <tr>\n      <th>min</th>\n      <td>6025.00000</td>\n      <td>-1.00000</td>\n      <td>4.00000</td>\n      <td>1.00000</td>\n      <td>0.00000</td>\n      <td>0.00000</td>\n      <td>0.00000</td>\n      <td>0.00000</td>\n      <td>0.00000</td>\n    </tr>\n    <tr>\n      <th>25%</th>\n      <td>15276543.50000</td>\n      <td>3202940.00000</td>\n      <td>205086341.00000</td>\n      <td>1.00000</td>\n      <td>20.00000</td>\n      <td>0.00000</td>\n      <td>323.00000</td>\n      <td>316.00000</td>\n      <td>119.00000</td>\n    </tr>\n    <tr>\n      <th>50%</th>\n      <td>33478781.50000</td>\n      <td>3656606.00000</td>\n      <td>1038123944.00000</td>\n      <td>1.00000</td>\n      <td>47.00000</td>\n      <td>2.00000</td>\n      <td>686.00000</td>\n      <td>781.00000</td>\n      <td>357.00000</td>\n    </tr>\n    <tr>\n      <th>75%</th>\n      <td>39106213.25000</td>\n      <td>3919388.00000</td>\n      <td>4010788817.00000</td>\n      <td>1.00000</td>\n      <td>126.00000</td>\n      <td>5.00000</td>\n      <td>1267.00000</td>\n      <td>1900.00000</td>\n      <td>952.00000</td>\n    </tr>\n    <tr>\n      <th>max</th>\n      <td>43330548.00000</td>\n      <td>4510785.00000</td>\n      <td>15666951479.00000</td>\n      <td>3.00000</td>\n      <td>3311246.00000</td>\n      <td>173988.00000</td>\n      <td>1190947.00000</td>\n      <td>285457645.00000</td>\n      <td>183730.00000</td>\n    </tr>\n  </tbody>\n</table>\n</div>"
     },
     "execution_count": 8,
     "metadata": {},
     "output_type": "execute_result"
    }
   ],
   "source": [
    "pd.options.display.float_format = '{:.5f}'.format\n",
    "df.describe()"
   ],
   "metadata": {
    "collapsed": false,
    "ExecuteTime": {
     "end_time": "2024-10-03T11:57:03.237337Z",
     "start_time": "2024-10-03T11:57:01.350475Z"
    }
   },
   "id": "7f0bc97e4e31126d",
   "execution_count": 8
  },
  {
   "cell_type": "code",
   "outputs": [],
   "source": [
    "df1 = pd.DataFrame()\n",
    "\n",
    "# df['column_name'].nunique()\n",
    "\n",
    "df1['sid'] = df['sid'].astype(np.int32)\n",
    "df1['sid_profile'] = df['sid_profile'].astype(np.int32)\n",
    "df1['post_id'] = df['post_id'].astype('string')\n",
    "df1['profile_id'] = df['profile_id']\n",
    "df1['date'] = pd.to_datetime(df['date'])\n",
    "df1['post_type'] = df['post_type'].astype('category')\n",
    "df1['description'] = df['description'].astype('string')\n",
    "df1['likes'] = df['likes'].astype(np.int32)\n",
    "df1['comments'] = df['comments'].astype(np.int16)\n",
    "df1['username'] = df['username'].astype('category')\n",
    "df1['bio'] = df['bio'].astype('category')\n",
    "df1['following'] = df['following'].astype(np.int32)\n",
    "df1['followers'] = df['followers'].astype(np.int32)\n",
    "df1['num_posts'] = df['num_posts'].astype(np.int32)\n",
    "df1['is_business_account'] = df['is_business_account']\n",
    "df1['lang'] = df['lang'].astype('category')\n",
    "df1['category'] = df['category'].astype('category')"
   ],
   "metadata": {
    "collapsed": false,
    "ExecuteTime": {
     "end_time": "2024-10-03T12:23:22.225345Z",
     "start_time": "2024-10-03T12:23:11.632419Z"
    }
   },
   "id": "bd5062010472e87e",
   "execution_count": 17
  },
  {
   "cell_type": "code",
   "outputs": [
    {
     "data": {
      "text/plain": "'3.6GiB'"
     },
     "execution_count": 18,
     "metadata": {},
     "output_type": "execute_result"
    }
   ],
   "source": [
    "size_of_format(sum(df1.memory_usage(deep=True)))"
   ],
   "metadata": {
    "collapsed": false,
    "ExecuteTime": {
     "end_time": "2024-10-03T12:23:25.371232Z",
     "start_time": "2024-10-03T12:23:22.227402Z"
    }
   },
   "id": "7ad58266f2c315bf",
   "execution_count": 18
  },
  {
   "cell_type": "code",
   "outputs": [
    {
     "data": {
      "text/plain": "<Figure size 1800x400 with 1 Axes>",
      "image/png": "[encoded data removed]"
     },
     "metadata": {},
     "output_type": "display_data"
    }
   ],
   "source": [
    "columns = df.columns\n",
    "df_sizes_values = df.memory_usage(deep=True)[1:].values\n",
    "df1_sizes_values = df1.memory_usage(deep=True)[1:].values\n",
    "\n",
    "x = np.linspace(0, len(columns) - 1, len(columns))\n",
    "width = 0.4\n",
    "\n",
    "fig, ax = plt.subplots(figsize=(18, 4))\n",
    "bars1 = ax.bar(x - width/2, df_sizes_values, width, color='red', label='df')\n",
    "bars2 = ax.bar(x + width/2, df1_sizes_values, width, color='blue', label='df1')\n",
    "\n",
    "for bar in bars1:\n",
    "    y_val = bar.get_height()\n",
    "    ax.text(bar.get_x() + bar.get_width() / 2, y_val, size_of_format(y_val), ha='center', va='bottom', fontsize=6)\n",
    "\n",
    "for bar in bars2:\n",
    "    y_val = bar.get_height()\n",
    "    ax.text(bar.get_x() + bar.get_width() / 2, y_val, size_of_format(y_val), ha='center', va='bottom', fontsize=6)\n",
    "\n",
    "\n",
    "ax.set_xlabel('Columns')\n",
    "ax.set_ylabel('Size in bytes')\n",
    "ax.set_title('Comparing the size of columns for two DataFrames')\n",
    "\n",
    "wrapped_columns = [col.replace('_', '_\\n') for col in columns]\n",
    "ax.set_xticks(x)\n",
    "ax.set_xticklabels(wrapped_columns)\n",
    "\n",
    "ax.legend()\n",
    "ax.get_yaxis().set_major_formatter(plt.FuncFormatter(lambda x, _: f'{x / (1024 ** 3):.2f} GB'))\n",
    "\n",
    "plt.tight_layout()\n",
    "plt.show()"
   ],
   "metadata": {
    "collapsed": false,
    "ExecuteTime": {
     "end_time": "2024-10-03T12:45:38.338809Z",
     "start_time": "2024-10-03T12:45:25.468583Z"
    }
   },
   "id": "d625a3cc6d8d2e17",
   "execution_count": 31
  },
  {
   "cell_type": "markdown",
   "source": [
    "### Task 3\n",
    "Wykonaj 3 wybrane operacje (grupowanie + agregacja, filtrowanie, itp.) na całej ramce i zmierz czas wykonania na danych oryginalnych i zoptymalizowanych. Wyświetl te czasy."
   ],
   "metadata": {
    "collapsed": false
   },
   "id": "db87dd5c4ad29646"
  },
  {
   "cell_type": "code",
   "outputs": [
    {
     "data": {
      "text/plain": "              likes\n               mean\npost_type          \n1         422.68145\n2         776.77826\n3         553.68750",
      "text/html": "<div>\n<style scoped>\n    .dataframe tbody tr th:only-of-type {\n        vertical-align: middle;\n    }\n\n    .dataframe tbody tr th {\n        vertical-align: top;\n    }\n\n    .dataframe thead tr th {\n        text-align: left;\n    }\n\n    .dataframe thead tr:last-of-type th {\n        text-align: right;\n    }\n</style>\n<table border=\"1\" class=\"dataframe\">\n  <thead>\n    <tr>\n      <th></th>\n      <th>likes</th>\n    </tr>\n    <tr>\n      <th></th>\n      <th>mean</th>\n    </tr>\n    <tr>\n      <th>post_type</th>\n      <th></th>\n    </tr>\n  </thead>\n  <tbody>\n    <tr>\n      <th>1</th>\n      <td>422.68145</td>\n    </tr>\n    <tr>\n      <th>2</th>\n      <td>776.77826</td>\n    </tr>\n    <tr>\n      <th>3</th>\n      <td>553.68750</td>\n    </tr>\n  </tbody>\n</table>\n</div>"
     },
     "metadata": {},
     "output_type": "display_data"
    },
    {
     "name": "stdout",
     "output_type": "stream",
     "text": [
      "Time: 0:00:00.135495\n"
     ]
    }
   ],
   "source": [
    "start = datetime.now()\n",
    "display(df.groupby(['post_type']).agg({'likes': ['mean']}))\n",
    "print(f'Time: {datetime.now() - start}')"
   ],
   "metadata": {
    "collapsed": false,
    "ExecuteTime": {
     "end_time": "2024-10-03T12:50:12.204707Z",
     "start_time": "2024-10-03T12:50:12.062637Z"
    }
   },
   "id": "d2e48845d1d0cb48",
   "execution_count": 32
  },
  {
   "cell_type": "code",
   "outputs": [
    {
     "name": "stderr",
     "output_type": "stream",
     "text": [
      "C:\\Users\\Adam\\AppData\\Local\\Temp\\ipykernel_5796\\3133398487.py:2: FutureWarning: The default of observed=False is deprecated and will be changed to True in a future version of pandas. Pass observed=False to retain current behavior or observed=True to adopt the future default and silence this warning.\n",
      "  display(df1.groupby(['post_type']).agg({'likes': ['mean']}))\n"
     ]
    },
    {
     "data": {
      "text/plain": "              likes\n               mean\npost_type          \n1         422.68145\n2         776.77826\n3         553.68750",
      "text/html": "<div>\n<style scoped>\n    .dataframe tbody tr th:only-of-type {\n        vertical-align: middle;\n    }\n\n    .dataframe tbody tr th {\n        vertical-align: top;\n    }\n\n    .dataframe thead tr th {\n        text-align: left;\n    }\n\n    .dataframe thead tr:last-of-type th {\n        text-align: right;\n    }\n</style>\n<table border=\"1\" class=\"dataframe\">\n  <thead>\n    <tr>\n      <th></th>\n      <th>likes</th>\n    </tr>\n    <tr>\n      <th></th>\n      <th>mean</th>\n    </tr>\n    <tr>\n      <th>post_type</th>\n      <th></th>\n    </tr>\n  </thead>\n  <tbody>\n    <tr>\n      <th>1</th>\n      <td>422.68145</td>\n    </tr>\n    <tr>\n      <th>2</th>\n      <td>776.77826</td>\n    </tr>\n    <tr>\n      <th>3</th>\n      <td>553.68750</td>\n    </tr>\n  </tbody>\n</table>\n</div>"
     },
     "metadata": {},
     "output_type": "display_data"
    },
    {
     "name": "stdout",
     "output_type": "stream",
     "text": [
      "Time: 0:00:00.127448\n"
     ]
    }
   ],
   "source": [
    "start = datetime.now()\n",
    "display(df1.groupby(['post_type']).agg({'likes': ['mean']}))\n",
    "print(f'Time: {datetime.now() - start}')"
   ],
   "metadata": {
    "collapsed": false,
    "ExecuteTime": {
     "end_time": "2024-10-03T12:50:26.719779Z",
     "start_time": "2024-10-03T12:50:26.581877Z"
    }
   },
   "id": "eb9995b95746beca",
   "execution_count": 33
  },
  {
   "cell_type": "code",
   "outputs": [
    {
     "data": {
      "text/plain": "              sid  sid_profile      post_id  profile_id                 date  \\\n0        28370919      3496776  BXdjjUlgcgq  2237947779  2017-08-06 20:06:57   \n1        13623950      3496776  BeyPed5hKj9  2237947779  2018-02-04 19:35:20   \n2        28370905      3496776  Bunhd1DFVAG  2237947779  2019-03-05 08:03:11   \n3        28370907      3496776  Bppi85gliQK  2237947779  2018-11-01 20:17:41   \n4        32170690      3496776  BuDfIyslzfw  2237947779  2019-02-19 08:10:11   \n...           ...          ...          ...         ...                  ...   \n5733793  41254166      4223298  BzeFFFpIayS  1277786910  2019-07-03 23:38:57   \n5733794  41254167      4223298  BzZ13IOIPkK  1277786910  2019-07-02 08:09:00   \n5733795  41254168      4223298  BzPj4ACImX8  1277786910  2019-06-28 08:19:26   \n5733796  41254169      4223298  BzAoRpSo45c  1277786910  2019-06-22 13:09:17   \n5733797  41254170      4223298  By4ZV2EIQ6r  1277786910  2019-06-19 08:24:51   \n\n         post_type                                        description  likes  \\\n0                2  Wreckloose! Deevalley bike park laps on the @i...     80   \n1                1  The dirty south was prime today. Top day with ...     86   \n2                1  Tech Tuesday. Been flat out on the tools. Got ...    168   \n3                1  On the tools, my favourite wheel builds @stans...    102   \n4                1  Solid effort on the bar turn.\\nFully turned.\\n...    145   \n...            ...                                                ...    ...   \n5733793          1  Friday evening @kring_brussels & @pasnormalstu...    119   \n5733794          1  PlusOne Race - Brussels: \\nI was very happy to...    145   \n5733795          1  Sunday @kring_brussels and @pasnormalstudios a...    143   \n5733796          1  To celebrate that @letourdefrance is coming to...    111   \n5733797          1  Brussels-Paris-Brussels in numbers: \\n5601 met...    124   \n\n         comments    username  \\\n0               0   andylund_   \n1               2   andylund_   \n2               3   andylund_   \n3               2   andylund_   \n4               2   andylund_   \n...           ...         ...   \n5733793         7  felicevino   \n5733794         4  felicevino   \n5733795         6  felicevino   \n5733796         3  felicevino   \n5733797         7  felicevino   \n\n                                                       bio  following  \\\n0        Professional Bicycle technician, Intense Racin...        520   \n1        Professional Bicycle technician, Intense Racin...        520   \n2        Professional Bicycle technician, Intense Racin...        520   \n3        Professional Bicycle technician, Intense Racin...        520   \n4        Professional Bicycle technician, Intense Racin...        520   \n...                                                    ...        ...   \n5733793             Riding bicycles\\nRacing for @teamkring        971   \n5733794             Riding bicycles\\nRacing for @teamkring        971   \n5733795             Riding bicycles\\nRacing for @teamkring        971   \n5733796             Riding bicycles\\nRacing for @teamkring        971   \n5733797             Riding bicycles\\nRacing for @teamkring        971   \n\n         followers  num_posts  is_business_account lang              category  \n0             1204        494                False   en    travel_&_adventure  \n1             1204        494                False   en  diaries_&_daily_life  \n2             1204        494                False   en  science_&_technology  \n3             1204        494                False   en  diaries_&_daily_life  \n4             1204        494                False   en  diaries_&_daily_life  \n...            ...        ...                  ...  ...                   ...  \n5733793       2392        856                False   en    travel_&_adventure  \n5733794       2392        856                False   en                sports  \n5733795       2392        856                False   en                sports  \n5733796       2392        856                False   en    travel_&_adventure  \n5733797       2392        856                False   en    travel_&_adventure  \n\n[2671 rows x 17 columns]",
      "text/html": "<div>\n<style scoped>\n    .dataframe tbody tr th:only-of-type {\n        vertical-align: middle;\n    }\n\n    .dataframe tbody tr th {\n        vertical-align: top;\n    }\n\n    .dataframe thead th {\n        text-align: right;\n    }\n</style>\n<table border=\"1\" class=\"dataframe\">\n  <thead>\n    <tr style=\"text-align: right;\">\n      <th></th>\n      <th>sid</th>\n      <th>sid_profile</th>\n      <th>post_id</th>\n      <th>profile_id</th>\n      <th>date</th>\n      <th>post_type</th>\n      <th>description</th>\n      <th>likes</th>\n      <th>comments</th>\n      <th>username</th>\n      <th>bio</th>\n      <th>following</th>\n      <th>followers</th>\n      <th>num_posts</th>\n      <th>is_business_account</th>\n      <th>lang</th>\n      <th>category</th>\n    </tr>\n  </thead>\n  <tbody>\n    <tr>\n      <th>0</th>\n      <td>28370919</td>\n      <td>3496776</td>\n      <td>BXdjjUlgcgq</td>\n      <td>2237947779</td>\n      <td>2017-08-06 20:06:57</td>\n      <td>2</td>\n      <td>Wreckloose! Deevalley bike park laps on the @i...</td>\n      <td>80</td>\n      <td>0</td>\n      <td>andylund_</td>\n      <td>Professional Bicycle technician, Intense Racin...</td>\n      <td>520</td>\n      <td>1204</td>\n      <td>494</td>\n      <td>False</td>\n      <td>en</td>\n      <td>travel_&amp;_adventure</td>\n    </tr>\n    <tr>\n      <th>1</th>\n      <td>13623950</td>\n      <td>3496776</td>\n      <td>BeyPed5hKj9</td>\n      <td>2237947779</td>\n      <td>2018-02-04 19:35:20</td>\n      <td>1</td>\n      <td>The dirty south was prime today. Top day with ...</td>\n      <td>86</td>\n      <td>2</td>\n      <td>andylund_</td>\n      <td>Professional Bicycle technician, Intense Racin...</td>\n      <td>520</td>\n      <td>1204</td>\n      <td>494</td>\n      <td>False</td>\n      <td>en</td>\n      <td>diaries_&amp;_daily_life</td>\n    </tr>\n    <tr>\n      <th>2</th>\n      <td>28370905</td>\n      <td>3496776</td>\n      <td>Bunhd1DFVAG</td>\n      <td>2237947779</td>\n      <td>2019-03-05 08:03:11</td>\n      <td>1</td>\n      <td>Tech Tuesday. Been flat out on the tools. Got ...</td>\n      <td>168</td>\n      <td>3</td>\n      <td>andylund_</td>\n      <td>Professional Bicycle technician, Intense Racin...</td>\n      <td>520</td>\n      <td>1204</td>\n      <td>494</td>\n      <td>False</td>\n      <td>en</td>\n      <td>science_&amp;_technology</td>\n    </tr>\n    <tr>\n      <th>3</th>\n      <td>28370907</td>\n      <td>3496776</td>\n      <td>Bppi85gliQK</td>\n      <td>2237947779</td>\n      <td>2018-11-01 20:17:41</td>\n      <td>1</td>\n      <td>On the tools, my favourite wheel builds @stans...</td>\n      <td>102</td>\n      <td>2</td>\n      <td>andylund_</td>\n      <td>Professional Bicycle technician, Intense Racin...</td>\n      <td>520</td>\n      <td>1204</td>\n      <td>494</td>\n      <td>False</td>\n      <td>en</td>\n      <td>diaries_&amp;_daily_life</td>\n    </tr>\n    <tr>\n      <th>4</th>\n      <td>32170690</td>\n      <td>3496776</td>\n      <td>BuDfIyslzfw</td>\n      <td>2237947779</td>\n      <td>2019-02-19 08:10:11</td>\n      <td>1</td>\n      <td>Solid effort on the bar turn.\\nFully turned.\\n...</td>\n      <td>145</td>\n      <td>2</td>\n      <td>andylund_</td>\n      <td>Professional Bicycle technician, Intense Racin...</td>\n      <td>520</td>\n      <td>1204</td>\n      <td>494</td>\n      <td>False</td>\n      <td>en</td>\n      <td>diaries_&amp;_daily_life</td>\n    </tr>\n    <tr>\n      <th>...</th>\n      <td>...</td>\n      <td>...</td>\n      <td>...</td>\n      <td>...</td>\n      <td>...</td>\n      <td>...</td>\n      <td>...</td>\n      <td>...</td>\n      <td>...</td>\n      <td>...</td>\n      <td>...</td>\n      <td>...</td>\n      <td>...</td>\n      <td>...</td>\n      <td>...</td>\n      <td>...</td>\n      <td>...</td>\n    </tr>\n    <tr>\n      <th>5733793</th>\n      <td>41254166</td>\n      <td>4223298</td>\n      <td>BzeFFFpIayS</td>\n      <td>1277786910</td>\n      <td>2019-07-03 23:38:57</td>\n      <td>1</td>\n      <td>Friday evening @kring_brussels &amp; @pasnormalstu...</td>\n      <td>119</td>\n      <td>7</td>\n      <td>felicevino</td>\n      <td>Riding bicycles\\nRacing for @teamkring</td>\n      <td>971</td>\n      <td>2392</td>\n      <td>856</td>\n      <td>False</td>\n      <td>en</td>\n      <td>travel_&amp;_adventure</td>\n    </tr>\n    <tr>\n      <th>5733794</th>\n      <td>41254167</td>\n      <td>4223298</td>\n      <td>BzZ13IOIPkK</td>\n      <td>1277786910</td>\n      <td>2019-07-02 08:09:00</td>\n      <td>1</td>\n      <td>PlusOne Race - Brussels: \\nI was very happy to...</td>\n      <td>145</td>\n      <td>4</td>\n      <td>felicevino</td>\n      <td>Riding bicycles\\nRacing for @teamkring</td>\n      <td>971</td>\n      <td>2392</td>\n      <td>856</td>\n      <td>False</td>\n      <td>en</td>\n      <td>sports</td>\n    </tr>\n    <tr>\n      <th>5733795</th>\n      <td>41254168</td>\n      <td>4223298</td>\n      <td>BzPj4ACImX8</td>\n      <td>1277786910</td>\n      <td>2019-06-28 08:19:26</td>\n      <td>1</td>\n      <td>Sunday @kring_brussels and @pasnormalstudios a...</td>\n      <td>143</td>\n      <td>6</td>\n      <td>felicevino</td>\n      <td>Riding bicycles\\nRacing for @teamkring</td>\n      <td>971</td>\n      <td>2392</td>\n      <td>856</td>\n      <td>False</td>\n      <td>en</td>\n      <td>sports</td>\n    </tr>\n    <tr>\n      <th>5733796</th>\n      <td>41254169</td>\n      <td>4223298</td>\n      <td>BzAoRpSo45c</td>\n      <td>1277786910</td>\n      <td>2019-06-22 13:09:17</td>\n      <td>1</td>\n      <td>To celebrate that @letourdefrance is coming to...</td>\n      <td>111</td>\n      <td>3</td>\n      <td>felicevino</td>\n      <td>Riding bicycles\\nRacing for @teamkring</td>\n      <td>971</td>\n      <td>2392</td>\n      <td>856</td>\n      <td>False</td>\n      <td>en</td>\n      <td>travel_&amp;_adventure</td>\n    </tr>\n    <tr>\n      <th>5733797</th>\n      <td>41254170</td>\n      <td>4223298</td>\n      <td>By4ZV2EIQ6r</td>\n      <td>1277786910</td>\n      <td>2019-06-19 08:24:51</td>\n      <td>1</td>\n      <td>Brussels-Paris-Brussels in numbers: \\n5601 met...</td>\n      <td>124</td>\n      <td>7</td>\n      <td>felicevino</td>\n      <td>Riding bicycles\\nRacing for @teamkring</td>\n      <td>971</td>\n      <td>2392</td>\n      <td>856</td>\n      <td>False</td>\n      <td>en</td>\n      <td>travel_&amp;_adventure</td>\n    </tr>\n  </tbody>\n</table>\n<p>2671 rows × 17 columns</p>\n</div>"
     },
     "metadata": {},
     "output_type": "display_data"
    },
    {
     "name": "stdout",
     "output_type": "stream",
     "text": [
      "Time: 0:00:07.079985\n"
     ]
    }
   ],
   "source": [
    "start = datetime.now()\n",
    "display(df[df['bio'].str.contains('bicycle', case=False, na=False)])\n",
    "print(f'Time: {datetime.now() - start}')"
   ],
   "metadata": {
    "collapsed": false,
    "ExecuteTime": {
     "end_time": "2024-10-03T12:54:28.788865Z",
     "start_time": "2024-10-03T12:54:21.703233Z"
    }
   },
   "id": "1eee6d029bbabcc2",
   "execution_count": 37
  },
  {
   "cell_type": "code",
   "outputs": [
    {
     "data": {
      "text/plain": "              sid  sid_profile      post_id  profile_id                date  \\\n0        28370919      3496776  BXdjjUlgcgq  2237947779 2017-08-06 20:06:57   \n1        13623950      3496776  BeyPed5hKj9  2237947779 2018-02-04 19:35:20   \n2        28370905      3496776  Bunhd1DFVAG  2237947779 2019-03-05 08:03:11   \n3        28370907      3496776  Bppi85gliQK  2237947779 2018-11-01 20:17:41   \n4        32170690      3496776  BuDfIyslzfw  2237947779 2019-02-19 08:10:11   \n...           ...          ...          ...         ...                 ...   \n5733793  41254166      4223298  BzeFFFpIayS  1277786910 2019-07-03 23:38:57   \n5733794  41254167      4223298  BzZ13IOIPkK  1277786910 2019-07-02 08:09:00   \n5733795  41254168      4223298  BzPj4ACImX8  1277786910 2019-06-28 08:19:26   \n5733796  41254169      4223298  BzAoRpSo45c  1277786910 2019-06-22 13:09:17   \n5733797  41254170      4223298  By4ZV2EIQ6r  1277786910 2019-06-19 08:24:51   \n\n        post_type                                        description  likes  \\\n0               2  Wreckloose! Deevalley bike park laps on the @i...     80   \n1               1  The dirty south was prime today. Top day with ...     86   \n2               1  Tech Tuesday. Been flat out on the tools. Got ...    168   \n3               1  On the tools, my favourite wheel builds @stans...    102   \n4               1  Solid effort on the bar turn.\\nFully turned.\\n...    145   \n...           ...                                                ...    ...   \n5733793         1  Friday evening @kring_brussels & @pasnormalstu...    119   \n5733794         1  PlusOne Race - Brussels: \\nI was very happy to...    145   \n5733795         1  Sunday @kring_brussels and @pasnormalstudios a...    143   \n5733796         1  To celebrate that @letourdefrance is coming to...    111   \n5733797         1  Brussels-Paris-Brussels in numbers: \\n5601 met...    124   \n\n         comments    username  \\\n0               0   andylund_   \n1               2   andylund_   \n2               3   andylund_   \n3               2   andylund_   \n4               2   andylund_   \n...           ...         ...   \n5733793         7  felicevino   \n5733794         4  felicevino   \n5733795         6  felicevino   \n5733796         3  felicevino   \n5733797         7  felicevino   \n\n                                                       bio  following  \\\n0        Professional Bicycle technician, Intense Racin...        520   \n1        Professional Bicycle technician, Intense Racin...        520   \n2        Professional Bicycle technician, Intense Racin...        520   \n3        Professional Bicycle technician, Intense Racin...        520   \n4        Professional Bicycle technician, Intense Racin...        520   \n...                                                    ...        ...   \n5733793             Riding bicycles\\nRacing for @teamkring        971   \n5733794             Riding bicycles\\nRacing for @teamkring        971   \n5733795             Riding bicycles\\nRacing for @teamkring        971   \n5733796             Riding bicycles\\nRacing for @teamkring        971   \n5733797             Riding bicycles\\nRacing for @teamkring        971   \n\n         followers  num_posts  is_business_account lang              category  \n0             1204        494                False   en    travel_&_adventure  \n1             1204        494                False   en  diaries_&_daily_life  \n2             1204        494                False   en  science_&_technology  \n3             1204        494                False   en  diaries_&_daily_life  \n4             1204        494                False   en  diaries_&_daily_life  \n...            ...        ...                  ...  ...                   ...  \n5733793       2392        856                False   en    travel_&_adventure  \n5733794       2392        856                False   en                sports  \n5733795       2392        856                False   en                sports  \n5733796       2392        856                False   en    travel_&_adventure  \n5733797       2392        856                False   en    travel_&_adventure  \n\n[2671 rows x 17 columns]",
      "text/html": "<div>\n<style scoped>\n    .dataframe tbody tr th:only-of-type {\n        vertical-align: middle;\n    }\n\n    .dataframe tbody tr th {\n        vertical-align: top;\n    }\n\n    .dataframe thead th {\n        text-align: right;\n    }\n</style>\n<table border=\"1\" class=\"dataframe\">\n  <thead>\n    <tr style=\"text-align: right;\">\n      <th></th>\n      <th>sid</th>\n      <th>sid_profile</th>\n      <th>post_id</th>\n      <th>profile_id</th>\n      <th>date</th>\n      <th>post_type</th>\n      <th>description</th>\n      <th>likes</th>\n      <th>comments</th>\n      <th>username</th>\n      <th>bio</th>\n      <th>following</th>\n      <th>followers</th>\n      <th>num_posts</th>\n      <th>is_business_account</th>\n      <th>lang</th>\n      <th>category</th>\n    </tr>\n  </thead>\n  <tbody>\n    <tr>\n      <th>0</th>\n      <td>28370919</td>\n      <td>3496776</td>\n      <td>BXdjjUlgcgq</td>\n      <td>2237947779</td>\n      <td>2017-08-06 20:06:57</td>\n      <td>2</td>\n      <td>Wreckloose! Deevalley bike park laps on the @i...</td>\n      <td>80</td>\n      <td>0</td>\n      <td>andylund_</td>\n      <td>Professional Bicycle technician, Intense Racin...</td>\n      <td>520</td>\n      <td>1204</td>\n      <td>494</td>\n      <td>False</td>\n      <td>en</td>\n      <td>travel_&amp;_adventure</td>\n    </tr>\n    <tr>\n      <th>1</th>\n      <td>13623950</td>\n      <td>3496776</td>\n      <td>BeyPed5hKj9</td>\n      <td>2237947779</td>\n      <td>2018-02-04 19:35:20</td>\n      <td>1</td>\n      <td>The dirty south was prime today. Top day with ...</td>\n      <td>86</td>\n      <td>2</td>\n      <td>andylund_</td>\n      <td>Professional Bicycle technician, Intense Racin...</td>\n      <td>520</td>\n      <td>1204</td>\n      <td>494</td>\n      <td>False</td>\n      <td>en</td>\n      <td>diaries_&amp;_daily_life</td>\n    </tr>\n    <tr>\n      <th>2</th>\n      <td>28370905</td>\n      <td>3496776</td>\n      <td>Bunhd1DFVAG</td>\n      <td>2237947779</td>\n      <td>2019-03-05 08:03:11</td>\n      <td>1</td>\n      <td>Tech Tuesday. Been flat out on the tools. Got ...</td>\n      <td>168</td>\n      <td>3</td>\n      <td>andylund_</td>\n      <td>Professional Bicycle technician, Intense Racin...</td>\n      <td>520</td>\n      <td>1204</td>\n      <td>494</td>\n      <td>False</td>\n      <td>en</td>\n      <td>science_&amp;_technology</td>\n    </tr>\n    <tr>\n      <th>3</th>\n      <td>28370907</td>\n      <td>3496776</td>\n      <td>Bppi85gliQK</td>\n      <td>2237947779</td>\n      <td>2018-11-01 20:17:41</td>\n      <td>1</td>\n      <td>On the tools, my favourite wheel builds @stans...</td>\n      <td>102</td>\n      <td>2</td>\n      <td>andylund_</td>\n      <td>Professional Bicycle technician, Intense Racin...</td>\n      <td>520</td>\n      <td>1204</td>\n      <td>494</td>\n      <td>False</td>\n      <td>en</td>\n      <td>diaries_&amp;_daily_life</td>\n    </tr>\n    <tr>\n      <th>4</th>\n      <td>32170690</td>\n      <td>3496776</td>\n      <td>BuDfIyslzfw</td>\n      <td>2237947779</td>\n      <td>2019-02-19 08:10:11</td>\n      <td>1</td>\n      <td>Solid effort on the bar turn.\\nFully turned.\\n...</td>\n      <td>145</td>\n      <td>2</td>\n      <td>andylund_</td>\n      <td>Professional Bicycle technician, Intense Racin...</td>\n      <td>520</td>\n      <td>1204</td>\n      <td>494</td>\n      <td>False</td>\n      <td>en</td>\n      <td>diaries_&amp;_daily_life</td>\n    </tr>\n    <tr>\n      <th>...</th>\n      <td>...</td>\n      <td>...</td>\n      <td>...</td>\n      <td>...</td>\n      <td>...</td>\n      <td>...</td>\n      <td>...</td>\n      <td>...</td>\n      <td>...</td>\n      <td>...</td>\n      <td>...</td>\n      <td>...</td>\n      <td>...</td>\n      <td>...</td>\n      <td>...</td>\n      <td>...</td>\n      <td>...</td>\n    </tr>\n    <tr>\n      <th>5733793</th>\n      <td>41254166</td>\n      <td>4223298</td>\n      <td>BzeFFFpIayS</td>\n      <td>1277786910</td>\n      <td>2019-07-03 23:38:57</td>\n      <td>1</td>\n      <td>Friday evening @kring_brussels &amp; @pasnormalstu...</td>\n      <td>119</td>\n      <td>7</td>\n      <td>felicevino</td>\n      <td>Riding bicycles\\nRacing for @teamkring</td>\n      <td>971</td>\n      <td>2392</td>\n      <td>856</td>\n      <td>False</td>\n      <td>en</td>\n      <td>travel_&amp;_adventure</td>\n    </tr>\n    <tr>\n      <th>5733794</th>\n      <td>41254167</td>\n      <td>4223298</td>\n      <td>BzZ13IOIPkK</td>\n      <td>1277786910</td>\n      <td>2019-07-02 08:09:00</td>\n      <td>1</td>\n      <td>PlusOne Race - Brussels: \\nI was very happy to...</td>\n      <td>145</td>\n      <td>4</td>\n      <td>felicevino</td>\n      <td>Riding bicycles\\nRacing for @teamkring</td>\n      <td>971</td>\n      <td>2392</td>\n      <td>856</td>\n      <td>False</td>\n      <td>en</td>\n      <td>sports</td>\n    </tr>\n    <tr>\n      <th>5733795</th>\n      <td>41254168</td>\n      <td>4223298</td>\n      <td>BzPj4ACImX8</td>\n      <td>1277786910</td>\n      <td>2019-06-28 08:19:26</td>\n      <td>1</td>\n      <td>Sunday @kring_brussels and @pasnormalstudios a...</td>\n      <td>143</td>\n      <td>6</td>\n      <td>felicevino</td>\n      <td>Riding bicycles\\nRacing for @teamkring</td>\n      <td>971</td>\n      <td>2392</td>\n      <td>856</td>\n      <td>False</td>\n      <td>en</td>\n      <td>sports</td>\n    </tr>\n    <tr>\n      <th>5733796</th>\n      <td>41254169</td>\n      <td>4223298</td>\n      <td>BzAoRpSo45c</td>\n      <td>1277786910</td>\n      <td>2019-06-22 13:09:17</td>\n      <td>1</td>\n      <td>To celebrate that @letourdefrance is coming to...</td>\n      <td>111</td>\n      <td>3</td>\n      <td>felicevino</td>\n      <td>Riding bicycles\\nRacing for @teamkring</td>\n      <td>971</td>\n      <td>2392</td>\n      <td>856</td>\n      <td>False</td>\n      <td>en</td>\n      <td>travel_&amp;_adventure</td>\n    </tr>\n    <tr>\n      <th>5733797</th>\n      <td>41254170</td>\n      <td>4223298</td>\n      <td>By4ZV2EIQ6r</td>\n      <td>1277786910</td>\n      <td>2019-06-19 08:24:51</td>\n      <td>1</td>\n      <td>Brussels-Paris-Brussels in numbers: \\n5601 met...</td>\n      <td>124</td>\n      <td>7</td>\n      <td>felicevino</td>\n      <td>Riding bicycles\\nRacing for @teamkring</td>\n      <td>971</td>\n      <td>2392</td>\n      <td>856</td>\n      <td>False</td>\n      <td>en</td>\n      <td>travel_&amp;_adventure</td>\n    </tr>\n  </tbody>\n</table>\n<p>2671 rows × 17 columns</p>\n</div>"
     },
     "metadata": {},
     "output_type": "display_data"
    },
    {
     "name": "stdout",
     "output_type": "stream",
     "text": [
      "Time: 0:00:01.246745\n"
     ]
    }
   ],
   "source": [
    "start = datetime.now()\n",
    "display(df1[df1['bio'].str.contains('bicycle', case=False, na=False)])\n",
    "print(f'Time: {datetime.now() - start}')"
   ],
   "metadata": {
    "collapsed": false,
    "ExecuteTime": {
     "end_time": "2024-10-03T12:54:53.252736Z",
     "start_time": "2024-10-03T12:54:52.000435Z"
    }
   },
   "id": "2b7b4571cb8e5991",
   "execution_count": 38
  },
  {
   "cell_type": "code",
   "outputs": [
    {
     "data": {
      "text/plain": "              sid  sid_profile      post_id  profile_id                 date  \\\n4784820  39745896      3947023  Bw76t5Tnax-  8285970644  2019-05-02 00:11:26   \n3628534  38114964      3717863  BxiSO-7goDD   190213356  2019-05-16 21:48:04   \n4283097  38959428      3836730  BxHaPY7lMPC   373591917  2019-05-06 11:18:32   \n2749875  21430032      2774261  Bxhz2tMnBYK  1428843383  2019-05-16 17:22:37   \n2749876  21430039      2774261  Bxhz0trHnCp  1428843383  2019-05-16 17:22:20   \n...           ...          ...          ...         ...                  ...   \n3417653  37812132      3676560  ByFAmlTFLrH   253060578  2019-05-30 09:27:25   \n5090427  40232511      4019747  BiFJ2dGlvhY   332774186  2018-04-27 18:25:56   \n3417766  37812281      3676577  Bx5fnoshsdO  1193952054  2019-05-25 22:07:34   \n4512937  39317823      3886691  Bwuve6mBm-L   262908399  2019-04-26 21:23:08   \n2150166  23550811      2966673  BxOSiFqHEp8   452373098  2019-05-09 03:25:52   \n\n         post_type                                        description  likes  \\\n4784820          1  #portraitphotography #portrait #bigben #london...     22   \n3628534          1  This little staple has so much character and c...    168   \n4283097          1  I didn’t do this in March because i didn’t par...     71   \n2749875          1  Just the tips of the soft golden Willow Leaf P...     28   \n2749876          1  Willow Leaf Pendants made from 18ct Yellow Gol...     35   \n...            ...                                                ...    ...   \n3417653          1  Announcing the first part of our new timetable...     28   \n5090427          1  Last day at school will miss everyone and hope...    162   \n3417766          1  3 years at uni done.. 1 more to go 🙌🏼 so so pr...    268   \n4512937          1  This, is Kendall. If I see you on any kind of ...    116   \n2150166          1  I’ll always have those purple and gold memorie...    102   \n\n         comments         username  \\\n4784820         1           jrjp26   \n3628534         2      mandymalaya   \n4283097        14    charlottegggg   \n2749875         5       chalk_info   \n2749876         7       chalk_info   \n...           ...              ...   \n3417653         1  tomthevikingmma   \n5090427         2  walton___ad8189   \n3417766        15      louisa_cole   \n4512937         4     josh_duncann   \n2150166         5    lauren.dolman   \n\n                                                       bio  following  \\\n4784820                                               None         97   \n3628534                    love stronger than your pride .       1013   \n4283097                              Buildings and light 💕       1709   \n2749875  Jewellery that cares. Sculptural creatures giv...       1226   \n2749876  Jewellery that cares. Sculptural creatures giv...       1226   \n...                                                    ...        ...   \n3417653  PRO MMA Athlete 4-0\\nBJJ Purple belt, AVT BJJ ...        527   \n5090427                                               None       2036   \n3417766  🇬🇧| UK\\n🐰| GymBunny and Sprinter\\n🍑| Strength ...        981   \n4512937  \"Church isn't a place, it's a people.\" -Freeli...        496   \n2150166                    18| KCMO| journalist| violinist        898   \n\n         followers  num_posts  is_business_account lang              category  \n4784820         86        315                False   en        arts_&_culture  \n3628534       1488        388                False   en        arts_&_culture  \n4283097        980       2596                False   en        arts_&_culture  \n2749875       2089       1244                 True   en        arts_&_culture  \n2749876       2089       1244                 True   en        arts_&_culture  \n...            ...        ...                  ...  ...                   ...  \n3417653        986         89                 True   en  youth_&_student_life  \n5090427        831         63                False   en  youth_&_student_life  \n3417766       2069        442                 True   en  youth_&_student_life  \n4512937        591        173                False   en  youth_&_student_life  \n2150166        381         93                False   en  youth_&_student_life  \n\n[5736790 rows x 17 columns]",
      "text/html": "<div>\n<style scoped>\n    .dataframe tbody tr th:only-of-type {\n        vertical-align: middle;\n    }\n\n    .dataframe tbody tr th {\n        vertical-align: top;\n    }\n\n    .dataframe thead th {\n        text-align: right;\n    }\n</style>\n<table border=\"1\" class=\"dataframe\">\n  <thead>\n    <tr style=\"text-align: right;\">\n      <th></th>\n      <th>sid</th>\n      <th>sid_profile</th>\n      <th>post_id</th>\n      <th>profile_id</th>\n      <th>date</th>\n      <th>post_type</th>\n      <th>description</th>\n      <th>likes</th>\n      <th>comments</th>\n      <th>username</th>\n      <th>bio</th>\n      <th>following</th>\n      <th>followers</th>\n      <th>num_posts</th>\n      <th>is_business_account</th>\n      <th>lang</th>\n      <th>category</th>\n    </tr>\n  </thead>\n  <tbody>\n    <tr>\n      <th>4784820</th>\n      <td>39745896</td>\n      <td>3947023</td>\n      <td>Bw76t5Tnax-</td>\n      <td>8285970644</td>\n      <td>2019-05-02 00:11:26</td>\n      <td>1</td>\n      <td>#portraitphotography #portrait #bigben #london...</td>\n      <td>22</td>\n      <td>1</td>\n      <td>jrjp26</td>\n      <td>None</td>\n      <td>97</td>\n      <td>86</td>\n      <td>315</td>\n      <td>False</td>\n      <td>en</td>\n      <td>arts_&amp;_culture</td>\n    </tr>\n    <tr>\n      <th>3628534</th>\n      <td>38114964</td>\n      <td>3717863</td>\n      <td>BxiSO-7goDD</td>\n      <td>190213356</td>\n      <td>2019-05-16 21:48:04</td>\n      <td>1</td>\n      <td>This little staple has so much character and c...</td>\n      <td>168</td>\n      <td>2</td>\n      <td>mandymalaya</td>\n      <td>love stronger than your pride .</td>\n      <td>1013</td>\n      <td>1488</td>\n      <td>388</td>\n      <td>False</td>\n      <td>en</td>\n      <td>arts_&amp;_culture</td>\n    </tr>\n    <tr>\n      <th>4283097</th>\n      <td>38959428</td>\n      <td>3836730</td>\n      <td>BxHaPY7lMPC</td>\n      <td>373591917</td>\n      <td>2019-05-06 11:18:32</td>\n      <td>1</td>\n      <td>I didn’t do this in March because i didn’t par...</td>\n      <td>71</td>\n      <td>14</td>\n      <td>charlottegggg</td>\n      <td>Buildings and light 💕</td>\n      <td>1709</td>\n      <td>980</td>\n      <td>2596</td>\n      <td>False</td>\n      <td>en</td>\n      <td>arts_&amp;_culture</td>\n    </tr>\n    <tr>\n      <th>2749875</th>\n      <td>21430032</td>\n      <td>2774261</td>\n      <td>Bxhz2tMnBYK</td>\n      <td>1428843383</td>\n      <td>2019-05-16 17:22:37</td>\n      <td>1</td>\n      <td>Just the tips of the soft golden Willow Leaf P...</td>\n      <td>28</td>\n      <td>5</td>\n      <td>chalk_info</td>\n      <td>Jewellery that cares. Sculptural creatures giv...</td>\n      <td>1226</td>\n      <td>2089</td>\n      <td>1244</td>\n      <td>True</td>\n      <td>en</td>\n      <td>arts_&amp;_culture</td>\n    </tr>\n    <tr>\n      <th>2749876</th>\n      <td>21430039</td>\n      <td>2774261</td>\n      <td>Bxhz0trHnCp</td>\n      <td>1428843383</td>\n      <td>2019-05-16 17:22:20</td>\n      <td>1</td>\n      <td>Willow Leaf Pendants made from 18ct Yellow Gol...</td>\n      <td>35</td>\n      <td>7</td>\n      <td>chalk_info</td>\n      <td>Jewellery that cares. Sculptural creatures giv...</td>\n      <td>1226</td>\n      <td>2089</td>\n      <td>1244</td>\n      <td>True</td>\n      <td>en</td>\n      <td>arts_&amp;_culture</td>\n    </tr>\n    <tr>\n      <th>...</th>\n      <td>...</td>\n      <td>...</td>\n      <td>...</td>\n      <td>...</td>\n      <td>...</td>\n      <td>...</td>\n      <td>...</td>\n      <td>...</td>\n      <td>...</td>\n      <td>...</td>\n      <td>...</td>\n      <td>...</td>\n      <td>...</td>\n      <td>...</td>\n      <td>...</td>\n      <td>...</td>\n      <td>...</td>\n    </tr>\n    <tr>\n      <th>3417653</th>\n      <td>37812132</td>\n      <td>3676560</td>\n      <td>ByFAmlTFLrH</td>\n      <td>253060578</td>\n      <td>2019-05-30 09:27:25</td>\n      <td>1</td>\n      <td>Announcing the first part of our new timetable...</td>\n      <td>28</td>\n      <td>1</td>\n      <td>tomthevikingmma</td>\n      <td>PRO MMA Athlete 4-0\\nBJJ Purple belt, AVT BJJ ...</td>\n      <td>527</td>\n      <td>986</td>\n      <td>89</td>\n      <td>True</td>\n      <td>en</td>\n      <td>youth_&amp;_student_life</td>\n    </tr>\n    <tr>\n      <th>5090427</th>\n      <td>40232511</td>\n      <td>4019747</td>\n      <td>BiFJ2dGlvhY</td>\n      <td>332774186</td>\n      <td>2018-04-27 18:25:56</td>\n      <td>1</td>\n      <td>Last day at school will miss everyone and hope...</td>\n      <td>162</td>\n      <td>2</td>\n      <td>walton___ad8189</td>\n      <td>None</td>\n      <td>2036</td>\n      <td>831</td>\n      <td>63</td>\n      <td>False</td>\n      <td>en</td>\n      <td>youth_&amp;_student_life</td>\n    </tr>\n    <tr>\n      <th>3417766</th>\n      <td>37812281</td>\n      <td>3676577</td>\n      <td>Bx5fnoshsdO</td>\n      <td>1193952054</td>\n      <td>2019-05-25 22:07:34</td>\n      <td>1</td>\n      <td>3 years at uni done.. 1 more to go 🙌🏼 so so pr...</td>\n      <td>268</td>\n      <td>15</td>\n      <td>louisa_cole</td>\n      <td>🇬🇧| UK\\n🐰| GymBunny and Sprinter\\n🍑| Strength ...</td>\n      <td>981</td>\n      <td>2069</td>\n      <td>442</td>\n      <td>True</td>\n      <td>en</td>\n      <td>youth_&amp;_student_life</td>\n    </tr>\n    <tr>\n      <th>4512937</th>\n      <td>39317823</td>\n      <td>3886691</td>\n      <td>Bwuve6mBm-L</td>\n      <td>262908399</td>\n      <td>2019-04-26 21:23:08</td>\n      <td>1</td>\n      <td>This, is Kendall. If I see you on any kind of ...</td>\n      <td>116</td>\n      <td>4</td>\n      <td>josh_duncann</td>\n      <td>\"Church isn't a place, it's a people.\" -Freeli...</td>\n      <td>496</td>\n      <td>591</td>\n      <td>173</td>\n      <td>False</td>\n      <td>en</td>\n      <td>youth_&amp;_student_life</td>\n    </tr>\n    <tr>\n      <th>2150166</th>\n      <td>23550811</td>\n      <td>2966673</td>\n      <td>BxOSiFqHEp8</td>\n      <td>452373098</td>\n      <td>2019-05-09 03:25:52</td>\n      <td>1</td>\n      <td>I’ll always have those purple and gold memorie...</td>\n      <td>102</td>\n      <td>5</td>\n      <td>lauren.dolman</td>\n      <td>18| KCMO| journalist| violinist</td>\n      <td>898</td>\n      <td>381</td>\n      <td>93</td>\n      <td>False</td>\n      <td>en</td>\n      <td>youth_&amp;_student_life</td>\n    </tr>\n  </tbody>\n</table>\n<p>5736790 rows × 17 columns</p>\n</div>"
     },
     "metadata": {},
     "output_type": "display_data"
    },
    {
     "name": "stdout",
     "output_type": "stream",
     "text": [
      "Time: 0:00:10.087022\n"
     ]
    }
   ],
   "source": [
    "start = datetime.now()\n",
    "display(df.sort_values(by='category'))\n",
    "print(f'Time: {datetime.now() - start}')"
   ],
   "metadata": {
    "collapsed": false,
    "ExecuteTime": {
     "end_time": "2024-10-03T12:56:15.886282Z",
     "start_time": "2024-10-03T12:56:05.794541Z"
    }
   },
   "id": "8663350e8ab0006a",
   "execution_count": 39
  },
  {
   "cell_type": "code",
   "outputs": [
    {
     "data": {
      "text/plain": "              sid  sid_profile      post_id  profile_id                date  \\\n4784820  39745896      3947023  Bw76t5Tnax-  8285970644 2019-05-02 00:11:26   \n3628534  38114964      3717863  BxiSO-7goDD   190213356 2019-05-16 21:48:04   \n4283097  38959428      3836730  BxHaPY7lMPC   373591917 2019-05-06 11:18:32   \n2749875  21430032      2774261  Bxhz2tMnBYK  1428843383 2019-05-16 17:22:37   \n2749876  21430039      2774261  Bxhz0trHnCp  1428843383 2019-05-16 17:22:20   \n...           ...          ...          ...         ...                 ...   \n3417653  37812132      3676560  ByFAmlTFLrH   253060578 2019-05-30 09:27:25   \n5090427  40232511      4019747  BiFJ2dGlvhY   332774186 2018-04-27 18:25:56   \n3417766  37812281      3676577  Bx5fnoshsdO  1193952054 2019-05-25 22:07:34   \n4512937  39317823      3886691  Bwuve6mBm-L   262908399 2019-04-26 21:23:08   \n2150166  23550811      2966673  BxOSiFqHEp8   452373098 2019-05-09 03:25:52   \n\n        post_type                                        description  likes  \\\n4784820         1  #portraitphotography #portrait #bigben #london...     22   \n3628534         1  This little staple has so much character and c...    168   \n4283097         1  I didn’t do this in March because i didn’t par...     71   \n2749875         1  Just the tips of the soft golden Willow Leaf P...     28   \n2749876         1  Willow Leaf Pendants made from 18ct Yellow Gol...     35   \n...           ...                                                ...    ...   \n3417653         1  Announcing the first part of our new timetable...     28   \n5090427         1  Last day at school will miss everyone and hope...    162   \n3417766         1  3 years at uni done.. 1 more to go 🙌🏼 so so pr...    268   \n4512937         1  This, is Kendall. If I see you on any kind of ...    116   \n2150166         1  I’ll always have those purple and gold memorie...    102   \n\n         comments         username  \\\n4784820         1           jrjp26   \n3628534         2      mandymalaya   \n4283097        14    charlottegggg   \n2749875         5       chalk_info   \n2749876         7       chalk_info   \n...           ...              ...   \n3417653         1  tomthevikingmma   \n5090427         2  walton___ad8189   \n3417766        15      louisa_cole   \n4512937         4     josh_duncann   \n2150166         5    lauren.dolman   \n\n                                                       bio  following  \\\n4784820                                                NaN         97   \n3628534                    love stronger than your pride .       1013   \n4283097                              Buildings and light 💕       1709   \n2749875  Jewellery that cares. Sculptural creatures giv...       1226   \n2749876  Jewellery that cares. Sculptural creatures giv...       1226   \n...                                                    ...        ...   \n3417653  PRO MMA Athlete 4-0\\nBJJ Purple belt, AVT BJJ ...        527   \n5090427                                                NaN       2036   \n3417766  🇬🇧| UK\\n🐰| GymBunny and Sprinter\\n🍑| Strength ...        981   \n4512937  \"Church isn't a place, it's a people.\" -Freeli...        496   \n2150166                    18| KCMO| journalist| violinist        898   \n\n         followers  num_posts  is_business_account lang              category  \n4784820         86        315                False   en        arts_&_culture  \n3628534       1488        388                False   en        arts_&_culture  \n4283097        980       2596                False   en        arts_&_culture  \n2749875       2089       1244                 True   en        arts_&_culture  \n2749876       2089       1244                 True   en        arts_&_culture  \n...            ...        ...                  ...  ...                   ...  \n3417653        986         89                 True   en  youth_&_student_life  \n5090427        831         63                False   en  youth_&_student_life  \n3417766       2069        442                 True   en  youth_&_student_life  \n4512937        591        173                False   en  youth_&_student_life  \n2150166        381         93                False   en  youth_&_student_life  \n\n[5736790 rows x 17 columns]",
      "text/html": "<div>\n<style scoped>\n    .dataframe tbody tr th:only-of-type {\n        vertical-align: middle;\n    }\n\n    .dataframe tbody tr th {\n        vertical-align: top;\n    }\n\n    .dataframe thead th {\n        text-align: right;\n    }\n</style>\n<table border=\"1\" class=\"dataframe\">\n  <thead>\n    <tr style=\"text-align: right;\">\n      <th></th>\n      <th>sid</th>\n      <th>sid_profile</th>\n      <th>post_id</th>\n      <th>profile_id</th>\n      <th>date</th>\n      <th>post_type</th>\n      <th>description</th>\n      <th>likes</th>\n      <th>comments</th>\n      <th>username</th>\n      <th>bio</th>\n      <th>following</th>\n      <th>followers</th>\n      <th>num_posts</th>\n      <th>is_business_account</th>\n      <th>lang</th>\n      <th>category</th>\n    </tr>\n  </thead>\n  <tbody>\n    <tr>\n      <th>4784820</th>\n      <td>39745896</td>\n      <td>3947023</td>\n      <td>Bw76t5Tnax-</td>\n      <td>8285970644</td>\n      <td>2019-05-02 00:11:26</td>\n      <td>1</td>\n      <td>#portraitphotography #portrait #bigben #london...</td>\n      <td>22</td>\n      <td>1</td>\n      <td>jrjp26</td>\n      <td>NaN</td>\n      <td>97</td>\n      <td>86</td>\n      <td>315</td>\n      <td>False</td>\n      <td>en</td>\n      <td>arts_&amp;_culture</td>\n    </tr>\n    <tr>\n      <th>3628534</th>\n      <td>38114964</td>\n      <td>3717863</td>\n      <td>BxiSO-7goDD</td>\n      <td>190213356</td>\n      <td>2019-05-16 21:48:04</td>\n      <td>1</td>\n      <td>This little staple has so much character and c...</td>\n      <td>168</td>\n      <td>2</td>\n      <td>mandymalaya</td>\n      <td>love stronger than your pride .</td>\n      <td>1013</td>\n      <td>1488</td>\n      <td>388</td>\n      <td>False</td>\n      <td>en</td>\n      <td>arts_&amp;_culture</td>\n    </tr>\n    <tr>\n      <th>4283097</th>\n      <td>38959428</td>\n      <td>3836730</td>\n      <td>BxHaPY7lMPC</td>\n      <td>373591917</td>\n      <td>2019-05-06 11:18:32</td>\n      <td>1</td>\n      <td>I didn’t do this in March because i didn’t par...</td>\n      <td>71</td>\n      <td>14</td>\n      <td>charlottegggg</td>\n      <td>Buildings and light 💕</td>\n      <td>1709</td>\n      <td>980</td>\n      <td>2596</td>\n      <td>False</td>\n      <td>en</td>\n      <td>arts_&amp;_culture</td>\n    </tr>\n    <tr>\n      <th>2749875</th>\n      <td>21430032</td>\n      <td>2774261</td>\n      <td>Bxhz2tMnBYK</td>\n      <td>1428843383</td>\n      <td>2019-05-16 17:22:37</td>\n      <td>1</td>\n      <td>Just the tips of the soft golden Willow Leaf P...</td>\n      <td>28</td>\n      <td>5</td>\n      <td>chalk_info</td>\n      <td>Jewellery that cares. Sculptural creatures giv...</td>\n      <td>1226</td>\n      <td>2089</td>\n      <td>1244</td>\n      <td>True</td>\n      <td>en</td>\n      <td>arts_&amp;_culture</td>\n    </tr>\n    <tr>\n      <th>2749876</th>\n      <td>21430039</td>\n      <td>2774261</td>\n      <td>Bxhz0trHnCp</td>\n      <td>1428843383</td>\n      <td>2019-05-16 17:22:20</td>\n      <td>1</td>\n      <td>Willow Leaf Pendants made from 18ct Yellow Gol...</td>\n      <td>35</td>\n      <td>7</td>\n      <td>chalk_info</td>\n      <td>Jewellery that cares. Sculptural creatures giv...</td>\n      <td>1226</td>\n      <td>2089</td>\n      <td>1244</td>\n      <td>True</td>\n      <td>en</td>\n      <td>arts_&amp;_culture</td>\n    </tr>\n    <tr>\n      <th>...</th>\n      <td>...</td>\n      <td>...</td>\n      <td>...</td>\n      <td>...</td>\n      <td>...</td>\n      <td>...</td>\n      <td>...</td>\n      <td>...</td>\n      <td>...</td>\n      <td>...</td>\n      <td>...</td>\n      <td>...</td>\n      <td>...</td>\n      <td>...</td>\n      <td>...</td>\n      <td>...</td>\n      <td>...</td>\n    </tr>\n    <tr>\n      <th>3417653</th>\n      <td>37812132</td>\n      <td>3676560</td>\n      <td>ByFAmlTFLrH</td>\n      <td>253060578</td>\n      <td>2019-05-30 09:27:25</td>\n      <td>1</td>\n      <td>Announcing the first part of our new timetable...</td>\n      <td>28</td>\n      <td>1</td>\n      <td>tomthevikingmma</td>\n      <td>PRO MMA Athlete 4-0\\nBJJ Purple belt, AVT BJJ ...</td>\n      <td>527</td>\n      <td>986</td>\n      <td>89</td>\n      <td>True</td>\n      <td>en</td>\n      <td>youth_&amp;_student_life</td>\n    </tr>\n    <tr>\n      <th>5090427</th>\n      <td>40232511</td>\n      <td>4019747</td>\n      <td>BiFJ2dGlvhY</td>\n      <td>332774186</td>\n      <td>2018-04-27 18:25:56</td>\n      <td>1</td>\n      <td>Last day at school will miss everyone and hope...</td>\n      <td>162</td>\n      <td>2</td>\n      <td>walton___ad8189</td>\n      <td>NaN</td>\n      <td>2036</td>\n      <td>831</td>\n      <td>63</td>\n      <td>False</td>\n      <td>en</td>\n      <td>youth_&amp;_student_life</td>\n    </tr>\n    <tr>\n      <th>3417766</th>\n      <td>37812281</td>\n      <td>3676577</td>\n      <td>Bx5fnoshsdO</td>\n      <td>1193952054</td>\n      <td>2019-05-25 22:07:34</td>\n      <td>1</td>\n      <td>3 years at uni done.. 1 more to go 🙌🏼 so so pr...</td>\n      <td>268</td>\n      <td>15</td>\n      <td>louisa_cole</td>\n      <td>🇬🇧| UK\\n🐰| GymBunny and Sprinter\\n🍑| Strength ...</td>\n      <td>981</td>\n      <td>2069</td>\n      <td>442</td>\n      <td>True</td>\n      <td>en</td>\n      <td>youth_&amp;_student_life</td>\n    </tr>\n    <tr>\n      <th>4512937</th>\n      <td>39317823</td>\n      <td>3886691</td>\n      <td>Bwuve6mBm-L</td>\n      <td>262908399</td>\n      <td>2019-04-26 21:23:08</td>\n      <td>1</td>\n      <td>This, is Kendall. If I see you on any kind of ...</td>\n      <td>116</td>\n      <td>4</td>\n      <td>josh_duncann</td>\n      <td>\"Church isn't a place, it's a people.\" -Freeli...</td>\n      <td>496</td>\n      <td>591</td>\n      <td>173</td>\n      <td>False</td>\n      <td>en</td>\n      <td>youth_&amp;_student_life</td>\n    </tr>\n    <tr>\n      <th>2150166</th>\n      <td>23550811</td>\n      <td>2966673</td>\n      <td>BxOSiFqHEp8</td>\n      <td>452373098</td>\n      <td>2019-05-09 03:25:52</td>\n      <td>1</td>\n      <td>I’ll always have those purple and gold memorie...</td>\n      <td>102</td>\n      <td>5</td>\n      <td>lauren.dolman</td>\n      <td>18| KCMO| journalist| violinist</td>\n      <td>898</td>\n      <td>381</td>\n      <td>93</td>\n      <td>False</td>\n      <td>en</td>\n      <td>youth_&amp;_student_life</td>\n    </tr>\n  </tbody>\n</table>\n<p>5736790 rows × 17 columns</p>\n</div>"
     },
     "metadata": {},
     "output_type": "display_data"
    },
    {
     "name": "stdout",
     "output_type": "stream",
     "text": [
      "Time: 0:00:04.214820\n"
     ]
    }
   ],
   "source": [
    "start = datetime.now()\n",
    "display(df1.sort_values(by='category'))\n",
    "print(f'Time: {datetime.now() - start}')"
   ],
   "metadata": {
    "collapsed": false,
    "ExecuteTime": {
     "end_time": "2024-10-03T12:56:29.815515Z",
     "start_time": "2024-10-03T12:56:25.592139Z"
    }
   },
   "id": "8655d909909ed2bf",
   "execution_count": 40
  },
  {
   "cell_type": "markdown",
   "source": [
    "### Task 4\n",
    "Zapisz ramkę jako plik csv, z nagłówkami kolumn, bez indeksu. Sprawdź jaka jest różnica w wielkości pliku csv i sumy wielkości plików w formacie parquet (w eksploratorze, nie trzeba tego robić z poziomu kodu)."
   ],
   "metadata": {
    "collapsed": false
   },
   "id": "4f16ddb41e123421"
  },
  {
   "cell_type": "code",
   "outputs": [],
   "source": [
    "df1.to_csv('instagram.csv', header=True, index=False)"
   ],
   "metadata": {
    "collapsed": false,
    "ExecuteTime": {
     "end_time": "2024-10-03T13:00:28.744175Z",
     "start_time": "2024-10-03T12:58:10.919357Z"
    }
   },
   "id": "7932b2c94c1bda6b",
   "execution_count": 41
  },
  {
   "cell_type": "markdown",
   "source": [
    "![Size comparison](lab_01/tasks/comparison.png)\n",
    "<img src=\"comparison.png\">\n",
    "<img src=\"lab_01/tasks/comparison.png\">\n"
   ],
   "metadata": {
    "collapsed": false
   },
   "id": "7c2eb8f20295d9c1"
  },
  {
   "cell_type": "markdown",
   "source": [
    "### Task 5\n",
    "Zmierz czas wczytywania danych z pliku csv dla 3 przypadków:\n",
    "\n",
    "* cały plik na raz,\n",
    "* cały plik ze wskazaniem parametru chunksize (możesz poeksperymentować z wielkością tego parametru),\n",
    "* z użyciem multiprocessingu zaprezentowanego w przykładzie (wcześniej podziel plik na kilka mniejszych), wskazując ilość procesów jako ilość_rdzeni - 2 oraz drugi przypadek (ilosc_rdzeni - 2) * 2."
   ],
   "metadata": {
    "collapsed": false
   },
   "id": "ff5124fedae90f44"
  },
  {
   "cell_type": "code",
   "outputs": [],
   "source": [
    "@count_time\n",
    "def read_file_1():\n",
    "    return pd.read_csv('instagram.csv', header=0)\n",
    "    \n",
    "@count_time\n",
    "def read_file_2():\n",
    "    chunks = pd.read_csv('instagram.csv', header=0, chunksize=800_000)\n",
    "    return pd.concat(chunks)"
   ],
   "metadata": {
    "collapsed": false,
    "ExecuteTime": {
     "end_time": "2024-10-03T13:09:03.006131Z",
     "start_time": "2024-10-03T13:09:02.999641Z"
    }
   },
   "id": "33a357d1c2aea338",
   "execution_count": 48
  },
  {
   "cell_type": "code",
   "outputs": [
    {
     "name": "stdout",
     "output_type": "stream",
     "text": [
      "Reading time read_file_1: 0:01:27.480642 seconds\n",
      "Reading time read_file_2: 0:01:41.638140 seconds\n"
     ]
    }
   ],
   "source": [
    "df1 = read_file_1()\n",
    "df2 = read_file_2()"
   ],
   "metadata": {
    "collapsed": false,
    "ExecuteTime": {
     "end_time": "2024-10-03T13:15:32.781984Z",
     "start_time": "2024-10-03T13:09:03.580199Z"
    }
   },
   "id": "5c0ed431f2cbccb",
   "execution_count": 49
  },
  {
   "cell_type": "markdown",
   "source": [
    "case 3:\n",
    "![Task 5 picture](task_5.png)\n"
   ],
   "metadata": {
    "collapsed": false
   },
   "id": "de7cd37e91de0c47"
  }
 ],
 "metadata": {
  "kernelspec": {
   "display_name": "Python 3",
   "language": "python",
   "name": "python3"
  },
  "language_info": {
   "codemirror_mode": {
    "name": "ipython",
    "version": 2
   },
   "file_extension": ".py",
   "mimetype": "text/x-python",
   "name": "python",
   "nbconvert_exporter": "python",
   "pygments_lexer": "ipython2",
   "version": "2.7.6"
  }
 },
 "nbformat": 4,
 "nbformat_minor": 5
}
