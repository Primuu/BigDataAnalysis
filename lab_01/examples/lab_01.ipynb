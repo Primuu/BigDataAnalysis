{
 "cells": [
  {
   "cell_type": "code",
   "execution_count": 1,
   "id": "initial_id",
   "metadata": {
    "collapsed": true,
    "ExecuteTime": {
     "end_time": "2024-10-02T12:07:50.303381Z",
     "start_time": "2024-10-02T12:07:49.619046Z"
    }
   },
   "outputs": [],
   "source": [
    "import pandas as pd\n",
    "import numpy as np\n",
    "from datetime import datetime\n",
    "import fastparquet"
   ]
  },
  {
   "cell_type": "code",
   "outputs": [
    {
     "data": {
      "text/plain": "     Kraj Sprzedawca Data zamowienia  idZamowienia    Utarg\n0  Polska   Kowalski      2003-07-16         10248   440.00\n1  Polska   Sowiński      2003-07-10         10249  1863.40\n2  Niemcy    Peacock      2003-07-12         10250  1552.60\n3  Niemcy  Leverling      2003-07-15         10251   654.06\n4  Niemcy    Peacock      2003-07-11         10252  3597.90",
      "text/html": "<div>\n<style scoped>\n    .dataframe tbody tr th:only-of-type {\n        vertical-align: middle;\n    }\n\n    .dataframe tbody tr th {\n        vertical-align: top;\n    }\n\n    .dataframe thead th {\n        text-align: right;\n    }\n</style>\n<table border=\"1\" class=\"dataframe\">\n  <thead>\n    <tr style=\"text-align: right;\">\n      <th></th>\n      <th>Kraj</th>\n      <th>Sprzedawca</th>\n      <th>Data zamowienia</th>\n      <th>idZamowienia</th>\n      <th>Utarg</th>\n    </tr>\n  </thead>\n  <tbody>\n    <tr>\n      <th>0</th>\n      <td>Polska</td>\n      <td>Kowalski</td>\n      <td>2003-07-16</td>\n      <td>10248</td>\n      <td>440.00</td>\n    </tr>\n    <tr>\n      <th>1</th>\n      <td>Polska</td>\n      <td>Sowiński</td>\n      <td>2003-07-10</td>\n      <td>10249</td>\n      <td>1863.40</td>\n    </tr>\n    <tr>\n      <th>2</th>\n      <td>Niemcy</td>\n      <td>Peacock</td>\n      <td>2003-07-12</td>\n      <td>10250</td>\n      <td>1552.60</td>\n    </tr>\n    <tr>\n      <th>3</th>\n      <td>Niemcy</td>\n      <td>Leverling</td>\n      <td>2003-07-15</td>\n      <td>10251</td>\n      <td>654.06</td>\n    </tr>\n    <tr>\n      <th>4</th>\n      <td>Niemcy</td>\n      <td>Peacock</td>\n      <td>2003-07-11</td>\n      <td>10252</td>\n      <td>3597.90</td>\n    </tr>\n  </tbody>\n</table>\n</div>"
     },
     "metadata": {},
     "output_type": "display_data"
    },
    {
     "name": "stdout",
     "output_type": "stream",
     "text": [
      "<class 'pandas.core.frame.DataFrame'>\n",
      "RangeIndex: 799 entries, 0 to 798\n",
      "Data columns (total 5 columns):\n",
      " #   Column           Non-Null Count  Dtype  \n",
      "---  ------           --------------  -----  \n",
      " 0   Kraj             799 non-null    object \n",
      " 1   Sprzedawca       799 non-null    object \n",
      " 2   Data zamowienia  799 non-null    object \n",
      " 3   idZamowienia     799 non-null    int64  \n",
      " 4   Utarg            799 non-null    float64\n",
      "dtypes: float64(1), int64(1), object(3)\n",
      "memory usage: 31.3+ KB\n"
     ]
    }
   ],
   "source": [
    "# Optimizing already at the stage of loading data into pandas DataFrame\n",
    "# loading data from a file \"at once\" - an optimal solution for small files\n",
    "df = pd.read_csv('zamowienia.csv', header=0, sep=';')\n",
    "display(df.head())\n",
    "df.info()"
   ],
   "metadata": {
    "collapsed": false,
    "ExecuteTime": {
     "end_time": "2024-10-02T12:07:50.335938Z",
     "start_time": "2024-10-02T12:07:50.305018Z"
    }
   },
   "id": "b7b2f11d8abc0ba1",
   "execution_count": 2
  },
  {
   "cell_type": "code",
   "outputs": [
    {
     "data": {
      "text/plain": "Index               132\nKraj               6392\nSprzedawca         6392\nData zamowienia    6392\nidZamowienia       6392\nUtarg              6392\ndtype: int64"
     },
     "execution_count": 3,
     "metadata": {},
     "output_type": "execute_result"
    }
   ],
   "source": [
    "df.memory_usage()  # returned data type - pandas series"
   ],
   "metadata": {
    "collapsed": false,
    "ExecuteTime": {
     "end_time": "2024-10-02T12:07:50.346313Z",
     "start_time": "2024-10-02T12:07:50.338004Z"
    }
   },
   "id": "34a9e5e0c25fcdae",
   "execution_count": 3
  },
  {
   "cell_type": "code",
   "outputs": [
    {
     "data": {
      "text/plain": "32092"
     },
     "execution_count": 4,
     "metadata": {},
     "output_type": "execute_result"
    }
   ],
   "source": [
    "sum(df.memory_usage())  # default deep = False"
   ],
   "metadata": {
    "collapsed": false,
    "ExecuteTime": {
     "end_time": "2024-10-02T12:07:50.354401Z",
     "start_time": "2024-10-02T12:07:50.348399Z"
    }
   },
   "id": "64fdb10b36e17093",
   "execution_count": 4
  },
  {
   "cell_type": "code",
   "outputs": [
    {
     "data": {
      "text/plain": "150452"
     },
     "execution_count": 5,
     "metadata": {},
     "output_type": "execute_result"
    }
   ],
   "source": [
    "sum(df.memory_usage(deep=True))"
   ],
   "metadata": {
    "collapsed": false,
    "ExecuteTime": {
     "end_time": "2024-10-02T12:07:50.365660Z",
     "start_time": "2024-10-02T12:07:50.358091Z"
    }
   },
   "id": "721c29509c3f2940",
   "execution_count": 5
  },
  {
   "cell_type": "code",
   "outputs": [],
   "source": [
    "def size_of_format(num, suffix=\"B\"):\n",
    "    for unit in (\"\", \"Ki\", \"Mi\", \"Gi\", \"Ti\", \"Pi\", \"Ei\", \"Zi\"):\n",
    "        if abs(num) < 1024.0:\n",
    "            return f\"{num:3.1f}{unit}{suffix}\"\n",
    "        num /= 1024.0\n",
    "    return f\"{num:.1f}Yi{suffix}\""
   ],
   "metadata": {
    "collapsed": false,
    "ExecuteTime": {
     "end_time": "2024-10-02T12:07:50.372796Z",
     "start_time": "2024-10-02T12:07:50.367323Z"
    }
   },
   "id": "17da1349af149e0c",
   "execution_count": 6
  },
  {
   "cell_type": "code",
   "outputs": [
    {
     "data": {
      "text/plain": "'146.9KiB'"
     },
     "execution_count": 7,
     "metadata": {},
     "output_type": "execute_result"
    }
   ],
   "source": [
    "size_of_format(sum(df.memory_usage(deep=True)))"
   ],
   "metadata": {
    "collapsed": false,
    "ExecuteTime": {
     "end_time": "2024-10-02T12:07:50.382220Z",
     "start_time": "2024-10-02T12:07:50.373869Z"
    }
   },
   "id": "7a42a44cb3f7cbd6",
   "execution_count": 7
  },
  {
   "cell_type": "markdown",
   "source": [
    "## Optimization of file loading in pandas library"
   ],
   "metadata": {
    "collapsed": false
   },
   "id": "b718916caebdce78"
  },
  {
   "cell_type": "code",
   "outputs": [],
   "source": [
    "new_df = pd.concat([df.sample(frac=1) for n in range(10_000)])"
   ],
   "metadata": {
    "collapsed": false,
    "ExecuteTime": {
     "end_time": "2024-10-02T12:07:54.490939Z",
     "start_time": "2024-10-02T12:07:50.384306Z"
    }
   },
   "id": "aae1d8b4cdd1c40d",
   "execution_count": 8
  },
  {
   "cell_type": "code",
   "outputs": [
    {
     "name": "stdout",
     "output_type": "stream",
     "text": [
      "<class 'pandas.core.frame.DataFrame'>\n",
      "Index: 7990000 entries, 85 to 93\n",
      "Data columns (total 5 columns):\n",
      " #   Column           Dtype  \n",
      "---  ------           -----  \n",
      " 0   Kraj             object \n",
      " 1   Sprzedawca       object \n",
      " 2   Data zamowienia  object \n",
      " 3   idZamowienia     int64  \n",
      " 4   Utarg            float64\n",
      "dtypes: float64(1), int64(1), object(3)\n",
      "memory usage: 365.8+ MB\n"
     ]
    }
   ],
   "source": [
    "new_df.info()"
   ],
   "metadata": {
    "collapsed": false,
    "ExecuteTime": {
     "end_time": "2024-10-02T12:07:54.500723Z",
     "start_time": "2024-10-02T12:07:54.492018Z"
    }
   },
   "id": "1fbbf7dba5cd7659",
   "execution_count": 9
  },
  {
   "cell_type": "code",
   "outputs": [
    {
     "data": {
      "text/plain": "'1.5GiB'"
     },
     "execution_count": 10,
     "metadata": {},
     "output_type": "execute_result"
    }
   ],
   "source": [
    "size_of_format(sum(new_df.memory_usage(deep=True)))"
   ],
   "metadata": {
    "collapsed": false,
    "ExecuteTime": {
     "end_time": "2024-10-02T12:07:59.889202Z",
     "start_time": "2024-10-02T12:07:54.501797Z"
    }
   },
   "id": "88e349f6fa12fc1b",
   "execution_count": 10
  },
  {
   "cell_type": "code",
   "outputs": [],
   "source": [
    "new_df.to_csv('zamowienia_expanded.csv', header=True, index=False)"
   ],
   "metadata": {
    "collapsed": false,
    "ExecuteTime": {
     "end_time": "2024-10-02T12:08:18.446736Z",
     "start_time": "2024-10-02T12:07:59.892382Z"
    }
   },
   "id": "b629ee6bc30c09e7",
   "execution_count": 11
  },
  {
   "cell_type": "code",
   "outputs": [
    {
     "name": "stdout",
     "output_type": "stream",
     "text": [
      "Reading time - case 1: 0:00:05.249842 seconds\n"
     ]
    }
   ],
   "source": [
    "start = datetime.now()\n",
    "new_df = pd.read_csv('zamowienia_expanded.csv', header=0)\n",
    "print(f\"Reading time - case 1: {datetime.now() - start} seconds\")"
   ],
   "metadata": {
    "collapsed": false,
    "ExecuteTime": {
     "end_time": "2024-10-02T12:08:23.702656Z",
     "start_time": "2024-10-02T12:08:18.447773Z"
    }
   },
   "id": "a878cd020822453e",
   "execution_count": 12
  },
  {
   "cell_type": "code",
   "outputs": [],
   "source": [
    "def count_time(func):\n",
    "    def wrapper(*args, **kwargs):\n",
    "        start = datetime.now()\n",
    "        func(*args, **kwargs)\n",
    "        print(f\"Czas wczytywania {func.__name__}: {datetime.now() - start} sekund\")\n",
    "        return func(*args, **kwargs)\n",
    "    return wrapper"
   ],
   "metadata": {
    "collapsed": false,
    "ExecuteTime": {
     "end_time": "2024-10-02T12:08:23.710108Z",
     "start_time": "2024-10-02T12:08:23.703741Z"
    }
   },
   "id": "da103bfe5f3d99ff",
   "execution_count": 13
  },
  {
   "cell_type": "code",
   "outputs": [],
   "source": [
    "@count_time\n",
    "def read_file_1():\n",
    "    return pd.read_csv('zamowienia_expanded.csv', header=0)\n",
    "    \n",
    "@count_time\n",
    "def read_file_2():\n",
    "    chunks = pd.read_csv('zamowienia_expanded.csv', header=0, chunksize=800_000)\n",
    "    return pd.concat(chunks)"
   ],
   "metadata": {
    "collapsed": false,
    "ExecuteTime": {
     "end_time": "2024-10-02T12:08:23.716837Z",
     "start_time": "2024-10-02T12:08:23.711164Z"
    }
   },
   "id": "5a9c84505d6497e8",
   "execution_count": 14
  },
  {
   "cell_type": "code",
   "outputs": [
    {
     "name": "stdout",
     "output_type": "stream",
     "text": [
      "Czas wczytywania read_file_1: 0:00:04.956843 sekund\n",
      "Czas wczytywania read_file_2: 0:00:05.015193 sekund\n"
     ]
    }
   ],
   "source": [
    "df1 = read_file_1()\n",
    "df2 = read_file_2()"
   ],
   "metadata": {
    "collapsed": false,
    "ExecuteTime": {
     "end_time": "2024-10-02T12:08:43.426800Z",
     "start_time": "2024-10-02T12:08:23.717919Z"
    }
   },
   "id": "b537d6d1cbf63292",
   "execution_count": 15
  },
  {
   "cell_type": "code",
   "outputs": [
    {
     "data": {
      "text/plain": "('1.4GiB', '1.4GiB')"
     },
     "execution_count": 16,
     "metadata": {},
     "output_type": "execute_result"
    }
   ],
   "source": [
    "size_of_format(sum(df1.memory_usage(deep=True))), size_of_format(sum(df2.memory_usage(deep=True)))"
   ],
   "metadata": {
    "collapsed": false,
    "ExecuteTime": {
     "end_time": "2024-10-02T12:08:52.174633Z",
     "start_time": "2024-10-02T12:08:43.427912Z"
    }
   },
   "id": "326041cf559c4d53",
   "execution_count": 16
  },
  {
   "cell_type": "markdown",
   "source": [
    "## Other files formats"
   ],
   "metadata": {
    "collapsed": false
   },
   "id": "6487ba4d1de70e82"
  },
  {
   "cell_type": "code",
   "outputs": [],
   "source": [
    "df1.to_parquet('zamowienia_expanded.parquet', engine='fastparquet')"
   ],
   "metadata": {
    "collapsed": false,
    "ExecuteTime": {
     "end_time": "2024-10-02T12:09:20.982427Z",
     "start_time": "2024-10-02T12:09:16.680052Z"
    }
   },
   "id": "5d6c87100083c90",
   "execution_count": 17
  },
  {
   "cell_type": "code",
   "outputs": [],
   "source": [
    "@count_time\n",
    "def read_parquet_1():\n",
    "    df = pd.read_parquet('zamowienia_expanded.parquet', engine='fastparquet')\n",
    "    return df"
   ],
   "metadata": {
    "collapsed": false,
    "ExecuteTime": {
     "end_time": "2024-10-02T12:10:18.703973Z",
     "start_time": "2024-10-02T12:10:18.698916Z"
    }
   },
   "id": "964b9cccfc2fd45b",
   "execution_count": 18
  },
  {
   "cell_type": "code",
   "outputs": [
    {
     "name": "stdout",
     "output_type": "stream",
     "text": [
      "Czas wczytywania read_parquet_1: 0:00:03.003315 sekund\n"
     ]
    }
   ],
   "source": [
    "df3 = read_parquet_1()"
   ],
   "metadata": {
    "collapsed": false,
    "ExecuteTime": {
     "end_time": "2024-10-02T12:10:33.173824Z",
     "start_time": "2024-10-02T12:10:28.200669Z"
    }
   },
   "id": "c5f6f57c263673b1",
   "execution_count": 19
  },
  {
   "cell_type": "code",
   "outputs": [
    {
     "data": {
      "text/plain": "'1.4GiB'"
     },
     "execution_count": 21,
     "metadata": {},
     "output_type": "execute_result"
    }
   ],
   "source": [
    "size_of_format(sum(df3.memory_usage(deep=True)))"
   ],
   "metadata": {
    "collapsed": false,
    "ExecuteTime": {
     "end_time": "2024-10-02T12:10:49.690836Z",
     "start_time": "2024-10-02T12:10:45.006969Z"
    }
   },
   "id": "e5bb7de8111ac03f",
   "execution_count": 21
  },
  {
   "cell_type": "markdown",
   "source": [
    "## Multiprocessing"
   ],
   "metadata": {
    "collapsed": false
   },
   "id": "919a30dea0ca8cc2"
  },
  {
   "cell_type": "code",
   "outputs": [],
   "source": [
    "# from itertools import repeat\n",
    "# import pandas as pd\n",
    "# from datetime import datetime\n",
    "# from filesplit.split import Split\n",
    "# from multiprocessing import Pool\n",
    "# import os\n",
    "# \n",
    "# \n",
    "# def apply_args_and_kwargs(func, args, kwargs):\n",
    "#     return func(*args, **kwargs)\n",
    "# \n",
    "# \n",
    "# def starmap_with_kwargs(pool, func, args_iter, kwargs_iter):\n",
    "#     args_for_starmap = zip(repeat(func), args_iter, kwargs_iter)\n",
    "#     return pool.starmap(apply_args_and_kwargs, args_for_starmap)\n",
    "# \n",
    "# \n",
    "# def split_file(filepath, chunksize, destination):\n",
    "#     split = Split(filepath, destination)\n",
    "#     split.bylinecount(linecount=chunksize, includeheader=True)\n",
    "# \n",
    "# \n",
    "# @count_time\n",
    "# def load_files(directory):\n",
    "# \n",
    "#     files = [[f\"{directory}/{f}\"] for f in os.listdir(directory) if f.endswith(\".csv\")]\n",
    "# \n",
    "#     kwargs_list = [\n",
    "#         {\n",
    "#             'on_bad_lines': \"skip\",\n",
    "#         }\n",
    "#         for n in range(len(files))\n",
    "#     ]\n",
    "# \n",
    "#     pool = Pool(processes=5)\n",
    "#     args_iter = files\n",
    "# \n",
    "#     results = starmap_with_kwargs(pool, pd.read_csv, args_iter, kwargs_list)\n",
    "#     results = pd.concat(results)\n",
    "# \n",
    "#     return results\n",
    "# \n",
    "# \n",
    "# if __name__ == '__main__':\n",
    "#     split_file('zamowienia_expanded.csv', 1_600_000, 'data')\n",
    "#     df4 = load_files('data')\n",
    "#     df4.info()"
   ],
   "metadata": {
    "collapsed": false
   },
   "id": "5fc41b8a1dd3c86c"
  },
  {
   "cell_type": "markdown",
   "source": [
    "Czas wczytywania load_files: 0:00:04.820281 sekund\n",
    "<class 'pandas.core.frame.DataFrame'>\n",
    "Index: 7990000 entries, 0 to 1590003\n",
    "Data columns (total 5 columns):\n",
    " \\#   Column           Dtype  \n",
    "\\---  ------           -----  \n",
    " 0   Kraj             object \n",
    " 1   Sprzedawca       object \n",
    " 2   Data zamowienia  object \n",
    " 3   idZamowienia     int64  \n",
    " 4   Utarg            float64\n",
    "dtypes: float64(1), int64(1), object(3)\n",
    "memory usage: 365.8+ MB"
   ],
   "metadata": {
    "collapsed": false
   },
   "id": "9352cf7a820c63df"
  },
  {
   "cell_type": "markdown",
   "source": [
    "## Optimizing RAM usage of pandas library frames"
   ],
   "metadata": {
    "collapsed": false
   },
   "id": "827591075e6152d6"
  },
  {
   "cell_type": "code",
   "outputs": [
    {
     "name": "stdout",
     "output_type": "stream",
     "text": [
      "<class 'pandas.core.frame.DataFrame'>\n",
      "RangeIndex: 7990000 entries, 0 to 7989999\n",
      "Data columns (total 5 columns):\n",
      " #   Column           Dtype  \n",
      "---  ------           -----  \n",
      " 0   Kraj             object \n",
      " 1   Sprzedawca       object \n",
      " 2   Data zamowienia  object \n",
      " 3   idZamowienia     int64  \n",
      " 4   Utarg            float64\n",
      "dtypes: float64(1), int64(1), object(3)\n",
      "memory usage: 304.8+ MB\n"
     ]
    }
   ],
   "source": [
    "df1.info()"
   ],
   "metadata": {
    "collapsed": false,
    "ExecuteTime": {
     "end_time": "2024-10-02T12:26:51.950316Z",
     "start_time": "2024-10-02T12:26:51.939948Z"
    }
   },
   "id": "15a77935bd5816b2",
   "execution_count": 23
  },
  {
   "cell_type": "code",
   "outputs": [
    {
     "data": {
      "text/plain": "       idZamowienia         Utarg\ncount  7.990000e+06  7.990000e+06\nmean   1.064718e+04  1.537331e+03\nstd    2.309473e+02  1.859426e+03\nmin    1.024800e+04  1.250000e+01\n25%    1.044700e+04  4.657000e+02\n50%    1.064700e+04  9.566700e+02\n75%    1.084700e+04  1.892250e+03\nmax    1.105700e+04  1.638750e+04",
      "text/html": "<div>\n<style scoped>\n    .dataframe tbody tr th:only-of-type {\n        vertical-align: middle;\n    }\n\n    .dataframe tbody tr th {\n        vertical-align: top;\n    }\n\n    .dataframe thead th {\n        text-align: right;\n    }\n</style>\n<table border=\"1\" class=\"dataframe\">\n  <thead>\n    <tr style=\"text-align: right;\">\n      <th></th>\n      <th>idZamowienia</th>\n      <th>Utarg</th>\n    </tr>\n  </thead>\n  <tbody>\n    <tr>\n      <th>count</th>\n      <td>7.990000e+06</td>\n      <td>7.990000e+06</td>\n    </tr>\n    <tr>\n      <th>mean</th>\n      <td>1.064718e+04</td>\n      <td>1.537331e+03</td>\n    </tr>\n    <tr>\n      <th>std</th>\n      <td>2.309473e+02</td>\n      <td>1.859426e+03</td>\n    </tr>\n    <tr>\n      <th>min</th>\n      <td>1.024800e+04</td>\n      <td>1.250000e+01</td>\n    </tr>\n    <tr>\n      <th>25%</th>\n      <td>1.044700e+04</td>\n      <td>4.657000e+02</td>\n    </tr>\n    <tr>\n      <th>50%</th>\n      <td>1.064700e+04</td>\n      <td>9.566700e+02</td>\n    </tr>\n    <tr>\n      <th>75%</th>\n      <td>1.084700e+04</td>\n      <td>1.892250e+03</td>\n    </tr>\n    <tr>\n      <th>max</th>\n      <td>1.105700e+04</td>\n      <td>1.638750e+04</td>\n    </tr>\n  </tbody>\n</table>\n</div>"
     },
     "execution_count": 24,
     "metadata": {},
     "output_type": "execute_result"
    }
   ],
   "source": [
    "df1.describe()"
   ],
   "metadata": {
    "collapsed": false,
    "ExecuteTime": {
     "end_time": "2024-10-02T12:27:36.570165Z",
     "start_time": "2024-10-02T12:27:35.528713Z"
    }
   },
   "id": "43dbb5d767db5b17",
   "execution_count": 24
  },
  {
   "cell_type": "code",
   "outputs": [
    {
     "data": {
      "text/plain": "       idZamowienia         Utarg\ncount 7990000.00000 7990000.00000\nmean    10647.17522    1537.33091\nstd       230.94727    1859.42618\nmin     10248.00000      12.50000\n25%     10447.00000     465.70000\n50%     10647.00000     956.67000\n75%     10847.00000    1892.25000\nmax     11057.00000   16387.50000",
      "text/html": "<div>\n<style scoped>\n    .dataframe tbody tr th:only-of-type {\n        vertical-align: middle;\n    }\n\n    .dataframe tbody tr th {\n        vertical-align: top;\n    }\n\n    .dataframe thead th {\n        text-align: right;\n    }\n</style>\n<table border=\"1\" class=\"dataframe\">\n  <thead>\n    <tr style=\"text-align: right;\">\n      <th></th>\n      <th>idZamowienia</th>\n      <th>Utarg</th>\n    </tr>\n  </thead>\n  <tbody>\n    <tr>\n      <th>count</th>\n      <td>7990000.00000</td>\n      <td>7990000.00000</td>\n    </tr>\n    <tr>\n      <th>mean</th>\n      <td>10647.17522</td>\n      <td>1537.33091</td>\n    </tr>\n    <tr>\n      <th>std</th>\n      <td>230.94727</td>\n      <td>1859.42618</td>\n    </tr>\n    <tr>\n      <th>min</th>\n      <td>10248.00000</td>\n      <td>12.50000</td>\n    </tr>\n    <tr>\n      <th>25%</th>\n      <td>10447.00000</td>\n      <td>465.70000</td>\n    </tr>\n    <tr>\n      <th>50%</th>\n      <td>10647.00000</td>\n      <td>956.67000</td>\n    </tr>\n    <tr>\n      <th>75%</th>\n      <td>10847.00000</td>\n      <td>1892.25000</td>\n    </tr>\n    <tr>\n      <th>max</th>\n      <td>11057.00000</td>\n      <td>16387.50000</td>\n    </tr>\n  </tbody>\n</table>\n</div>"
     },
     "execution_count": 25,
     "metadata": {},
     "output_type": "execute_result"
    }
   ],
   "source": [
    "pd.options.display.float_format = '{:.5f}'.format\n",
    "df1.describe()"
   ],
   "metadata": {
    "collapsed": false,
    "ExecuteTime": {
     "end_time": "2024-10-02T12:29:16.360867Z",
     "start_time": "2024-10-02T12:29:15.313480Z"
    }
   },
   "id": "6aba948ed27ee3bd",
   "execution_count": 25
  },
  {
   "cell_type": "code",
   "outputs": [
    {
     "name": "stdout",
     "output_type": "stream",
     "text": [
      "Kraj: 419.1MiB\n",
      "Sprzedawca: 443.0MiB\n",
      "Data zamowienia: 449.6MiB\n",
      "idZamowienia: 61.0MiB\n",
      "Utarg: 61.0MiB\n"
     ]
    }
   ],
   "source": [
    "for column in df1.columns:\n",
    "    print(f'{column}: {size_of_format(df1[column].memory_usage(deep=True))}')"
   ],
   "metadata": {
    "collapsed": false,
    "ExecuteTime": {
     "end_time": "2024-10-02T12:30:53.179424Z",
     "start_time": "2024-10-02T12:30:48.357932Z"
    }
   },
   "id": "fc5a5c05f8203af7",
   "execution_count": 26
  },
  {
   "cell_type": "code",
   "outputs": [
    {
     "data": {
      "text/plain": "'15.2MiB'"
     },
     "execution_count": 27,
     "metadata": {},
     "output_type": "execute_result"
    }
   ],
   "source": [
    "size_of_format(df1['idZamowienia'].astype(np.int16).memory_usage(deep=True))"
   ],
   "metadata": {
    "collapsed": false,
    "ExecuteTime": {
     "end_time": "2024-10-02T12:31:10.350914Z",
     "start_time": "2024-10-02T12:31:10.334079Z"
    }
   },
   "id": "1f526feb51eaf5f7",
   "execution_count": 27
  },
  {
   "cell_type": "code",
   "outputs": [
    {
     "data": {
      "text/plain": "'7.6MiB'"
     },
     "execution_count": 29,
     "metadata": {},
     "output_type": "execute_result"
    }
   ],
   "source": [
    "size_of_format(df1['Kraj'].astype('category').memory_usage(deep=True))"
   ],
   "metadata": {
    "collapsed": false,
    "ExecuteTime": {
     "end_time": "2024-10-02T12:31:43.119316Z",
     "start_time": "2024-10-02T12:31:42.547818Z"
    }
   },
   "id": "2f4e2f3b3d9ef16d",
   "execution_count": 29
  },
  {
   "cell_type": "code",
   "outputs": [
    {
     "data": {
      "text/plain": "'7.6MiB'"
     },
     "execution_count": 30,
     "metadata": {},
     "output_type": "execute_result"
    }
   ],
   "source": [
    "size_of_format(df1['Sprzedawca'].astype('category').memory_usage(deep=True))"
   ],
   "metadata": {
    "collapsed": false,
    "ExecuteTime": {
     "end_time": "2024-10-02T12:31:45.926378Z",
     "start_time": "2024-10-02T12:31:45.418656Z"
    }
   },
   "id": "5f5501b827522d63",
   "execution_count": 30
  },
  {
   "cell_type": "code",
   "outputs": [
    {
     "data": {
      "text/plain": "'61.0MiB'"
     },
     "execution_count": 31,
     "metadata": {},
     "output_type": "execute_result"
    }
   ],
   "source": [
    "size_of_format(pd.to_datetime(df1['Data zamowienia']).memory_usage(deep=True))"
   ],
   "metadata": {
    "collapsed": false,
    "ExecuteTime": {
     "end_time": "2024-10-02T12:31:49.335512Z",
     "start_time": "2024-10-02T12:31:47.719287Z"
    }
   },
   "id": "aae39940b85cd457",
   "execution_count": 31
  },
  {
   "cell_type": "code",
   "outputs": [],
   "source": [
    "df2 = pd.DataFrame()"
   ],
   "metadata": {
    "collapsed": false,
    "ExecuteTime": {
     "end_time": "2024-10-02T12:31:58.261474Z",
     "start_time": "2024-10-02T12:31:58.181512Z"
    }
   },
   "id": "8899f8b55faf2c9a",
   "execution_count": 32
  },
  {
   "cell_type": "code",
   "outputs": [],
   "source": [
    "df2['Kraj'] = df1['Kraj'].astype('category')\n",
    "df2['Sprzedawca'] = df1['Sprzedawca'].astype('category')\n",
    "df2['Data zamowienia'] = pd.to_datetime(df1['Data zamowienia'])\n",
    "df2['idZamowienia'] = df1['idZamowienia'].astype(np.int16)\n",
    "df2['Utarg'] = df1['Utarg']"
   ],
   "metadata": {
    "collapsed": false,
    "ExecuteTime": {
     "end_time": "2024-10-02T12:32:16.312234Z",
     "start_time": "2024-10-02T12:32:14.095259Z"
    }
   },
   "id": "9a77e6699ac0b3dc",
   "execution_count": 33
  },
  {
   "cell_type": "code",
   "outputs": [
    {
     "data": {
      "text/plain": "'152.4MiB'"
     },
     "execution_count": 34,
     "metadata": {},
     "output_type": "execute_result"
    }
   ],
   "source": [
    "size_of_format(sum(df2.memory_usage(deep=True)))"
   ],
   "metadata": {
    "collapsed": false,
    "ExecuteTime": {
     "end_time": "2024-10-02T12:32:25.902364Z",
     "start_time": "2024-10-02T12:32:25.895096Z"
    }
   },
   "id": "d76805edd997425e",
   "execution_count": 34
  },
  {
   "cell_type": "code",
   "outputs": [
    {
     "data": {
      "text/plain": "('30.5MiB', dtype('float32'))"
     },
     "execution_count": 35,
     "metadata": {},
     "output_type": "execute_result"
    }
   ],
   "source": [
    "utarg_downcast = pd.to_numeric(df2[\"Utarg\"], downcast='float')\n",
    "size_of_format(utarg_downcast.memory_usage(deep=True)), utarg_downcast.dtype"
   ],
   "metadata": {
    "collapsed": false,
    "ExecuteTime": {
     "end_time": "2024-10-02T12:32:56.078926Z",
     "start_time": "2024-10-02T12:32:55.841613Z"
    }
   },
   "id": "303ea4d1ee516460",
   "execution_count": 35
  },
  {
   "cell_type": "code",
   "outputs": [
    {
     "data": {
      "text/plain": "'121.9MiB'"
     },
     "execution_count": 36,
     "metadata": {},
     "output_type": "execute_result"
    }
   ],
   "source": [
    "df2['Utarg'] =  pd.to_numeric(df1[\"Utarg\"], downcast='float')\n",
    "size_of_format(sum(df2.memory_usage(deep=True)))"
   ],
   "metadata": {
    "collapsed": false,
    "ExecuteTime": {
     "end_time": "2024-10-02T12:33:09.685273Z",
     "start_time": "2024-10-02T12:33:09.501950Z"
    }
   },
   "id": "e243f4442aafa615",
   "execution_count": 36
  },
  {
   "cell_type": "code",
   "outputs": [
    {
     "name": "stdout",
     "output_type": "stream",
     "text": [
      "Kraj: 7.6MiB\n",
      "Sprzedawca: 7.6MiB\n",
      "Data zamowienia: 61.0MiB\n",
      "idZamowienia: 15.2MiB\n",
      "Utarg: 30.5MiB\n"
     ]
    }
   ],
   "source": [
    "for column in df2.columns:\n",
    "    print(f'{column}: {size_of_format(df2[column].memory_usage(deep=True))}')"
   ],
   "metadata": {
    "collapsed": false,
    "ExecuteTime": {
     "end_time": "2024-10-02T12:33:24.003248Z",
     "start_time": "2024-10-02T12:33:23.997001Z"
    }
   },
   "id": "8773fc04bc19076e",
   "execution_count": 37
  },
  {
   "cell_type": "code",
   "outputs": [
    {
     "name": "stdout",
     "output_type": "stream",
     "text": [
      "<class 'pandas.core.frame.DataFrame'>\n",
      "RangeIndex: 7990000 entries, 0 to 7989999\n",
      "Data columns (total 5 columns):\n",
      " #   Column           Dtype         \n",
      "---  ------           -----         \n",
      " 0   Kraj             category      \n",
      " 1   Sprzedawca       category      \n",
      " 2   Data zamowienia  datetime64[ns]\n",
      " 3   idZamowienia     int16         \n",
      " 4   Utarg            float32       \n",
      "dtypes: category(2), datetime64[ns](1), float32(1), int16(1)\n",
      "memory usage: 121.9 MB\n"
     ]
    },
    {
     "data": {
      "text/plain": "                     Data zamowienia  idZamowienia         Utarg\ncount                        7990000 7990000.00000 7990000.00000\nmean   2004-08-05 22:13:40.025031424   10647.17522    1537.33032\nmin              2003-07-10 00:00:00   10248.00000      12.50000\n25%              2004-02-26 00:00:00   10447.00000     465.70001\n50%              2004-09-03 00:00:00   10647.00000     956.66998\n75%              2005-02-02 00:00:00   10847.00000    1892.25000\nmax              2005-05-01 00:00:00   11057.00000   16387.50000\nstd                              NaN     230.94727    1859.42615",
      "text/html": "<div>\n<style scoped>\n    .dataframe tbody tr th:only-of-type {\n        vertical-align: middle;\n    }\n\n    .dataframe tbody tr th {\n        vertical-align: top;\n    }\n\n    .dataframe thead th {\n        text-align: right;\n    }\n</style>\n<table border=\"1\" class=\"dataframe\">\n  <thead>\n    <tr style=\"text-align: right;\">\n      <th></th>\n      <th>Data zamowienia</th>\n      <th>idZamowienia</th>\n      <th>Utarg</th>\n    </tr>\n  </thead>\n  <tbody>\n    <tr>\n      <th>count</th>\n      <td>7990000</td>\n      <td>7990000.00000</td>\n      <td>7990000.00000</td>\n    </tr>\n    <tr>\n      <th>mean</th>\n      <td>2004-08-05 22:13:40.025031424</td>\n      <td>10647.17522</td>\n      <td>1537.33032</td>\n    </tr>\n    <tr>\n      <th>min</th>\n      <td>2003-07-10 00:00:00</td>\n      <td>10248.00000</td>\n      <td>12.50000</td>\n    </tr>\n    <tr>\n      <th>25%</th>\n      <td>2004-02-26 00:00:00</td>\n      <td>10447.00000</td>\n      <td>465.70001</td>\n    </tr>\n    <tr>\n      <th>50%</th>\n      <td>2004-09-03 00:00:00</td>\n      <td>10647.00000</td>\n      <td>956.66998</td>\n    </tr>\n    <tr>\n      <th>75%</th>\n      <td>2005-02-02 00:00:00</td>\n      <td>10847.00000</td>\n      <td>1892.25000</td>\n    </tr>\n    <tr>\n      <th>max</th>\n      <td>2005-05-01 00:00:00</td>\n      <td>11057.00000</td>\n      <td>16387.50000</td>\n    </tr>\n    <tr>\n      <th>std</th>\n      <td>NaN</td>\n      <td>230.94727</td>\n      <td>1859.42615</td>\n    </tr>\n  </tbody>\n</table>\n</div>"
     },
     "execution_count": 38,
     "metadata": {},
     "output_type": "execute_result"
    }
   ],
   "source": [
    "df2.info()\n",
    "df2.describe()"
   ],
   "metadata": {
    "collapsed": false,
    "ExecuteTime": {
     "end_time": "2024-10-02T12:33:36.523325Z",
     "start_time": "2024-10-02T12:33:34.990132Z"
    }
   },
   "id": "dbc56c72e91c0ac",
   "execution_count": 38
  },
  {
   "cell_type": "code",
   "outputs": [
    {
     "data": {
      "text/plain": "                Utarg\n                 mean\nSprzedawca           \nCallahan   1242.75424\nDavolio    1559.82983\nDudek      1830.44000\nFuller     1766.34543\nKing       1745.71627\nKowalski   1637.91071\nLeverling  1609.57016\nPeacock    1495.12371\nSowiński   1115.80969",
      "text/html": "<div>\n<style scoped>\n    .dataframe tbody tr th:only-of-type {\n        vertical-align: middle;\n    }\n\n    .dataframe tbody tr th {\n        vertical-align: top;\n    }\n\n    .dataframe thead tr th {\n        text-align: left;\n    }\n\n    .dataframe thead tr:last-of-type th {\n        text-align: right;\n    }\n</style>\n<table border=\"1\" class=\"dataframe\">\n  <thead>\n    <tr>\n      <th></th>\n      <th>Utarg</th>\n    </tr>\n    <tr>\n      <th></th>\n      <th>mean</th>\n    </tr>\n    <tr>\n      <th>Sprzedawca</th>\n      <th></th>\n    </tr>\n  </thead>\n  <tbody>\n    <tr>\n      <th>Callahan</th>\n      <td>1242.75424</td>\n    </tr>\n    <tr>\n      <th>Davolio</th>\n      <td>1559.82983</td>\n    </tr>\n    <tr>\n      <th>Dudek</th>\n      <td>1830.44000</td>\n    </tr>\n    <tr>\n      <th>Fuller</th>\n      <td>1766.34543</td>\n    </tr>\n    <tr>\n      <th>King</th>\n      <td>1745.71627</td>\n    </tr>\n    <tr>\n      <th>Kowalski</th>\n      <td>1637.91071</td>\n    </tr>\n    <tr>\n      <th>Leverling</th>\n      <td>1609.57016</td>\n    </tr>\n    <tr>\n      <th>Peacock</th>\n      <td>1495.12371</td>\n    </tr>\n    <tr>\n      <th>Sowiński</th>\n      <td>1115.80969</td>\n    </tr>\n  </tbody>\n</table>\n</div>"
     },
     "metadata": {},
     "output_type": "display_data"
    },
    {
     "name": "stdout",
     "output_type": "stream",
     "text": [
      "Time: 0:00:00.945330\n"
     ]
    }
   ],
   "source": [
    "start = datetime.now()\n",
    "display(df1.groupby(['Sprzedawca']).agg({'Utarg': ['mean']}))\n",
    "print(f'Time: {datetime.now() - start}')"
   ],
   "metadata": {
    "collapsed": false,
    "ExecuteTime": {
     "end_time": "2024-10-02T12:34:23.253807Z",
     "start_time": "2024-10-02T12:34:22.302594Z"
    }
   },
   "id": "10153738e6710b21",
   "execution_count": 41
  },
  {
   "cell_type": "code",
   "outputs": [
    {
     "name": "stderr",
     "output_type": "stream",
     "text": [
      "C:\\Users\\Adam\\AppData\\Local\\Temp\\ipykernel_20768\\173072329.py:2: FutureWarning: The default of observed=False is deprecated and will be changed to True in a future version of pandas. Pass observed=False to retain current behavior or observed=True to adopt the future default and silence this warning.\n",
      "  display(df2.groupby(['Sprzedawca']).agg({'Utarg': ['mean']}))\n"
     ]
    },
    {
     "data": {
      "text/plain": "                Utarg\n                 mean\nSprzedawca           \nCallahan   1242.75415\nDavolio    1559.82983\nDudek      1830.43994\nFuller     1766.34546\nKing       1745.71631\nKowalski   1637.91064\nLeverling  1609.57019\nPeacock    1495.12378\nSowiński   1115.80969",
      "text/html": "<div>\n<style scoped>\n    .dataframe tbody tr th:only-of-type {\n        vertical-align: middle;\n    }\n\n    .dataframe tbody tr th {\n        vertical-align: top;\n    }\n\n    .dataframe thead tr th {\n        text-align: left;\n    }\n\n    .dataframe thead tr:last-of-type th {\n        text-align: right;\n    }\n</style>\n<table border=\"1\" class=\"dataframe\">\n  <thead>\n    <tr>\n      <th></th>\n      <th>Utarg</th>\n    </tr>\n    <tr>\n      <th></th>\n      <th>mean</th>\n    </tr>\n    <tr>\n      <th>Sprzedawca</th>\n      <th></th>\n    </tr>\n  </thead>\n  <tbody>\n    <tr>\n      <th>Callahan</th>\n      <td>1242.75415</td>\n    </tr>\n    <tr>\n      <th>Davolio</th>\n      <td>1559.82983</td>\n    </tr>\n    <tr>\n      <th>Dudek</th>\n      <td>1830.43994</td>\n    </tr>\n    <tr>\n      <th>Fuller</th>\n      <td>1766.34546</td>\n    </tr>\n    <tr>\n      <th>King</th>\n      <td>1745.71631</td>\n    </tr>\n    <tr>\n      <th>Kowalski</th>\n      <td>1637.91064</td>\n    </tr>\n    <tr>\n      <th>Leverling</th>\n      <td>1609.57019</td>\n    </tr>\n    <tr>\n      <th>Peacock</th>\n      <td>1495.12378</td>\n    </tr>\n    <tr>\n      <th>Sowiński</th>\n      <td>1115.80969</td>\n    </tr>\n  </tbody>\n</table>\n</div>"
     },
     "metadata": {},
     "output_type": "display_data"
    },
    {
     "name": "stdout",
     "output_type": "stream",
     "text": [
      "Time: 0:00:00.076219\n"
     ]
    }
   ],
   "source": [
    "start = datetime.now()\n",
    "display(df2.groupby(['Sprzedawca']).agg({'Utarg': ['mean']}))\n",
    "print(f'Time: {datetime.now() - start}')"
   ],
   "metadata": {
    "collapsed": false,
    "ExecuteTime": {
     "end_time": "2024-10-02T12:34:31.351779Z",
     "start_time": "2024-10-02T12:34:31.271471Z"
    }
   },
   "id": "2680eb3547818e2e",
   "execution_count": 42
  }
 ],
 "metadata": {
  "kernelspec": {
   "display_name": "Python 3",
   "language": "python",
   "name": "python3"
  },
  "language_info": {
   "codemirror_mode": {
    "name": "ipython",
    "version": 2
   },
   "file_extension": ".py",
   "mimetype": "text/x-python",
   "name": "python",
   "nbconvert_exporter": "python",
   "pygments_lexer": "ipython2",
   "version": "2.7.6"
  }
 },
 "nbformat": 4,
 "nbformat_minor": 5
}
