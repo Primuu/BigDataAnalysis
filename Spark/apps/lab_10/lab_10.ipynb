{
 "cells": [
  {
   "cell_type": "code",
   "execution_count": 1,
   "id": "42d65691-5c8c-408a-bde2-6d9c7ba4afb3",
   "metadata": {},
   "outputs": [],
   "source": [
    "import findspark\n",
    "from pyspark.sql import SparkSession\n",
    "from pyspark.ml.feature import StringIndexer, OneHotEncoder, VectorAssembler\n",
    "from pyspark.ml.regression import LinearRegression\n",
    "from pyspark.sql.functions import col"
   ]
  },
  {
   "cell_type": "code",
   "execution_count": 2,
   "id": "1c00a412-4648-4313-915b-87880bd10b63",
   "metadata": {},
   "outputs": [
    {
     "name": "stderr",
     "output_type": "stream",
     "text": [
      "Setting default log level to \"WARN\".\n",
      "To adjust logging level use sc.setLogLevel(newLevel). For SparkR, use setLogLevel(newLevel).\n",
      "25/01/02 17:36:23 WARN NativeCodeLoader: Unable to load native-hadoop library for your platform... using builtin-java classes where applicable\n"
     ]
    },
    {
     "data": {
      "text/html": [
       "\n",
       "        <div>\n",
       "            <p><b>SparkContext</b></p>\n",
       "\n",
       "            <p><a href=\"http://1cbe52689fc6:4040\">Spark UI</a></p>\n",
       "\n",
       "            <dl>\n",
       "              <dt>Version</dt>\n",
       "                <dd><code>v3.5.3</code></dd>\n",
       "              <dt>Master</dt>\n",
       "                <dd><code>local[2]</code></dd>\n",
       "              <dt>AppName</dt>\n",
       "                <dd><code>Spark MLlib</code></dd>\n",
       "            </dl>\n",
       "        </div>\n",
       "        "
      ],
      "text/plain": [
       "<SparkContext master=local[2] appName=Spark MLlib>"
      ]
     },
     "execution_count": 2,
     "metadata": {},
     "output_type": "execute_result"
    }
   ],
   "source": [
    "findspark.init()\n",
    "\n",
    "spark = SparkSession\\\n",
    "        .builder\\\n",
    "        .master(\"local[2]\")\\\n",
    "        .appName(\"Spark MLlib\")\\\n",
    "        .getOrCreate()\n",
    "spark.sparkContext"
   ]
  },
  {
   "cell_type": "code",
   "execution_count": 3,
   "id": "6d525a2f-51f0-4cf9-92b5-ecdab41b517c",
   "metadata": {},
   "outputs": [
    {
     "name": "stdout",
     "output_type": "stream",
     "text": [
      "root\n",
      " |-- Title: string (nullable = true)\n",
      " |-- Price: double (nullable = true)\n",
      " |-- Location: string (nullable = true)\n",
      " |-- Surface: string (nullable = true)\n",
      " |-- Number_of_Rooms: string (nullable = true)\n",
      " |-- Floor: string (nullable = true)\n",
      " |-- Finishing_Condition: string (nullable = true)\n",
      " |-- Heating: string (nullable = true)\n",
      " |-- Parking_Space: string (nullable = true)\n",
      " |-- Balcony_Garden_Terrace: string (nullable = true)\n",
      " |-- Link: string (nullable = true)\n",
      " |-- Voivodeship: string (nullable = true)\n",
      " |-- City: string (nullable = true)\n",
      "\n",
      "+--------------------+---------+--------------------+-------+---------------+-----+-------------------+--------+--------------------+----------------------+--------------------+------------------+-------------------+\n",
      "|               Title|    Price|            Location|Surface|Number_of_Rooms|Floor|Finishing_Condition| Heating|       Parking_Space|Balcony_Garden_Terrace|                Link|       Voivodeship|               City|\n",
      "+--------------------+---------+--------------------+-------+---------------+-----+-------------------+--------+--------------------+----------------------+--------------------+------------------+-------------------+\n",
      "|2 pokoje 47m2 po ...| 415000.0|ul. Marysińska, S...|   47.0|             2 | NULL|    do zamieszkania|miejskie|garaż/miejsce par...|                balkon|https://www.otodo...|           Łódzkie|               Łódź|\n",
      "|Właściciel- Ludwi...|2499000.0|ul. Ludwiki, Czys...|  105.0|             4 |  2/8|     do wykończenia|miejskie|garaż/miejsce par...|                balkon|https://www.otodo...|       Mazowieckie|           Warszawa|\n",
      "|Sprzedam mieszkan...| 649000.0|ul. Londyńska, Go...|   60.0|             3 |  4/4|    do zamieszkania|miejskie|                NULL|         balkon, taras|https://www.otodo...|          Lubuskie|Gorzów Wielkopolski|\n",
      "|Wyjątkowy, duży a...|2108000.0|Mrzeżyno, Trzebia...|   78.3|             3 |  4/4|     do wykończenia|    NULL|garaż/miejsce par...|                  NULL|https://www.otodo...|Zachodniopomorskie|           gryficki|\n",
      "|2/3-pok. 49,2 m2 ...| 450180.0|ul. Bartosza Głow...|   49.2|             2 |  2/3|    do zamieszkania|miejskie|garaż/miejsce par...|                balkon|https://www.otodo...|Zachodniopomorskie|           Koszalin|\n",
      "+--------------------+---------+--------------------+-------+---------------+-----+-------------------+--------+--------------------+----------------------+--------------------+------------------+-------------------+\n",
      "only showing top 5 rows\n",
      "\n"
     ]
    }
   ],
   "source": [
    "df = spark.read.csv(\"data/Otodom_Flat_Listings.csv\", header=True, inferSchema=True)\n",
    "df.printSchema()\n",
    "df.show(5)"
   ]
  },
  {
   "cell_type": "code",
   "execution_count": 4,
   "id": "e05a398e-33d8-4260-93a6-4bfd2c156f39",
   "metadata": {},
   "outputs": [
    {
     "name": "stderr",
     "output_type": "stream",
     "text": [
      "                                                                                "
     ]
    }
   ],
   "source": [
    "df = df.na.drop()\n",
    "indexer = StringIndexer(inputCol=\"City\", outputCol=\"City_Index\")\n",
    "df_indexed = indexer.fit(df).transform(df)\n",
    "\n",
    "encoder = OneHotEncoder(inputCols=[\"City_Index\"], outputCols=[\"City_OneHot\"])\n",
    "df_encoded = encoder.fit(df_indexed).transform(df_indexed)"
   ]
  },
  {
   "cell_type": "code",
   "execution_count": 5,
   "id": "7861b36e-1cb3-4b45-93f5-40f8755e56b9",
   "metadata": {},
   "outputs": [],
   "source": [
    "df_encoded = df_encoded.withColumn(\"Surface\", col(\"Surface\").cast(\"float\"))\n",
    "df_encoded = df_encoded.withColumn(\"Number_of_Rooms\", col(\"Number_of_Rooms\").cast(\"int\"))"
   ]
  },
  {
   "cell_type": "code",
   "execution_count": 6,
   "id": "bb4ccf06-ecd9-449e-ba07-a55ef2a31d32",
   "metadata": {},
   "outputs": [],
   "source": [
    "features = [\"Surface\", \"Number_of_Rooms\", \"City_OneHot\"]\n",
    "assembler = VectorAssembler(inputCols=features, outputCol=\"features\", handleInvalid=\"skip\")\n",
    "df_final = assembler.transform(df_encoded).select(\"features\", \"Price\")"
   ]
  },
  {
   "cell_type": "code",
   "execution_count": 7,
   "id": "8e2b4da3-7715-4a47-8958-bb5df2625791",
   "metadata": {},
   "outputs": [
    {
     "name": "stderr",
     "output_type": "stream",
     "text": [
      "25/01/02 17:36:35 WARN InstanceBuilder: Failed to load implementation from:dev.ludovic.netlib.blas.JNIBLAS\n",
      "25/01/02 17:36:35 WARN InstanceBuilder: Failed to load implementation from:dev.ludovic.netlib.blas.VectorBLAS\n",
      "25/01/02 17:36:35 WARN InstanceBuilder: Failed to load implementation from:dev.ludovic.netlib.lapack.JNILAPACK\n"
     ]
    },
    {
     "name": "stdout",
     "output_type": "stream",
     "text": [
      "RMSE: 5721116.441732182\n",
      "R2: 0.4060548844056562\n",
      "MSE: 32731173339858.3\n"
     ]
    }
   ],
   "source": [
    "train_data, test_data = df_final.randomSplit([0.8, 0.2])\n",
    "lr = LinearRegression(featuresCol=\"features\", labelCol=\"Price\", regParam=0.1)\n",
    "lrModel = lr.fit(train_data)\n",
    "\n",
    "test_stats = lrModel.evaluate(test_data)\n",
    "print(f\"RMSE: {test_stats.rootMeanSquaredError}\")\n",
    "print(f\"R2: {test_stats.r2}\")\n",
    "print(f\"MSE: {test_stats.meanSquaredError}\")"
   ]
  }
 ],
 "metadata": {
  "kernelspec": {
   "display_name": "Python 3 (ipykernel)",
   "language": "python",
   "name": "python3"
  },
  "language_info": {
   "codemirror_mode": {
    "name": "ipython",
    "version": 3
   },
   "file_extension": ".py",
   "mimetype": "text/x-python",
   "name": "python",
   "nbconvert_exporter": "python",
   "pygments_lexer": "ipython3",
   "version": "3.10.12"
  }
 },
 "nbformat": 4,
 "nbformat_minor": 5
}
