{
 "cells": [
  {
   "cell_type": "code",
   "execution_count": 3,
   "id": "initial_id",
   "metadata": {
    "collapsed": true,
    "ExecuteTime": {
     "end_time": "2024-10-23T16:55:52.933245Z",
     "start_time": "2024-10-23T16:55:52.926440Z"
    }
   },
   "outputs": [],
   "source": [
    "import dask.array as da\n",
    "import xgboost as xgb\n",
    "from dask_ml.model_selection import KFold\n",
    "from sklearn.metrics import confusion_matrix\n",
    "from sklearn.datasets import fetch_covtype\n",
    "from dask_ml.model_selection import GridSearchCV\n",
    "from sklearn.preprocessing import LabelEncoder\n",
    "from xgboost import XGBClassifier\n",
    "from dask.distributed import LocalCluster"
   ]
  },
  {
   "cell_type": "markdown",
   "source": [
    "### Task 1\n",
    "Uruchom przykład Incremental learning z punktu 2.1 dobierając parametry tak, aby ilość danych do przeliczenia była większa niż sumaryczna ilość pamięci RAM workerów. Obserwuj daszboard i w razie niepowodzenia dostosuj wielkość i ilość chunków tak, aby obliczenia się wykonały na tych samych parametrach workerów. Zobacz jak wygląda struktura pamięci na workerach, czy nie dochodzi do zrzucania pamięci na dysk (zapewne będzie on wąskim gardłem, więc w menedżerze będzie widać jego mocne obciążenie). Zastanów się czy można to jakoś zoptymalizować przy dostępnych workerach i wykonaj kilka eksperymentów szukając większej wydajności i krótszego czasu wykonania całego zadania."
   ],
   "metadata": {
    "collapsed": false
   },
   "id": "8232dbcc35be1b37"
  },
  {
   "cell_type": "code",
   "outputs": [],
   "source": [
    "cov = fetch_covtype()\n",
    "X, y = cov.data, cov.target\n",
    "\n",
    "le = LabelEncoder()\n",
    "y = le.fit_transform(y)"
   ],
   "metadata": {
    "collapsed": false,
    "ExecuteTime": {
     "end_time": "2024-10-23T16:06:18.329521Z",
     "start_time": "2024-10-23T16:06:17.668166Z"
    }
   },
   "id": "fba01e4d09822e41",
   "execution_count": 2
  },
  {
   "cell_type": "code",
   "outputs": [],
   "source": [
    "X = da.from_array(X, chunks=(X.shape[0] // 64, X.shape[1]))\n",
    "y = da.from_array(y, chunks=(y.shape[0] // 64,))"
   ],
   "metadata": {
    "collapsed": false,
    "ExecuteTime": {
     "end_time": "2024-10-23T16:06:18.471772Z",
     "start_time": "2024-10-23T16:06:18.330028Z"
    }
   },
   "id": "8a421457ed65781d",
   "execution_count": 3
  },
  {
   "cell_type": "code",
   "outputs": [
    {
     "data": {
      "text/plain": "LocalCluster(bf27903f, 'tcp://127.0.0.1:50887', workers=4, threads=4, memory=3.73 GiB)",
      "application/vnd.jupyter.widget-view+json": {
       "version_major": 2,
       "version_minor": 0,
       "model_id": "d91d5bd012aa45acac2fd5c0f85dc833"
      },
      "text/html": "<div class=\"jp-RenderedHTMLCommon jp-RenderedHTML jp-mod-trusted jp-OutputArea-output\">\n    <div style=\"width: 24px; height: 24px; background-color: #e1e1e1; border: 3px solid #9D9D9D; border-radius: 5px; position: absolute;\">\n    </div>\n    <div style=\"margin-left: 48px;\">\n        <h3 style=\"margin-bottom: 0px; margin-top: 0px;\">LocalCluster</h3>\n        <p style=\"color: #9D9D9D; margin-bottom: 0px;\">bf27903f</p>\n        <table style=\"width: 100%; text-align: left;\">\n            <tr>\n                <td style=\"text-align: left;\">\n                    <strong>Dashboard:</strong> <a href=\"http://127.0.0.1:8787/status\" target=\"_blank\">http://127.0.0.1:8787/status</a>\n                </td>\n                <td style=\"text-align: left;\">\n                    <strong>Workers:</strong> 4\n                </td>\n            </tr>\n            <tr>\n                <td style=\"text-align: left;\">\n                    <strong>Total threads:</strong> 4\n                </td>\n                <td style=\"text-align: left;\">\n                    <strong>Total memory:</strong> 3.73 GiB\n                </td>\n            </tr>\n            \n            <tr>\n    <td style=\"text-align: left;\"><strong>Status:</strong> running</td>\n    <td style=\"text-align: left;\"><strong>Using processes:</strong> True</td>\n</tr>\n\n            \n        </table>\n\n        <details>\n            <summary style=\"margin-bottom: 20px;\">\n                <h3 style=\"display: inline;\">Scheduler Info</h3>\n            </summary>\n\n            <div style=\"\">\n    <div>\n        <div style=\"width: 24px; height: 24px; background-color: #FFF7E5; border: 3px solid #FF6132; border-radius: 5px; position: absolute;\"> </div>\n        <div style=\"margin-left: 48px;\">\n            <h3 style=\"margin-bottom: 0px;\">Scheduler</h3>\n            <p style=\"color: #9D9D9D; margin-bottom: 0px;\">Scheduler-864745d9-17f1-407d-bbe5-c52ca7532fa4</p>\n            <table style=\"width: 100%; text-align: left;\">\n                <tr>\n                    <td style=\"text-align: left;\">\n                        <strong>Comm:</strong> tcp://127.0.0.1:50887\n                    </td>\n                    <td style=\"text-align: left;\">\n                        <strong>Workers:</strong> 4\n                    </td>\n                </tr>\n                <tr>\n                    <td style=\"text-align: left;\">\n                        <strong>Dashboard:</strong> <a href=\"http://127.0.0.1:8787/status\" target=\"_blank\">http://127.0.0.1:8787/status</a>\n                    </td>\n                    <td style=\"text-align: left;\">\n                        <strong>Total threads:</strong> 4\n                    </td>\n                </tr>\n                <tr>\n                    <td style=\"text-align: left;\">\n                        <strong>Started:</strong> Just now\n                    </td>\n                    <td style=\"text-align: left;\">\n                        <strong>Total memory:</strong> 3.73 GiB\n                    </td>\n                </tr>\n            </table>\n        </div>\n    </div>\n\n    <details style=\"margin-left: 48px;\">\n        <summary style=\"margin-bottom: 20px;\">\n            <h3 style=\"display: inline;\">Workers</h3>\n        </summary>\n\n        \n        <div style=\"margin-bottom: 20px;\">\n            <div style=\"width: 24px; height: 24px; background-color: #DBF5FF; border: 3px solid #4CC9FF; border-radius: 5px; position: absolute;\"> </div>\n            <div style=\"margin-left: 48px;\">\n            <details>\n                <summary>\n                    <h4 style=\"margin-bottom: 0px; display: inline;\">Worker: 0</h4>\n                </summary>\n                <table style=\"width: 100%; text-align: left;\">\n                    <tr>\n                        <td style=\"text-align: left;\">\n                            <strong>Comm: </strong> tcp://127.0.0.1:50908\n                        </td>\n                        <td style=\"text-align: left;\">\n                            <strong>Total threads: </strong> 1\n                        </td>\n                    </tr>\n                    <tr>\n                        <td style=\"text-align: left;\">\n                            <strong>Dashboard: </strong> <a href=\"http://127.0.0.1:50914/status\" target=\"_blank\">http://127.0.0.1:50914/status</a>\n                        </td>\n                        <td style=\"text-align: left;\">\n                            <strong>Memory: </strong> 0.93 GiB\n                        </td>\n                    </tr>\n                    <tr>\n                        <td style=\"text-align: left;\">\n                            <strong>Nanny: </strong> tcp://127.0.0.1:50890\n                        </td>\n                        <td style=\"text-align: left;\"></td>\n                    </tr>\n                    <tr>\n                        <td colspan=\"2\" style=\"text-align: left;\">\n                            <strong>Local directory: </strong> C:\\Users\\Adam\\AppData\\Local\\Temp\\dask-scratch-space\\worker-n7s_f81_\n                        </td>\n                    </tr>\n\n                    \n\n                    \n\n                </table>\n            </details>\n            </div>\n        </div>\n        \n        <div style=\"margin-bottom: 20px;\">\n            <div style=\"width: 24px; height: 24px; background-color: #DBF5FF; border: 3px solid #4CC9FF; border-radius: 5px; position: absolute;\"> </div>\n            <div style=\"margin-left: 48px;\">\n            <details>\n                <summary>\n                    <h4 style=\"margin-bottom: 0px; display: inline;\">Worker: 1</h4>\n                </summary>\n                <table style=\"width: 100%; text-align: left;\">\n                    <tr>\n                        <td style=\"text-align: left;\">\n                            <strong>Comm: </strong> tcp://127.0.0.1:50907\n                        </td>\n                        <td style=\"text-align: left;\">\n                            <strong>Total threads: </strong> 1\n                        </td>\n                    </tr>\n                    <tr>\n                        <td style=\"text-align: left;\">\n                            <strong>Dashboard: </strong> <a href=\"http://127.0.0.1:50910/status\" target=\"_blank\">http://127.0.0.1:50910/status</a>\n                        </td>\n                        <td style=\"text-align: left;\">\n                            <strong>Memory: </strong> 0.93 GiB\n                        </td>\n                    </tr>\n                    <tr>\n                        <td style=\"text-align: left;\">\n                            <strong>Nanny: </strong> tcp://127.0.0.1:50892\n                        </td>\n                        <td style=\"text-align: left;\"></td>\n                    </tr>\n                    <tr>\n                        <td colspan=\"2\" style=\"text-align: left;\">\n                            <strong>Local directory: </strong> C:\\Users\\Adam\\AppData\\Local\\Temp\\dask-scratch-space\\worker-22udvda8\n                        </td>\n                    </tr>\n\n                    \n\n                    \n\n                </table>\n            </details>\n            </div>\n        </div>\n        \n        <div style=\"margin-bottom: 20px;\">\n            <div style=\"width: 24px; height: 24px; background-color: #DBF5FF; border: 3px solid #4CC9FF; border-radius: 5px; position: absolute;\"> </div>\n            <div style=\"margin-left: 48px;\">\n            <details>\n                <summary>\n                    <h4 style=\"margin-bottom: 0px; display: inline;\">Worker: 2</h4>\n                </summary>\n                <table style=\"width: 100%; text-align: left;\">\n                    <tr>\n                        <td style=\"text-align: left;\">\n                            <strong>Comm: </strong> tcp://127.0.0.1:50906\n                        </td>\n                        <td style=\"text-align: left;\">\n                            <strong>Total threads: </strong> 1\n                        </td>\n                    </tr>\n                    <tr>\n                        <td style=\"text-align: left;\">\n                            <strong>Dashboard: </strong> <a href=\"http://127.0.0.1:50912/status\" target=\"_blank\">http://127.0.0.1:50912/status</a>\n                        </td>\n                        <td style=\"text-align: left;\">\n                            <strong>Memory: </strong> 0.93 GiB\n                        </td>\n                    </tr>\n                    <tr>\n                        <td style=\"text-align: left;\">\n                            <strong>Nanny: </strong> tcp://127.0.0.1:50894\n                        </td>\n                        <td style=\"text-align: left;\"></td>\n                    </tr>\n                    <tr>\n                        <td colspan=\"2\" style=\"text-align: left;\">\n                            <strong>Local directory: </strong> C:\\Users\\Adam\\AppData\\Local\\Temp\\dask-scratch-space\\worker-5da6ynu5\n                        </td>\n                    </tr>\n\n                    \n\n                    \n\n                </table>\n            </details>\n            </div>\n        </div>\n        \n        <div style=\"margin-bottom: 20px;\">\n            <div style=\"width: 24px; height: 24px; background-color: #DBF5FF; border: 3px solid #4CC9FF; border-radius: 5px; position: absolute;\"> </div>\n            <div style=\"margin-left: 48px;\">\n            <details>\n                <summary>\n                    <h4 style=\"margin-bottom: 0px; display: inline;\">Worker: 3</h4>\n                </summary>\n                <table style=\"width: 100%; text-align: left;\">\n                    <tr>\n                        <td style=\"text-align: left;\">\n                            <strong>Comm: </strong> tcp://127.0.0.1:50909\n                        </td>\n                        <td style=\"text-align: left;\">\n                            <strong>Total threads: </strong> 1\n                        </td>\n                    </tr>\n                    <tr>\n                        <td style=\"text-align: left;\">\n                            <strong>Dashboard: </strong> <a href=\"http://127.0.0.1:50916/status\" target=\"_blank\">http://127.0.0.1:50916/status</a>\n                        </td>\n                        <td style=\"text-align: left;\">\n                            <strong>Memory: </strong> 0.93 GiB\n                        </td>\n                    </tr>\n                    <tr>\n                        <td style=\"text-align: left;\">\n                            <strong>Nanny: </strong> tcp://127.0.0.1:50896\n                        </td>\n                        <td style=\"text-align: left;\"></td>\n                    </tr>\n                    <tr>\n                        <td colspan=\"2\" style=\"text-align: left;\">\n                            <strong>Local directory: </strong> C:\\Users\\Adam\\AppData\\Local\\Temp\\dask-scratch-space\\worker-s153n_da\n                        </td>\n                    </tr>\n\n                    \n\n                    \n\n                </table>\n            </details>\n            </div>\n        </div>\n        \n\n    </details>\n</div>\n\n        </details>\n    </div>\n</div>"
     },
     "metadata": {},
     "output_type": "display_data"
    },
    {
     "name": "stderr",
     "output_type": "stream",
     "text": [
      "D:\\Projekty\\BigDataAnalysis\\.venv\\Lib\\site-packages\\dask\\array\\slicing.py:987: PerformanceWarning: Increasing number of chunks by factor of 53\n",
      "  p = blockwise(\n",
      "D:\\Projekty\\BigDataAnalysis\\.venv\\Lib\\site-packages\\dask\\array\\slicing.py:987: PerformanceWarning: Increasing number of chunks by factor of 13\n",
      "  p = blockwise(\n",
      "Windows is not officially supported for dask/xgboost, contribution are welcomed.\n",
      "D:\\Projekty\\BigDataAnalysis\\.venv\\Lib\\site-packages\\distributed\\client.py:3361: UserWarning: Sending large graph of size 239.54 MiB.\n",
      "This may cause some slowdown.\n",
      "Consider loading the data with Dask directly\n",
      " or using futures or delayed objects to embed the data into the graph without repetition.\n",
      "See also https://docs.dask.org/en/stable/best-practices.html#load-data-with-dask for more information.\n",
      "  warnings.warn(\n",
      "Windows is not officially supported for dask/xgboost, contribution are welcomed.\n",
      "Windows is not officially supported for dask/xgboost, contribution are welcomed.\n",
      "D:\\Projekty\\BigDataAnalysis\\.venv\\Lib\\site-packages\\dask\\array\\slicing.py:987: PerformanceWarning: Increasing number of chunks by factor of 53\n",
      "  p = blockwise(\n",
      "D:\\Projekty\\BigDataAnalysis\\.venv\\Lib\\site-packages\\dask\\array\\slicing.py:987: PerformanceWarning: Increasing number of chunks by factor of 14\n",
      "  p = blockwise(\n",
      "Windows is not officially supported for dask/xgboost, contribution are welcomed.\n",
      "D:\\Projekty\\BigDataAnalysis\\.venv\\Lib\\site-packages\\distributed\\client.py:3361: UserWarning: Sending large graph of size 239.54 MiB.\n",
      "This may cause some slowdown.\n",
      "Consider loading the data with Dask directly\n",
      " or using futures or delayed objects to embed the data into the graph without repetition.\n",
      "See also https://docs.dask.org/en/stable/best-practices.html#load-data-with-dask for more information.\n",
      "  warnings.warn(\n",
      "Windows is not officially supported for dask/xgboost, contribution are welcomed.\n",
      "Windows is not officially supported for dask/xgboost, contribution are welcomed.\n",
      "D:\\Projekty\\BigDataAnalysis\\.venv\\Lib\\site-packages\\dask\\array\\slicing.py:987: PerformanceWarning: Increasing number of chunks by factor of 53\n",
      "  p = blockwise(\n",
      "D:\\Projekty\\BigDataAnalysis\\.venv\\Lib\\site-packages\\dask\\array\\slicing.py:987: PerformanceWarning: Increasing number of chunks by factor of 14\n",
      "  p = blockwise(\n",
      "Windows is not officially supported for dask/xgboost, contribution are welcomed.\n",
      "D:\\Projekty\\BigDataAnalysis\\.venv\\Lib\\site-packages\\distributed\\client.py:3361: UserWarning: Sending large graph of size 239.54 MiB.\n",
      "This may cause some slowdown.\n",
      "Consider loading the data with Dask directly\n",
      " or using futures or delayed objects to embed the data into the graph without repetition.\n",
      "See also https://docs.dask.org/en/stable/best-practices.html#load-data-with-dask for more information.\n",
      "  warnings.warn(\n",
      "Windows is not officially supported for dask/xgboost, contribution are welcomed.\n",
      "Windows is not officially supported for dask/xgboost, contribution are welcomed.\n",
      "D:\\Projekty\\BigDataAnalysis\\.venv\\Lib\\site-packages\\dask\\array\\slicing.py:987: PerformanceWarning: Increasing number of chunks by factor of 53\n",
      "  p = blockwise(\n",
      "D:\\Projekty\\BigDataAnalysis\\.venv\\Lib\\site-packages\\dask\\array\\slicing.py:987: PerformanceWarning: Increasing number of chunks by factor of 14\n",
      "  p = blockwise(\n",
      "Windows is not officially supported for dask/xgboost, contribution are welcomed.\n",
      "D:\\Projekty\\BigDataAnalysis\\.venv\\Lib\\site-packages\\distributed\\client.py:3361: UserWarning: Sending large graph of size 239.54 MiB.\n",
      "This may cause some slowdown.\n",
      "Consider loading the data with Dask directly\n",
      " or using futures or delayed objects to embed the data into the graph without repetition.\n",
      "See also https://docs.dask.org/en/stable/best-practices.html#load-data-with-dask for more information.\n",
      "  warnings.warn(\n",
      "Windows is not officially supported for dask/xgboost, contribution are welcomed.\n",
      "Windows is not officially supported for dask/xgboost, contribution are welcomed.\n",
      "D:\\Projekty\\BigDataAnalysis\\.venv\\Lib\\site-packages\\dask\\array\\slicing.py:987: PerformanceWarning: Increasing number of chunks by factor of 52\n",
      "  p = blockwise(\n",
      "D:\\Projekty\\BigDataAnalysis\\.venv\\Lib\\site-packages\\dask\\array\\slicing.py:987: PerformanceWarning: Increasing number of chunks by factor of 14\n",
      "  p = blockwise(\n",
      "Windows is not officially supported for dask/xgboost, contribution are welcomed.\n",
      "D:\\Projekty\\BigDataAnalysis\\.venv\\Lib\\site-packages\\distributed\\client.py:3361: UserWarning: Sending large graph of size 239.54 MiB.\n",
      "This may cause some slowdown.\n",
      "Consider loading the data with Dask directly\n",
      " or using futures or delayed objects to embed the data into the graph without repetition.\n",
      "See also https://docs.dask.org/en/stable/best-practices.html#load-data-with-dask for more information.\n",
      "  warnings.warn(\n",
      "Windows is not officially supported for dask/xgboost, contribution are welcomed.\n",
      "Windows is not officially supported for dask/xgboost, contribution are welcomed.\n"
     ]
    }
   ],
   "source": [
    "params = {'objective': 'multi:softmax',\n",
    "          'max_depth': 4, 'eta': 0.01, 'subsample': 0.5,\n",
    "          'min_child_weight': 0.5,\n",
    "          'num_class': 7}\n",
    "\n",
    "n_splits = 5\n",
    "cv = KFold(n_splits=n_splits, shuffle=True, random_state=94)\n",
    "\n",
    "predictions = {}\n",
    "models = []\n",
    "\n",
    "with LocalCluster(n_workers=4, threads_per_worker=1, memory_limit='1GB') as cluster:\n",
    "    display(cluster)\n",
    "    with cluster.get_client() as client:\n",
    "        for i, (train, test) in enumerate(cv.split(X, y)):\n",
    "            X_train = X[train, :-1]\n",
    "            X_test = X[test, :-1]\n",
    "            y_train = y[train]\n",
    "            y_test = y[test]\n",
    "\n",
    "            d_train = xgb.dask.DaskDMatrix(client, X_train, y_train, enable_categorical=True)\n",
    "            model = xgb.dask.train(client, params=params, dtrain=d_train)\n",
    "            predictions[f'fold_{i}'] = xgb.dask.predict(client, model, X_test)\n",
    "            models.append(model)"
   ],
   "metadata": {
    "collapsed": false,
    "ExecuteTime": {
     "end_time": "2024-10-23T16:07:37.895343Z",
     "start_time": "2024-10-23T16:06:18.474296Z"
    }
   },
   "id": "84d42a43ebd3246b",
   "execution_count": 4
  },
  {
   "cell_type": "code",
   "outputs": [
    {
     "data": {
      "text/plain": "{'fold_0': dask.array<mapped_predict, shape=(116203,), dtype=float32, chunksize=(9078,), chunktype=numpy.ndarray>,\n 'fold_1': dask.array<mapped_predict, shape=(116203,), dtype=float32, chunksize=(9078,), chunktype=numpy.ndarray>,\n 'fold_2': dask.array<mapped_predict, shape=(116202,), dtype=float32, chunksize=(9078,), chunktype=numpy.ndarray>,\n 'fold_3': dask.array<mapped_predict, shape=(116202,), dtype=float32, chunksize=(9078,), chunktype=numpy.ndarray>,\n 'fold_4': dask.array<mapped_predict, shape=(116202,), dtype=float32, chunksize=(9078,), chunktype=numpy.ndarray>}"
     },
     "execution_count": 5,
     "metadata": {},
     "output_type": "execute_result"
    }
   ],
   "source": [
    "predictions"
   ],
   "metadata": {
    "collapsed": false,
    "ExecuteTime": {
     "end_time": "2024-10-23T16:07:37.904608Z",
     "start_time": "2024-10-23T16:07:37.896346Z"
    }
   },
   "id": "99bc2582a9ce95aa",
   "execution_count": 5
  },
  {
   "cell_type": "markdown",
   "source": [
    "### Task 2\n",
    "Dokonaj serializacji modelu z zadania 1 na dysk i następnie go wczytaj ponownie tak, aby można było uruchomić na nim predykcję dla tablic X_test oraz y_test (dla użycia miar klasyfikacji) i wyświetl macierz klasyfikacji (confusion matrix)."
   ],
   "metadata": {
    "collapsed": false
   },
   "id": "950baa4e3082faf3"
  },
  {
   "cell_type": "code",
   "outputs": [
    {
     "data": {
      "text/plain": "<xgboost.core.Booster at 0x20a67085dc0>"
     },
     "execution_count": 9,
     "metadata": {},
     "output_type": "execute_result"
    }
   ],
   "source": [
    "model_zero = models[0]['booster']\n",
    "model_zero"
   ],
   "metadata": {
    "collapsed": false,
    "ExecuteTime": {
     "end_time": "2024-10-23T16:16:49.168298Z",
     "start_time": "2024-10-23T16:16:49.161764Z"
    }
   },
   "id": "5ac6b3024b98270f",
   "execution_count": 9
  },
  {
   "cell_type": "code",
   "outputs": [],
   "source": [
    "model_zero.save_model('xgb_model.json')"
   ],
   "metadata": {
    "collapsed": false,
    "ExecuteTime": {
     "end_time": "2024-10-23T16:16:58.608192Z",
     "start_time": "2024-10-23T16:16:58.507307Z"
    }
   },
   "id": "6596dd852a85bc8f",
   "execution_count": 10
  },
  {
   "cell_type": "code",
   "outputs": [],
   "source": [
    "loaded_model = xgb.XGBClassifier()\n",
    "loaded_model.load_model('xgb_model.json')"
   ],
   "metadata": {
    "collapsed": false,
    "ExecuteTime": {
     "end_time": "2024-10-23T16:17:21.910783Z",
     "start_time": "2024-10-23T16:17:21.891610Z"
    }
   },
   "id": "3bc38053352c9cba",
   "execution_count": 11
  },
  {
   "cell_type": "code",
   "outputs": [],
   "source": [
    "y_pred = loaded_model.predict(X_test)"
   ],
   "metadata": {
    "collapsed": false,
    "ExecuteTime": {
     "end_time": "2024-10-23T16:18:52.545856Z",
     "start_time": "2024-10-23T16:18:51.713957Z"
    }
   },
   "id": "3eb97533335fcc46",
   "execution_count": 13
  },
  {
   "cell_type": "code",
   "outputs": [
    {
     "data": {
      "text/plain": "array([[41370, 10402,     0,     0,     0,   422],\n       [20278, 25278,   911,     0,   145,    90],\n       [    0,  2000,  5556,     0,   140,     0],\n       [    0,   222,    15,     0,     0,     0],\n       [    0,   922,  1349,     0,   245,     0],\n       [ 3533,    26,     0,     0,     0,  3298]])"
     },
     "execution_count": 14,
     "metadata": {},
     "output_type": "execute_result"
    }
   ],
   "source": [
    "cm = confusion_matrix(y_test, y_pred)\n",
    "cm"
   ],
   "metadata": {
    "collapsed": false,
    "ExecuteTime": {
     "end_time": "2024-10-23T16:19:24.384363Z",
     "start_time": "2024-10-23T16:19:22.421351Z"
    }
   },
   "id": "30357484cac0df0f",
   "execution_count": 14
  },
  {
   "cell_type": "markdown",
   "source": [
    "### Task 3\n",
    "Korzystając z danych stworzonych w zadaniu 1 uruchom poszukiwanie optymalnych parametrów modelu tak jak zostało to zaprezentowane w przykładzie 5. Ta metoda powinna sama wybierać modele obiecujące i trenować je na większej liczbie danych porzucając jednocześnie modele, które nie rokują. Sprawdź jak wyglądają najlepsze wyliczone parametry vs. te użyte w zadaniu 1 i ewentualnie dopasuj próbkę danych jeżeli jej inicjalna wielkość nie pozwala na wykonanie zadania (zwróć uwagę na ilość i wielkość chunków w przykładzie 3 oraz 5, w tym drugim jest ich znacznie więcej, co przyspiesza poszukiwanie optymalnych parametrów)."
   ],
   "metadata": {
    "collapsed": false
   },
   "id": "e4a7c0225f16ae02"
  },
  {
   "cell_type": "code",
   "outputs": [],
   "source": [
    "cov = fetch_covtype()\n",
    "X, y = cov.data, cov.target\n",
    "\n",
    "le = LabelEncoder()\n",
    "y = le.fit_transform(y)\n",
    "\n",
    "X = da.from_array(X, chunks=(X.shape[0] // 2048, X.shape[1]))\n",
    "y = da.from_array(y, chunks=(y.shape[0] // 2048,))"
   ],
   "metadata": {
    "collapsed": false,
    "ExecuteTime": {
     "end_time": "2024-10-23T16:56:06.326316Z",
     "start_time": "2024-10-23T16:56:05.359066Z"
    }
   },
   "id": "11ea5375538a30d0",
   "execution_count": 4
  },
  {
   "cell_type": "code",
   "outputs": [],
   "source": [
    "params = {\n",
    "    'max_depth': [3, 5, 7, 9],\n",
    "    'learning_rate': [0.01, 0.1, 0.3],\n",
    "    'subsample': [0.5, 0.75, 1],\n",
    "    'colsample_bytree': [0.5, 0.75, 1]\n",
    "}"
   ],
   "metadata": {
    "collapsed": false,
    "ExecuteTime": {
     "end_time": "2024-10-23T16:56:07.770002Z",
     "start_time": "2024-10-23T16:56:07.764542Z"
    }
   },
   "id": "9f223418274db453",
   "execution_count": 5
  },
  {
   "cell_type": "markdown",
   "source": [
    "XGBClassifier nie działa z IncrementalSearchCV? \"The estimator must implement partial_fit, set_params, and work well with clone.\""
   ],
   "metadata": {
    "collapsed": false
   },
   "id": "fe642619e8657800"
  },
  {
   "cell_type": "code",
   "outputs": [
    {
     "data": {
      "text/plain": "LocalCluster(71cecc7b, 'tcp://127.0.0.1:51756', workers=4, threads=8, memory=7.45 GiB)",
      "application/vnd.jupyter.widget-view+json": {
       "version_major": 2,
       "version_minor": 0,
       "model_id": "e94fd848a4bb4394a1a9ba746f4f1183"
      },
      "text/html": "<div class=\"jp-RenderedHTMLCommon jp-RenderedHTML jp-mod-trusted jp-OutputArea-output\">\n    <div style=\"width: 24px; height: 24px; background-color: #e1e1e1; border: 3px solid #9D9D9D; border-radius: 5px; position: absolute;\">\n    </div>\n    <div style=\"margin-left: 48px;\">\n        <h3 style=\"margin-bottom: 0px; margin-top: 0px;\">LocalCluster</h3>\n        <p style=\"color: #9D9D9D; margin-bottom: 0px;\">71cecc7b</p>\n        <table style=\"width: 100%; text-align: left;\">\n            <tr>\n                <td style=\"text-align: left;\">\n                    <strong>Dashboard:</strong> <a href=\"http://127.0.0.1:8787/status\" target=\"_blank\">http://127.0.0.1:8787/status</a>\n                </td>\n                <td style=\"text-align: left;\">\n                    <strong>Workers:</strong> 4\n                </td>\n            </tr>\n            <tr>\n                <td style=\"text-align: left;\">\n                    <strong>Total threads:</strong> 8\n                </td>\n                <td style=\"text-align: left;\">\n                    <strong>Total memory:</strong> 7.45 GiB\n                </td>\n            </tr>\n            \n            <tr>\n    <td style=\"text-align: left;\"><strong>Status:</strong> running</td>\n    <td style=\"text-align: left;\"><strong>Using processes:</strong> True</td>\n</tr>\n\n            \n        </table>\n\n        <details>\n            <summary style=\"margin-bottom: 20px;\">\n                <h3 style=\"display: inline;\">Scheduler Info</h3>\n            </summary>\n\n            <div style=\"\">\n    <div>\n        <div style=\"width: 24px; height: 24px; background-color: #FFF7E5; border: 3px solid #FF6132; border-radius: 5px; position: absolute;\"> </div>\n        <div style=\"margin-left: 48px;\">\n            <h3 style=\"margin-bottom: 0px;\">Scheduler</h3>\n            <p style=\"color: #9D9D9D; margin-bottom: 0px;\">Scheduler-49a0f633-a5e0-4124-9909-2415c4fb6c8f</p>\n            <table style=\"width: 100%; text-align: left;\">\n                <tr>\n                    <td style=\"text-align: left;\">\n                        <strong>Comm:</strong> tcp://127.0.0.1:51756\n                    </td>\n                    <td style=\"text-align: left;\">\n                        <strong>Workers:</strong> 4\n                    </td>\n                </tr>\n                <tr>\n                    <td style=\"text-align: left;\">\n                        <strong>Dashboard:</strong> <a href=\"http://127.0.0.1:8787/status\" target=\"_blank\">http://127.0.0.1:8787/status</a>\n                    </td>\n                    <td style=\"text-align: left;\">\n                        <strong>Total threads:</strong> 8\n                    </td>\n                </tr>\n                <tr>\n                    <td style=\"text-align: left;\">\n                        <strong>Started:</strong> Just now\n                    </td>\n                    <td style=\"text-align: left;\">\n                        <strong>Total memory:</strong> 7.45 GiB\n                    </td>\n                </tr>\n            </table>\n        </div>\n    </div>\n\n    <details style=\"margin-left: 48px;\">\n        <summary style=\"margin-bottom: 20px;\">\n            <h3 style=\"display: inline;\">Workers</h3>\n        </summary>\n\n        \n        <div style=\"margin-bottom: 20px;\">\n            <div style=\"width: 24px; height: 24px; background-color: #DBF5FF; border: 3px solid #4CC9FF; border-radius: 5px; position: absolute;\"> </div>\n            <div style=\"margin-left: 48px;\">\n            <details>\n                <summary>\n                    <h4 style=\"margin-bottom: 0px; display: inline;\">Worker: 0</h4>\n                </summary>\n                <table style=\"width: 100%; text-align: left;\">\n                    <tr>\n                        <td style=\"text-align: left;\">\n                            <strong>Comm: </strong> tcp://127.0.0.1:51775\n                        </td>\n                        <td style=\"text-align: left;\">\n                            <strong>Total threads: </strong> 2\n                        </td>\n                    </tr>\n                    <tr>\n                        <td style=\"text-align: left;\">\n                            <strong>Dashboard: </strong> <a href=\"http://127.0.0.1:51780/status\" target=\"_blank\">http://127.0.0.1:51780/status</a>\n                        </td>\n                        <td style=\"text-align: left;\">\n                            <strong>Memory: </strong> 1.86 GiB\n                        </td>\n                    </tr>\n                    <tr>\n                        <td style=\"text-align: left;\">\n                            <strong>Nanny: </strong> tcp://127.0.0.1:51759\n                        </td>\n                        <td style=\"text-align: left;\"></td>\n                    </tr>\n                    <tr>\n                        <td colspan=\"2\" style=\"text-align: left;\">\n                            <strong>Local directory: </strong> C:\\Users\\Adam\\AppData\\Local\\Temp\\dask-scratch-space\\worker-3omhb161\n                        </td>\n                    </tr>\n\n                    \n\n                    \n\n                </table>\n            </details>\n            </div>\n        </div>\n        \n        <div style=\"margin-bottom: 20px;\">\n            <div style=\"width: 24px; height: 24px; background-color: #DBF5FF; border: 3px solid #4CC9FF; border-radius: 5px; position: absolute;\"> </div>\n            <div style=\"margin-left: 48px;\">\n            <details>\n                <summary>\n                    <h4 style=\"margin-bottom: 0px; display: inline;\">Worker: 1</h4>\n                </summary>\n                <table style=\"width: 100%; text-align: left;\">\n                    <tr>\n                        <td style=\"text-align: left;\">\n                            <strong>Comm: </strong> tcp://127.0.0.1:51776\n                        </td>\n                        <td style=\"text-align: left;\">\n                            <strong>Total threads: </strong> 2\n                        </td>\n                    </tr>\n                    <tr>\n                        <td style=\"text-align: left;\">\n                            <strong>Dashboard: </strong> <a href=\"http://127.0.0.1:51781/status\" target=\"_blank\">http://127.0.0.1:51781/status</a>\n                        </td>\n                        <td style=\"text-align: left;\">\n                            <strong>Memory: </strong> 1.86 GiB\n                        </td>\n                    </tr>\n                    <tr>\n                        <td style=\"text-align: left;\">\n                            <strong>Nanny: </strong> tcp://127.0.0.1:51761\n                        </td>\n                        <td style=\"text-align: left;\"></td>\n                    </tr>\n                    <tr>\n                        <td colspan=\"2\" style=\"text-align: left;\">\n                            <strong>Local directory: </strong> C:\\Users\\Adam\\AppData\\Local\\Temp\\dask-scratch-space\\worker-1h0pusrg\n                        </td>\n                    </tr>\n\n                    \n\n                    \n\n                </table>\n            </details>\n            </div>\n        </div>\n        \n        <div style=\"margin-bottom: 20px;\">\n            <div style=\"width: 24px; height: 24px; background-color: #DBF5FF; border: 3px solid #4CC9FF; border-radius: 5px; position: absolute;\"> </div>\n            <div style=\"margin-left: 48px;\">\n            <details>\n                <summary>\n                    <h4 style=\"margin-bottom: 0px; display: inline;\">Worker: 2</h4>\n                </summary>\n                <table style=\"width: 100%; text-align: left;\">\n                    <tr>\n                        <td style=\"text-align: left;\">\n                            <strong>Comm: </strong> tcp://127.0.0.1:51777\n                        </td>\n                        <td style=\"text-align: left;\">\n                            <strong>Total threads: </strong> 2\n                        </td>\n                    </tr>\n                    <tr>\n                        <td style=\"text-align: left;\">\n                            <strong>Dashboard: </strong> <a href=\"http://127.0.0.1:51779/status\" target=\"_blank\">http://127.0.0.1:51779/status</a>\n                        </td>\n                        <td style=\"text-align: left;\">\n                            <strong>Memory: </strong> 1.86 GiB\n                        </td>\n                    </tr>\n                    <tr>\n                        <td style=\"text-align: left;\">\n                            <strong>Nanny: </strong> tcp://127.0.0.1:51763\n                        </td>\n                        <td style=\"text-align: left;\"></td>\n                    </tr>\n                    <tr>\n                        <td colspan=\"2\" style=\"text-align: left;\">\n                            <strong>Local directory: </strong> C:\\Users\\Adam\\AppData\\Local\\Temp\\dask-scratch-space\\worker-_t0tir02\n                        </td>\n                    </tr>\n\n                    \n\n                    \n\n                </table>\n            </details>\n            </div>\n        </div>\n        \n        <div style=\"margin-bottom: 20px;\">\n            <div style=\"width: 24px; height: 24px; background-color: #DBF5FF; border: 3px solid #4CC9FF; border-radius: 5px; position: absolute;\"> </div>\n            <div style=\"margin-left: 48px;\">\n            <details>\n                <summary>\n                    <h4 style=\"margin-bottom: 0px; display: inline;\">Worker: 3</h4>\n                </summary>\n                <table style=\"width: 100%; text-align: left;\">\n                    <tr>\n                        <td style=\"text-align: left;\">\n                            <strong>Comm: </strong> tcp://127.0.0.1:51778\n                        </td>\n                        <td style=\"text-align: left;\">\n                            <strong>Total threads: </strong> 2\n                        </td>\n                    </tr>\n                    <tr>\n                        <td style=\"text-align: left;\">\n                            <strong>Dashboard: </strong> <a href=\"http://127.0.0.1:51785/status\" target=\"_blank\">http://127.0.0.1:51785/status</a>\n                        </td>\n                        <td style=\"text-align: left;\">\n                            <strong>Memory: </strong> 1.86 GiB\n                        </td>\n                    </tr>\n                    <tr>\n                        <td style=\"text-align: left;\">\n                            <strong>Nanny: </strong> tcp://127.0.0.1:51765\n                        </td>\n                        <td style=\"text-align: left;\"></td>\n                    </tr>\n                    <tr>\n                        <td colspan=\"2\" style=\"text-align: left;\">\n                            <strong>Local directory: </strong> C:\\Users\\Adam\\AppData\\Local\\Temp\\dask-scratch-space\\worker-5xl9x0hz\n                        </td>\n                    </tr>\n\n                    \n\n                    \n\n                </table>\n            </details>\n            </div>\n        </div>\n        \n\n    </details>\n</div>\n\n        </details>\n    </div>\n</div>"
     },
     "metadata": {},
     "output_type": "display_data"
    },
    {
     "name": "stderr",
     "output_type": "stream",
     "text": [
      "D:\\Projekty\\BigDataAnalysis\\.venv\\Lib\\site-packages\\distributed\\client.py:3361: UserWarning: Sending large graph of size 243.98 MiB.\n",
      "This may cause some slowdown.\n",
      "Consider loading the data with Dask directly\n",
      " or using futures or delayed objects to embed the data into the graph without repetition.\n",
      "See also https://docs.dask.org/en/stable/best-practices.html#load-data-with-dask for more information.\n",
      "  warnings.warn(\n",
      "2024-10-23 19:15:27,026 - distributed.nanny - WARNING - Worker process still alive after 4.0 seconds, killing\n",
      "2024-10-23 19:15:27,028 - distributed.nanny - WARNING - Worker process still alive after 4.0 seconds, killing\n",
      "2024-10-23 19:15:27,029 - distributed.nanny - WARNING - Worker process still alive after 4.0 seconds, killing\n",
      "2024-10-23 19:15:27,032 - distributed.nanny - WARNING - Worker process still alive after 4.0 seconds, killing\n"
     ]
    },
    {
     "ename": "KeyboardInterrupt",
     "evalue": "",
     "output_type": "error",
     "traceback": [
      "\u001B[1;31m---------------------------------------------------------------------------\u001B[0m",
      "\u001B[1;31mKeyboardInterrupt\u001B[0m                         Traceback (most recent call last)",
      "Cell \u001B[1;32mIn[6], line 7\u001B[0m\n\u001B[0;32m      5\u001B[0m \u001B[38;5;28;01mwith\u001B[39;00m cluster\u001B[38;5;241m.\u001B[39mget_client() \u001B[38;5;28;01mas\u001B[39;00m client:\n\u001B[0;32m      6\u001B[0m     search \u001B[38;5;241m=\u001B[39m GridSearchCV(model, params, cv\u001B[38;5;241m=\u001B[39m\u001B[38;5;241m3\u001B[39m)\n\u001B[1;32m----> 7\u001B[0m     \u001B[43msearch\u001B[49m\u001B[38;5;241;43m.\u001B[39;49m\u001B[43mfit\u001B[49m\u001B[43m(\u001B[49m\u001B[43mX\u001B[49m\u001B[43m,\u001B[49m\u001B[43m \u001B[49m\u001B[43my\u001B[49m\u001B[43m)\u001B[49m\n\u001B[0;32m      9\u001B[0m     \u001B[38;5;28mprint\u001B[39m(\u001B[38;5;124m\"\u001B[39m\u001B[38;5;124mBest params:\u001B[39m\u001B[38;5;124m\"\u001B[39m, search\u001B[38;5;241m.\u001B[39mbest_params_)\n",
      "File \u001B[1;32mD:\\Projekty\\BigDataAnalysis\\.venv\\Lib\\site-packages\\dask_ml\\model_selection\\_search.py:1272\u001B[0m, in \u001B[0;36mDaskBaseSearchCV.fit\u001B[1;34m(self, X, y, groups, **fit_params)\u001B[0m\n\u001B[0;32m   1270\u001B[0m result_map \u001B[38;5;241m=\u001B[39m {}\n\u001B[0;32m   1271\u001B[0m ac \u001B[38;5;241m=\u001B[39m as_completed(futures, with_results\u001B[38;5;241m=\u001B[39m\u001B[38;5;28;01mTrue\u001B[39;00m, raise_errors\u001B[38;5;241m=\u001B[39m\u001B[38;5;28;01mFalse\u001B[39;00m)\n\u001B[1;32m-> 1272\u001B[0m \u001B[43m\u001B[49m\u001B[38;5;28;43;01mfor\u001B[39;49;00m\u001B[43m \u001B[49m\u001B[43mbatch\u001B[49m\u001B[43m \u001B[49m\u001B[38;5;129;43;01min\u001B[39;49;00m\u001B[43m \u001B[49m\u001B[43mac\u001B[49m\u001B[38;5;241;43m.\u001B[39;49m\u001B[43mbatches\u001B[49m\u001B[43m(\u001B[49m\u001B[43m)\u001B[49m\u001B[43m:\u001B[49m\n\u001B[0;32m   1273\u001B[0m \u001B[43m    \u001B[49m\u001B[38;5;28;43;01mfor\u001B[39;49;00m\u001B[43m \u001B[49m\u001B[43mfuture\u001B[49m\u001B[43m,\u001B[49m\u001B[43m \u001B[49m\u001B[43mresult\u001B[49m\u001B[43m \u001B[49m\u001B[38;5;129;43;01min\u001B[39;49;00m\u001B[43m \u001B[49m\u001B[43mbatch\u001B[49m\u001B[43m:\u001B[49m\n\u001B[0;32m   1274\u001B[0m \u001B[43m        \u001B[49m\u001B[38;5;28;43;01mif\u001B[39;49;00m\u001B[43m \u001B[49m\u001B[43mfuture\u001B[49m\u001B[38;5;241;43m.\u001B[39;49m\u001B[43mstatus\u001B[49m\u001B[43m \u001B[49m\u001B[38;5;241;43m==\u001B[39;49m\u001B[43m \u001B[49m\u001B[38;5;124;43m\"\u001B[39;49m\u001B[38;5;124;43mfinished\u001B[39;49m\u001B[38;5;124;43m\"\u001B[39;49m\u001B[43m:\u001B[49m\n",
      "File \u001B[1;32mD:\\Projekty\\BigDataAnalysis\\.venv\\Lib\\site-packages\\distributed\\client.py:5973\u001B[0m, in \u001B[0;36mas_completed.batches\u001B[1;34m(self)\u001B[0m\n\u001B[0;32m   5971\u001B[0m \u001B[38;5;28;01mwhile\u001B[39;00m \u001B[38;5;28;01mTrue\u001B[39;00m:\n\u001B[0;32m   5972\u001B[0m     \u001B[38;5;28;01mtry\u001B[39;00m:\n\u001B[1;32m-> 5973\u001B[0m         \u001B[38;5;28;01myield\u001B[39;00m \u001B[38;5;28;43mself\u001B[39;49m\u001B[38;5;241;43m.\u001B[39;49m\u001B[43mnext_batch\u001B[49m\u001B[43m(\u001B[49m\u001B[43mblock\u001B[49m\u001B[38;5;241;43m=\u001B[39;49m\u001B[38;5;28;43;01mTrue\u001B[39;49;00m\u001B[43m)\u001B[49m\n\u001B[0;32m   5974\u001B[0m     \u001B[38;5;28;01mexcept\u001B[39;00m \u001B[38;5;167;01mStopIteration\u001B[39;00m:\n\u001B[0;32m   5975\u001B[0m         \u001B[38;5;28;01mreturn\u001B[39;00m\n",
      "File \u001B[1;32mD:\\Projekty\\BigDataAnalysis\\.venv\\Lib\\site-packages\\distributed\\client.py:5945\u001B[0m, in \u001B[0;36mas_completed.next_batch\u001B[1;34m(self, block)\u001B[0m\n\u001B[0;32m   5923\u001B[0m \u001B[38;5;250m\u001B[39m\u001B[38;5;124;03m\"\"\"Get the next batch of completed futures.\u001B[39;00m\n\u001B[0;32m   5924\u001B[0m \n\u001B[0;32m   5925\u001B[0m \u001B[38;5;124;03mParameters\u001B[39;00m\n\u001B[1;32m   (...)\u001B[0m\n\u001B[0;32m   5942\u001B[0m \u001B[38;5;124;03mList of futures or (future, result) tuples\u001B[39;00m\n\u001B[0;32m   5943\u001B[0m \u001B[38;5;124;03m\"\"\"\u001B[39;00m\n\u001B[0;32m   5944\u001B[0m \u001B[38;5;28;01mif\u001B[39;00m block:\n\u001B[1;32m-> 5945\u001B[0m     batch \u001B[38;5;241m=\u001B[39m [\u001B[38;5;28;43mnext\u001B[39;49m\u001B[43m(\u001B[49m\u001B[38;5;28;43mself\u001B[39;49m\u001B[43m)\u001B[49m]\n\u001B[0;32m   5946\u001B[0m \u001B[38;5;28;01melse\u001B[39;00m:\n\u001B[0;32m   5947\u001B[0m     batch \u001B[38;5;241m=\u001B[39m []\n",
      "File \u001B[1;32mD:\\Projekty\\BigDataAnalysis\\.venv\\Lib\\site-packages\\distributed\\client.py:5901\u001B[0m, in \u001B[0;36mas_completed.__next__\u001B[1;34m(self)\u001B[0m\n\u001B[0;32m   5899\u001B[0m         \u001B[38;5;28;01mraise\u001B[39;00m \u001B[38;5;167;01mStopIteration\u001B[39;00m()\n\u001B[0;32m   5900\u001B[0m     \u001B[38;5;28;01mwith\u001B[39;00m \u001B[38;5;28mself\u001B[39m\u001B[38;5;241m.\u001B[39mthread_condition:\n\u001B[1;32m-> 5901\u001B[0m         \u001B[38;5;28;43mself\u001B[39;49m\u001B[38;5;241;43m.\u001B[39;49m\u001B[43mthread_condition\u001B[49m\u001B[38;5;241;43m.\u001B[39;49m\u001B[43mwait\u001B[49m\u001B[43m(\u001B[49m\u001B[43mtimeout\u001B[49m\u001B[38;5;241;43m=\u001B[39;49m\u001B[38;5;241;43m0.100\u001B[39;49m\u001B[43m)\u001B[49m\n\u001B[0;32m   5902\u001B[0m \u001B[38;5;28;01mreturn\u001B[39;00m \u001B[38;5;28mself\u001B[39m\u001B[38;5;241m.\u001B[39m_get_and_raise()\n",
      "File \u001B[1;32m~\\AppData\\Local\\Programs\\Python\\Python312\\Lib\\threading.py:359\u001B[0m, in \u001B[0;36mCondition.wait\u001B[1;34m(self, timeout)\u001B[0m\n\u001B[0;32m    357\u001B[0m \u001B[38;5;28;01melse\u001B[39;00m:\n\u001B[0;32m    358\u001B[0m     \u001B[38;5;28;01mif\u001B[39;00m timeout \u001B[38;5;241m>\u001B[39m \u001B[38;5;241m0\u001B[39m:\n\u001B[1;32m--> 359\u001B[0m         gotit \u001B[38;5;241m=\u001B[39m \u001B[43mwaiter\u001B[49m\u001B[38;5;241;43m.\u001B[39;49m\u001B[43macquire\u001B[49m\u001B[43m(\u001B[49m\u001B[38;5;28;43;01mTrue\u001B[39;49;00m\u001B[43m,\u001B[49m\u001B[43m \u001B[49m\u001B[43mtimeout\u001B[49m\u001B[43m)\u001B[49m\n\u001B[0;32m    360\u001B[0m     \u001B[38;5;28;01melse\u001B[39;00m:\n\u001B[0;32m    361\u001B[0m         gotit \u001B[38;5;241m=\u001B[39m waiter\u001B[38;5;241m.\u001B[39macquire(\u001B[38;5;28;01mFalse\u001B[39;00m)\n",
      "\u001B[1;31mKeyboardInterrupt\u001B[0m: "
     ]
    }
   ],
   "source": [
    "model = XGBClassifier(use_label_encoder=False, eval_metric='mlogloss')\n",
    "\n",
    "with LocalCluster(n_workers=4, threads_per_worker=2, memory_limit='2GB') as cluster:\n",
    "    display(cluster)\n",
    "    with cluster.get_client() as client:\n",
    "        search = GridSearchCV(model, params, cv=3)\n",
    "        search.fit(X, y)\n",
    "        \n",
    "        print(\"Best params:\", search.best_params_)"
   ],
   "metadata": {
    "collapsed": false,
    "ExecuteTime": {
     "end_time": "2024-10-23T17:15:28.755121Z",
     "start_time": "2024-10-23T16:56:11.086051Z"
    }
   },
   "id": "fab0327619959485",
   "execution_count": 6
  }
 ],
 "metadata": {
  "kernelspec": {
   "display_name": "Python 3",
   "language": "python",
   "name": "python3"
  },
  "language_info": {
   "codemirror_mode": {
    "name": "ipython",
    "version": 2
   },
   "file_extension": ".py",
   "mimetype": "text/x-python",
   "name": "python",
   "nbconvert_exporter": "python",
   "pygments_lexer": "ipython2",
   "version": "2.7.6"
  }
 },
 "nbformat": 4,
 "nbformat_minor": 5
}
