{
 "cells": [
  {
   "cell_type": "markdown",
   "source": [
    "# Etap 1 - Pozyskanie danych\n",
    "\n",
    "## Dataset: Yellow Taxi Trip Records\n",
    "\n",
    "Dane użyte w tym projekcie pochodzą z serwisu NYC Taxi & Limousine Commission. Dane te zawierają informacje o przejazdach taksówek w Nowym Jorku, takie jak np. miejsca rozpoczęcia i zakończenia przejazdu, czas trwania oraz odległość itp.\n",
    "\n",
    "## Licencja\n",
    "\n",
    "`Dane zostały zebrane i przekazane do NYC Taxi and Limousine Commission (TLC) przez dostawców technologii autoryzowanych w ramach programów Taxicab & Livery Passenger Enhancement Programs (TPEP/LPEP). Dane dotyczące przejazdów nie zostały utworzone przez TLC, a TLC nie składa żadnych oświadczeń co do ich dokładności.`\n",
    "\n",
    "[https://www.nyc.gov](https://www.nyc.gov/site/tlc/about/tlc-trip-record-data.page)\n",
    "\n",
    "## Spis treści\n",
    "1. [Import bibliotek](#import-bibliotek)\n",
    "2. [Funkcja pobierająca](#funkcja-pobierająca)\n",
    "3. [Pobieranie danych](#pobieranie-danych)"
   ],
   "metadata": {
    "collapsed": false
   },
   "id": "35e6b6bb17653370"
  },
  {
   "cell_type": "markdown",
   "source": [
    "## Import bibliotek"
   ],
   "metadata": {
    "collapsed": false
   },
   "id": "970be254a3fd1077"
  },
  {
   "cell_type": "code",
   "execution_count": 1,
   "id": "initial_id",
   "metadata": {
    "collapsed": true,
    "ExecuteTime": {
     "end_time": "2025-01-06T09:38:08.209268Z",
     "start_time": "2025-01-06T09:38:07.579890Z"
    }
   },
   "outputs": [],
   "source": [
    "import os\n",
    "import requests\n",
    "from tqdm.notebook import tqdm"
   ]
  },
  {
   "cell_type": "markdown",
   "source": [
    "## Funkcja pobierająca"
   ],
   "metadata": {
    "collapsed": false
   },
   "id": "87e524bd2d9cf34c"
  },
  {
   "cell_type": "code",
   "outputs": [],
   "source": [
    "def download_taxi_data(start_year, end_year, folder='data'):\n",
    "    base_url = \"https://d37ci6vzurychx.cloudfront.net/trip-data\"\n",
    "    os.makedirs(folder, exist_ok=True)\n",
    "    \n",
    "    for year in range(start_year, end_year + 1):\n",
    "        for month in range(1, 13):\n",
    "            file_name = f'yellow_tripdata_{year}-{month:02d}.parquet'\n",
    "            file_path = os.path.join(folder, file_name)\n",
    "            url = f\"{base_url}/{file_name}\"\n",
    "            \n",
    "            if os.path.exists(file_path):\n",
    "                print(f\"Plik {file_name} już istnieje. Pomijanie...\")\n",
    "                continue\n",
    "            \n",
    "            print(f\"Pobieranie: {file_name}...\")\n",
    "            try:\n",
    "                response = requests.get(url, stream=True)\n",
    "                response.raise_for_status()\n",
    "                \n",
    "                with open(file_path, 'wb') as file:\n",
    "                    for chunk in tqdm(response.iter_content(chunk_size=1024), desc=file_name, unit=\"KB\"):\n",
    "                        file.write(chunk)\n",
    "                \n",
    "                print(f\"Zapisano: {file_name}\")\n",
    "            except requests.exceptions.RequestException as e:\n",
    "                print(f\"Nie udało się pobrać {file_name}: {e}\")"
   ],
   "metadata": {
    "collapsed": false,
    "ExecuteTime": {
     "end_time": "2025-01-06T09:38:08.221955Z",
     "start_time": "2025-01-06T09:38:08.212070Z"
    }
   },
   "id": "37e748c36d565427",
   "execution_count": 2
  },
  {
   "cell_type": "markdown",
   "source": [
    "## Pobieranie danych"
   ],
   "metadata": {
    "collapsed": false
   },
   "id": "c60772db03e63fa5"
  },
  {
   "cell_type": "code",
   "outputs": [
    {
     "name": "stdout",
     "output_type": "stream",
     "text": [
      "Plik yellow_tripdata_2009-01.parquet już istnieje. Pomijanie...\n",
      "Plik yellow_tripdata_2009-02.parquet już istnieje. Pomijanie...\n",
      "Plik yellow_tripdata_2009-03.parquet już istnieje. Pomijanie...\n",
      "Plik yellow_tripdata_2009-04.parquet już istnieje. Pomijanie...\n",
      "Plik yellow_tripdata_2009-05.parquet już istnieje. Pomijanie...\n",
      "Plik yellow_tripdata_2009-06.parquet już istnieje. Pomijanie...\n",
      "Plik yellow_tripdata_2009-07.parquet już istnieje. Pomijanie...\n",
      "Plik yellow_tripdata_2009-08.parquet już istnieje. Pomijanie...\n",
      "Plik yellow_tripdata_2009-09.parquet już istnieje. Pomijanie...\n",
      "Plik yellow_tripdata_2009-10.parquet już istnieje. Pomijanie...\n",
      "Plik yellow_tripdata_2009-11.parquet już istnieje. Pomijanie...\n",
      "Plik yellow_tripdata_2009-12.parquet już istnieje. Pomijanie...\n",
      "Plik yellow_tripdata_2010-01.parquet już istnieje. Pomijanie...\n",
      "Plik yellow_tripdata_2010-02.parquet już istnieje. Pomijanie...\n",
      "Plik yellow_tripdata_2010-03.parquet już istnieje. Pomijanie...\n",
      "Plik yellow_tripdata_2010-04.parquet już istnieje. Pomijanie...\n",
      "Plik yellow_tripdata_2010-05.parquet już istnieje. Pomijanie...\n",
      "Plik yellow_tripdata_2010-06.parquet już istnieje. Pomijanie...\n",
      "Plik yellow_tripdata_2010-07.parquet już istnieje. Pomijanie...\n",
      "Plik yellow_tripdata_2010-08.parquet już istnieje. Pomijanie...\n",
      "Plik yellow_tripdata_2010-09.parquet już istnieje. Pomijanie...\n",
      "Plik yellow_tripdata_2010-10.parquet już istnieje. Pomijanie...\n",
      "Plik yellow_tripdata_2010-11.parquet już istnieje. Pomijanie...\n",
      "Plik yellow_tripdata_2010-12.parquet już istnieje. Pomijanie...\n",
      "Plik yellow_tripdata_2011-01.parquet już istnieje. Pomijanie...\n",
      "Plik yellow_tripdata_2011-02.parquet już istnieje. Pomijanie...\n",
      "Plik yellow_tripdata_2011-03.parquet już istnieje. Pomijanie...\n",
      "Plik yellow_tripdata_2011-04.parquet już istnieje. Pomijanie...\n",
      "Plik yellow_tripdata_2011-05.parquet już istnieje. Pomijanie...\n",
      "Plik yellow_tripdata_2011-06.parquet już istnieje. Pomijanie...\n",
      "Plik yellow_tripdata_2011-07.parquet już istnieje. Pomijanie...\n",
      "Plik yellow_tripdata_2011-08.parquet już istnieje. Pomijanie...\n",
      "Plik yellow_tripdata_2011-09.parquet już istnieje. Pomijanie...\n",
      "Plik yellow_tripdata_2011-10.parquet już istnieje. Pomijanie...\n",
      "Plik yellow_tripdata_2011-11.parquet już istnieje. Pomijanie...\n",
      "Plik yellow_tripdata_2011-12.parquet już istnieje. Pomijanie...\n",
      "Plik yellow_tripdata_2012-01.parquet już istnieje. Pomijanie...\n",
      "Plik yellow_tripdata_2012-02.parquet już istnieje. Pomijanie...\n",
      "Plik yellow_tripdata_2012-03.parquet już istnieje. Pomijanie...\n",
      "Plik yellow_tripdata_2012-04.parquet już istnieje. Pomijanie...\n",
      "Plik yellow_tripdata_2012-05.parquet już istnieje. Pomijanie...\n",
      "Plik yellow_tripdata_2012-06.parquet już istnieje. Pomijanie...\n",
      "Plik yellow_tripdata_2012-07.parquet już istnieje. Pomijanie...\n",
      "Plik yellow_tripdata_2012-08.parquet już istnieje. Pomijanie...\n",
      "Plik yellow_tripdata_2012-09.parquet już istnieje. Pomijanie...\n",
      "Plik yellow_tripdata_2012-10.parquet już istnieje. Pomijanie...\n",
      "Plik yellow_tripdata_2012-11.parquet już istnieje. Pomijanie...\n",
      "Plik yellow_tripdata_2012-12.parquet już istnieje. Pomijanie...\n",
      "Plik yellow_tripdata_2013-01.parquet już istnieje. Pomijanie...\n",
      "Plik yellow_tripdata_2013-02.parquet już istnieje. Pomijanie...\n",
      "Plik yellow_tripdata_2013-03.parquet już istnieje. Pomijanie...\n",
      "Plik yellow_tripdata_2013-04.parquet już istnieje. Pomijanie...\n",
      "Plik yellow_tripdata_2013-05.parquet już istnieje. Pomijanie...\n",
      "Plik yellow_tripdata_2013-06.parquet już istnieje. Pomijanie...\n",
      "Plik yellow_tripdata_2013-07.parquet już istnieje. Pomijanie...\n",
      "Plik yellow_tripdata_2013-08.parquet już istnieje. Pomijanie...\n",
      "Plik yellow_tripdata_2013-09.parquet już istnieje. Pomijanie...\n",
      "Plik yellow_tripdata_2013-10.parquet już istnieje. Pomijanie...\n",
      "Plik yellow_tripdata_2013-11.parquet już istnieje. Pomijanie...\n",
      "Plik yellow_tripdata_2013-12.parquet już istnieje. Pomijanie...\n",
      "Plik yellow_tripdata_2014-01.parquet już istnieje. Pomijanie...\n",
      "Plik yellow_tripdata_2014-02.parquet już istnieje. Pomijanie...\n",
      "Plik yellow_tripdata_2014-03.parquet już istnieje. Pomijanie...\n",
      "Plik yellow_tripdata_2014-04.parquet już istnieje. Pomijanie...\n",
      "Plik yellow_tripdata_2014-05.parquet już istnieje. Pomijanie...\n",
      "Plik yellow_tripdata_2014-06.parquet już istnieje. Pomijanie...\n",
      "Plik yellow_tripdata_2014-07.parquet już istnieje. Pomijanie...\n",
      "Plik yellow_tripdata_2014-08.parquet już istnieje. Pomijanie...\n",
      "Plik yellow_tripdata_2014-09.parquet już istnieje. Pomijanie...\n",
      "Plik yellow_tripdata_2014-10.parquet już istnieje. Pomijanie...\n",
      "Plik yellow_tripdata_2014-11.parquet już istnieje. Pomijanie...\n",
      "Plik yellow_tripdata_2014-12.parquet już istnieje. Pomijanie...\n",
      "Plik yellow_tripdata_2015-01.parquet już istnieje. Pomijanie...\n",
      "Plik yellow_tripdata_2015-02.parquet już istnieje. Pomijanie...\n",
      "Plik yellow_tripdata_2015-03.parquet już istnieje. Pomijanie...\n",
      "Plik yellow_tripdata_2015-04.parquet już istnieje. Pomijanie...\n",
      "Plik yellow_tripdata_2015-05.parquet już istnieje. Pomijanie...\n",
      "Plik yellow_tripdata_2015-06.parquet już istnieje. Pomijanie...\n",
      "Plik yellow_tripdata_2015-07.parquet już istnieje. Pomijanie...\n",
      "Plik yellow_tripdata_2015-08.parquet już istnieje. Pomijanie...\n",
      "Plik yellow_tripdata_2015-09.parquet już istnieje. Pomijanie...\n",
      "Plik yellow_tripdata_2015-10.parquet już istnieje. Pomijanie...\n",
      "Plik yellow_tripdata_2015-11.parquet już istnieje. Pomijanie...\n",
      "Plik yellow_tripdata_2015-12.parquet już istnieje. Pomijanie...\n",
      "Plik yellow_tripdata_2016-01.parquet już istnieje. Pomijanie...\n",
      "Plik yellow_tripdata_2016-02.parquet już istnieje. Pomijanie...\n",
      "Plik yellow_tripdata_2016-03.parquet już istnieje. Pomijanie...\n",
      "Plik yellow_tripdata_2016-04.parquet już istnieje. Pomijanie...\n",
      "Plik yellow_tripdata_2016-05.parquet już istnieje. Pomijanie...\n",
      "Plik yellow_tripdata_2016-06.parquet już istnieje. Pomijanie...\n",
      "Plik yellow_tripdata_2016-07.parquet już istnieje. Pomijanie...\n",
      "Plik yellow_tripdata_2016-08.parquet już istnieje. Pomijanie...\n",
      "Plik yellow_tripdata_2016-09.parquet już istnieje. Pomijanie...\n",
      "Plik yellow_tripdata_2016-10.parquet już istnieje. Pomijanie...\n",
      "Plik yellow_tripdata_2016-11.parquet już istnieje. Pomijanie...\n",
      "Plik yellow_tripdata_2016-12.parquet już istnieje. Pomijanie...\n",
      "Pobieranie: yellow_tripdata_2017-01.parquet...\n"
     ]
    },
    {
     "data": {
      "text/plain": "yellow_tripdata_2017-01.parquet: 0KB [00:00, ?KB/s]",
      "application/vnd.jupyter.widget-view+json": {
       "version_major": 2,
       "version_minor": 0,
       "model_id": "881791b373694177be3eabe3538499f4"
      }
     },
     "metadata": {},
     "output_type": "display_data"
    },
    {
     "name": "stdout",
     "output_type": "stream",
     "text": [
      "Zapisano: yellow_tripdata_2017-01.parquet\n",
      "Pobieranie: yellow_tripdata_2017-02.parquet...\n"
     ]
    },
    {
     "data": {
      "text/plain": "yellow_tripdata_2017-02.parquet: 0KB [00:00, ?KB/s]",
      "application/vnd.jupyter.widget-view+json": {
       "version_major": 2,
       "version_minor": 0,
       "model_id": "55534d101bcd4d2e9ad39e115eb9b404"
      }
     },
     "metadata": {},
     "output_type": "display_data"
    },
    {
     "name": "stdout",
     "output_type": "stream",
     "text": [
      "Zapisano: yellow_tripdata_2017-02.parquet\n",
      "Pobieranie: yellow_tripdata_2017-03.parquet...\n"
     ]
    },
    {
     "data": {
      "text/plain": "yellow_tripdata_2017-03.parquet: 0KB [00:00, ?KB/s]",
      "application/vnd.jupyter.widget-view+json": {
       "version_major": 2,
       "version_minor": 0,
       "model_id": "e3e0a2c634e64cdbb22942e018ae940d"
      }
     },
     "metadata": {},
     "output_type": "display_data"
    },
    {
     "name": "stdout",
     "output_type": "stream",
     "text": [
      "Zapisano: yellow_tripdata_2017-03.parquet\n",
      "Pobieranie: yellow_tripdata_2017-04.parquet...\n"
     ]
    },
    {
     "data": {
      "text/plain": "yellow_tripdata_2017-04.parquet: 0KB [00:00, ?KB/s]",
      "application/vnd.jupyter.widget-view+json": {
       "version_major": 2,
       "version_minor": 0,
       "model_id": "b5caf775227e46e98ead3e6ffd11ba4a"
      }
     },
     "metadata": {},
     "output_type": "display_data"
    },
    {
     "name": "stdout",
     "output_type": "stream",
     "text": [
      "Zapisano: yellow_tripdata_2017-04.parquet\n",
      "Pobieranie: yellow_tripdata_2017-05.parquet...\n"
     ]
    },
    {
     "data": {
      "text/plain": "yellow_tripdata_2017-05.parquet: 0KB [00:00, ?KB/s]",
      "application/vnd.jupyter.widget-view+json": {
       "version_major": 2,
       "version_minor": 0,
       "model_id": "6c5353a3a84341dd99749ff27cc628e2"
      }
     },
     "metadata": {},
     "output_type": "display_data"
    },
    {
     "name": "stdout",
     "output_type": "stream",
     "text": [
      "Zapisano: yellow_tripdata_2017-05.parquet\n",
      "Pobieranie: yellow_tripdata_2017-06.parquet...\n"
     ]
    },
    {
     "data": {
      "text/plain": "yellow_tripdata_2017-06.parquet: 0KB [00:00, ?KB/s]",
      "application/vnd.jupyter.widget-view+json": {
       "version_major": 2,
       "version_minor": 0,
       "model_id": "ed4bc11330be413fbc9342b0fa9b3831"
      }
     },
     "metadata": {},
     "output_type": "display_data"
    },
    {
     "name": "stdout",
     "output_type": "stream",
     "text": [
      "Zapisano: yellow_tripdata_2017-06.parquet\n",
      "Pobieranie: yellow_tripdata_2017-07.parquet...\n"
     ]
    },
    {
     "data": {
      "text/plain": "yellow_tripdata_2017-07.parquet: 0KB [00:00, ?KB/s]",
      "application/vnd.jupyter.widget-view+json": {
       "version_major": 2,
       "version_minor": 0,
       "model_id": "27897ff0a360400c8f5f4cdc152fce40"
      }
     },
     "metadata": {},
     "output_type": "display_data"
    },
    {
     "name": "stdout",
     "output_type": "stream",
     "text": [
      "Zapisano: yellow_tripdata_2017-07.parquet\n",
      "Pobieranie: yellow_tripdata_2017-08.parquet...\n"
     ]
    },
    {
     "data": {
      "text/plain": "yellow_tripdata_2017-08.parquet: 0KB [00:00, ?KB/s]",
      "application/vnd.jupyter.widget-view+json": {
       "version_major": 2,
       "version_minor": 0,
       "model_id": "22fb6f01e5e74e53831909410c2ed253"
      }
     },
     "metadata": {},
     "output_type": "display_data"
    },
    {
     "name": "stdout",
     "output_type": "stream",
     "text": [
      "Zapisano: yellow_tripdata_2017-08.parquet\n",
      "Pobieranie: yellow_tripdata_2017-09.parquet...\n"
     ]
    },
    {
     "data": {
      "text/plain": "yellow_tripdata_2017-09.parquet: 0KB [00:00, ?KB/s]",
      "application/vnd.jupyter.widget-view+json": {
       "version_major": 2,
       "version_minor": 0,
       "model_id": "62c58dd6fa374344a31afb9564bbc9e1"
      }
     },
     "metadata": {},
     "output_type": "display_data"
    },
    {
     "name": "stdout",
     "output_type": "stream",
     "text": [
      "Zapisano: yellow_tripdata_2017-09.parquet\n",
      "Pobieranie: yellow_tripdata_2017-10.parquet...\n"
     ]
    },
    {
     "data": {
      "text/plain": "yellow_tripdata_2017-10.parquet: 0KB [00:00, ?KB/s]",
      "application/vnd.jupyter.widget-view+json": {
       "version_major": 2,
       "version_minor": 0,
       "model_id": "9572d62fb0634ce28062246ddefb5d13"
      }
     },
     "metadata": {},
     "output_type": "display_data"
    },
    {
     "name": "stdout",
     "output_type": "stream",
     "text": [
      "Zapisano: yellow_tripdata_2017-10.parquet\n",
      "Pobieranie: yellow_tripdata_2017-11.parquet...\n"
     ]
    },
    {
     "data": {
      "text/plain": "yellow_tripdata_2017-11.parquet: 0KB [00:00, ?KB/s]",
      "application/vnd.jupyter.widget-view+json": {
       "version_major": 2,
       "version_minor": 0,
       "model_id": "af3cc5446b8545bd90c07186b542c2af"
      }
     },
     "metadata": {},
     "output_type": "display_data"
    },
    {
     "name": "stdout",
     "output_type": "stream",
     "text": [
      "Zapisano: yellow_tripdata_2017-11.parquet\n",
      "Pobieranie: yellow_tripdata_2017-12.parquet...\n"
     ]
    },
    {
     "data": {
      "text/plain": "yellow_tripdata_2017-12.parquet: 0KB [00:00, ?KB/s]",
      "application/vnd.jupyter.widget-view+json": {
       "version_major": 2,
       "version_minor": 0,
       "model_id": "890a5df8a32a48e08d9061ca77c182f8"
      }
     },
     "metadata": {},
     "output_type": "display_data"
    },
    {
     "name": "stdout",
     "output_type": "stream",
     "text": [
      "Zapisano: yellow_tripdata_2017-12.parquet\n",
      "Pobieranie: yellow_tripdata_2018-01.parquet...\n"
     ]
    },
    {
     "data": {
      "text/plain": "yellow_tripdata_2018-01.parquet: 0KB [00:00, ?KB/s]",
      "application/vnd.jupyter.widget-view+json": {
       "version_major": 2,
       "version_minor": 0,
       "model_id": "c39bd9be29044c1ea7ab2edb5993e5b6"
      }
     },
     "metadata": {},
     "output_type": "display_data"
    },
    {
     "name": "stdout",
     "output_type": "stream",
     "text": [
      "Zapisano: yellow_tripdata_2018-01.parquet\n",
      "Pobieranie: yellow_tripdata_2018-02.parquet...\n"
     ]
    },
    {
     "data": {
      "text/plain": "yellow_tripdata_2018-02.parquet: 0KB [00:00, ?KB/s]",
      "application/vnd.jupyter.widget-view+json": {
       "version_major": 2,
       "version_minor": 0,
       "model_id": "31367cac672a42278456283ad551f1f8"
      }
     },
     "metadata": {},
     "output_type": "display_data"
    },
    {
     "name": "stdout",
     "output_type": "stream",
     "text": [
      "Zapisano: yellow_tripdata_2018-02.parquet\n",
      "Pobieranie: yellow_tripdata_2018-03.parquet...\n"
     ]
    },
    {
     "data": {
      "text/plain": "yellow_tripdata_2018-03.parquet: 0KB [00:00, ?KB/s]",
      "application/vnd.jupyter.widget-view+json": {
       "version_major": 2,
       "version_minor": 0,
       "model_id": "2bb181f920e546bfbdb419f6df657ae8"
      }
     },
     "metadata": {},
     "output_type": "display_data"
    },
    {
     "name": "stdout",
     "output_type": "stream",
     "text": [
      "Zapisano: yellow_tripdata_2018-03.parquet\n",
      "Pobieranie: yellow_tripdata_2018-04.parquet...\n"
     ]
    },
    {
     "data": {
      "text/plain": "yellow_tripdata_2018-04.parquet: 0KB [00:00, ?KB/s]",
      "application/vnd.jupyter.widget-view+json": {
       "version_major": 2,
       "version_minor": 0,
       "model_id": "f12c441f733b4459b3596432ef48a509"
      }
     },
     "metadata": {},
     "output_type": "display_data"
    },
    {
     "name": "stdout",
     "output_type": "stream",
     "text": [
      "Zapisano: yellow_tripdata_2018-04.parquet\n",
      "Pobieranie: yellow_tripdata_2018-05.parquet...\n"
     ]
    },
    {
     "data": {
      "text/plain": "yellow_tripdata_2018-05.parquet: 0KB [00:00, ?KB/s]",
      "application/vnd.jupyter.widget-view+json": {
       "version_major": 2,
       "version_minor": 0,
       "model_id": "c42aaf8a000740358207588845556655"
      }
     },
     "metadata": {},
     "output_type": "display_data"
    },
    {
     "name": "stdout",
     "output_type": "stream",
     "text": [
      "Zapisano: yellow_tripdata_2018-05.parquet\n",
      "Pobieranie: yellow_tripdata_2018-06.parquet...\n"
     ]
    },
    {
     "data": {
      "text/plain": "yellow_tripdata_2018-06.parquet: 0KB [00:00, ?KB/s]",
      "application/vnd.jupyter.widget-view+json": {
       "version_major": 2,
       "version_minor": 0,
       "model_id": "34d6f8e912044992b949b62f066af07a"
      }
     },
     "metadata": {},
     "output_type": "display_data"
    },
    {
     "name": "stdout",
     "output_type": "stream",
     "text": [
      "Zapisano: yellow_tripdata_2018-06.parquet\n",
      "Pobieranie: yellow_tripdata_2018-07.parquet...\n"
     ]
    },
    {
     "data": {
      "text/plain": "yellow_tripdata_2018-07.parquet: 0KB [00:00, ?KB/s]",
      "application/vnd.jupyter.widget-view+json": {
       "version_major": 2,
       "version_minor": 0,
       "model_id": "ee65837e422841739186592c84876120"
      }
     },
     "metadata": {},
     "output_type": "display_data"
    },
    {
     "name": "stdout",
     "output_type": "stream",
     "text": [
      "Zapisano: yellow_tripdata_2018-07.parquet\n",
      "Pobieranie: yellow_tripdata_2018-08.parquet...\n"
     ]
    },
    {
     "data": {
      "text/plain": "yellow_tripdata_2018-08.parquet: 0KB [00:00, ?KB/s]",
      "application/vnd.jupyter.widget-view+json": {
       "version_major": 2,
       "version_minor": 0,
       "model_id": "129c30a2340b4b0bb6b1c0d20aebf875"
      }
     },
     "metadata": {},
     "output_type": "display_data"
    },
    {
     "name": "stdout",
     "output_type": "stream",
     "text": [
      "Zapisano: yellow_tripdata_2018-08.parquet\n",
      "Pobieranie: yellow_tripdata_2018-09.parquet...\n"
     ]
    },
    {
     "data": {
      "text/plain": "yellow_tripdata_2018-09.parquet: 0KB [00:00, ?KB/s]",
      "application/vnd.jupyter.widget-view+json": {
       "version_major": 2,
       "version_minor": 0,
       "model_id": "7084ecd11f4247c0b8d26ea94dc3a891"
      }
     },
     "metadata": {},
     "output_type": "display_data"
    },
    {
     "name": "stdout",
     "output_type": "stream",
     "text": [
      "Zapisano: yellow_tripdata_2018-09.parquet\n",
      "Pobieranie: yellow_tripdata_2018-10.parquet...\n"
     ]
    },
    {
     "data": {
      "text/plain": "yellow_tripdata_2018-10.parquet: 0KB [00:00, ?KB/s]",
      "application/vnd.jupyter.widget-view+json": {
       "version_major": 2,
       "version_minor": 0,
       "model_id": "c31fb71b789846f6a351bbcb3f31bafd"
      }
     },
     "metadata": {},
     "output_type": "display_data"
    },
    {
     "name": "stdout",
     "output_type": "stream",
     "text": [
      "Zapisano: yellow_tripdata_2018-10.parquet\n",
      "Pobieranie: yellow_tripdata_2018-11.parquet...\n"
     ]
    },
    {
     "data": {
      "text/plain": "yellow_tripdata_2018-11.parquet: 0KB [00:00, ?KB/s]",
      "application/vnd.jupyter.widget-view+json": {
       "version_major": 2,
       "version_minor": 0,
       "model_id": "862f3b94dd8a4a69900efeba0cb8af09"
      }
     },
     "metadata": {},
     "output_type": "display_data"
    },
    {
     "name": "stdout",
     "output_type": "stream",
     "text": [
      "Zapisano: yellow_tripdata_2018-11.parquet\n",
      "Pobieranie: yellow_tripdata_2018-12.parquet...\n"
     ]
    },
    {
     "data": {
      "text/plain": "yellow_tripdata_2018-12.parquet: 0KB [00:00, ?KB/s]",
      "application/vnd.jupyter.widget-view+json": {
       "version_major": 2,
       "version_minor": 0,
       "model_id": "daccf9ac8771433299c94fa3f8d5c790"
      }
     },
     "metadata": {},
     "output_type": "display_data"
    },
    {
     "name": "stdout",
     "output_type": "stream",
     "text": [
      "Zapisano: yellow_tripdata_2018-12.parquet\n",
      "Pobieranie: yellow_tripdata_2019-01.parquet...\n"
     ]
    },
    {
     "data": {
      "text/plain": "yellow_tripdata_2019-01.parquet: 0KB [00:00, ?KB/s]",
      "application/vnd.jupyter.widget-view+json": {
       "version_major": 2,
       "version_minor": 0,
       "model_id": "3aa5c0074eaa4b8ab6fbe99ba2a07867"
      }
     },
     "metadata": {},
     "output_type": "display_data"
    },
    {
     "name": "stdout",
     "output_type": "stream",
     "text": [
      "Zapisano: yellow_tripdata_2019-01.parquet\n",
      "Pobieranie: yellow_tripdata_2019-02.parquet...\n"
     ]
    },
    {
     "data": {
      "text/plain": "yellow_tripdata_2019-02.parquet: 0KB [00:00, ?KB/s]",
      "application/vnd.jupyter.widget-view+json": {
       "version_major": 2,
       "version_minor": 0,
       "model_id": "514a12ef73df4dd8b00257e2f37a573e"
      }
     },
     "metadata": {},
     "output_type": "display_data"
    },
    {
     "name": "stdout",
     "output_type": "stream",
     "text": [
      "Zapisano: yellow_tripdata_2019-02.parquet\n",
      "Pobieranie: yellow_tripdata_2019-03.parquet...\n"
     ]
    },
    {
     "data": {
      "text/plain": "yellow_tripdata_2019-03.parquet: 0KB [00:00, ?KB/s]",
      "application/vnd.jupyter.widget-view+json": {
       "version_major": 2,
       "version_minor": 0,
       "model_id": "a56d2369e4f843bea4c40e8d179bf28b"
      }
     },
     "metadata": {},
     "output_type": "display_data"
    },
    {
     "name": "stdout",
     "output_type": "stream",
     "text": [
      "Zapisano: yellow_tripdata_2019-03.parquet\n",
      "Pobieranie: yellow_tripdata_2019-04.parquet...\n"
     ]
    },
    {
     "data": {
      "text/plain": "yellow_tripdata_2019-04.parquet: 0KB [00:00, ?KB/s]",
      "application/vnd.jupyter.widget-view+json": {
       "version_major": 2,
       "version_minor": 0,
       "model_id": "db779b0210464503820321d510e12efb"
      }
     },
     "metadata": {},
     "output_type": "display_data"
    },
    {
     "name": "stdout",
     "output_type": "stream",
     "text": [
      "Zapisano: yellow_tripdata_2019-04.parquet\n",
      "Pobieranie: yellow_tripdata_2019-05.parquet...\n"
     ]
    },
    {
     "data": {
      "text/plain": "yellow_tripdata_2019-05.parquet: 0KB [00:00, ?KB/s]",
      "application/vnd.jupyter.widget-view+json": {
       "version_major": 2,
       "version_minor": 0,
       "model_id": "acdd61df17a5429eb82e82488919faee"
      }
     },
     "metadata": {},
     "output_type": "display_data"
    },
    {
     "name": "stdout",
     "output_type": "stream",
     "text": [
      "Zapisano: yellow_tripdata_2019-05.parquet\n",
      "Pobieranie: yellow_tripdata_2019-06.parquet...\n"
     ]
    },
    {
     "data": {
      "text/plain": "yellow_tripdata_2019-06.parquet: 0KB [00:00, ?KB/s]",
      "application/vnd.jupyter.widget-view+json": {
       "version_major": 2,
       "version_minor": 0,
       "model_id": "1aeabf08ec5f452d992da54427830e5b"
      }
     },
     "metadata": {},
     "output_type": "display_data"
    },
    {
     "name": "stdout",
     "output_type": "stream",
     "text": [
      "Zapisano: yellow_tripdata_2019-06.parquet\n",
      "Pobieranie: yellow_tripdata_2019-07.parquet...\n"
     ]
    },
    {
     "data": {
      "text/plain": "yellow_tripdata_2019-07.parquet: 0KB [00:00, ?KB/s]",
      "application/vnd.jupyter.widget-view+json": {
       "version_major": 2,
       "version_minor": 0,
       "model_id": "15dad87728ee431db1904ff8f9bf1716"
      }
     },
     "metadata": {},
     "output_type": "display_data"
    },
    {
     "name": "stdout",
     "output_type": "stream",
     "text": [
      "Zapisano: yellow_tripdata_2019-07.parquet\n",
      "Pobieranie: yellow_tripdata_2019-08.parquet...\n"
     ]
    },
    {
     "data": {
      "text/plain": "yellow_tripdata_2019-08.parquet: 0KB [00:00, ?KB/s]",
      "application/vnd.jupyter.widget-view+json": {
       "version_major": 2,
       "version_minor": 0,
       "model_id": "b94a38a4975e4168886905687e40ef32"
      }
     },
     "metadata": {},
     "output_type": "display_data"
    },
    {
     "name": "stdout",
     "output_type": "stream",
     "text": [
      "Zapisano: yellow_tripdata_2019-08.parquet\n",
      "Pobieranie: yellow_tripdata_2019-09.parquet...\n"
     ]
    },
    {
     "data": {
      "text/plain": "yellow_tripdata_2019-09.parquet: 0KB [00:00, ?KB/s]",
      "application/vnd.jupyter.widget-view+json": {
       "version_major": 2,
       "version_minor": 0,
       "model_id": "cb4c49aac0624d83815e0b5f28508d1b"
      }
     },
     "metadata": {},
     "output_type": "display_data"
    },
    {
     "name": "stdout",
     "output_type": "stream",
     "text": [
      "Zapisano: yellow_tripdata_2019-09.parquet\n",
      "Pobieranie: yellow_tripdata_2019-10.parquet...\n"
     ]
    },
    {
     "data": {
      "text/plain": "yellow_tripdata_2019-10.parquet: 0KB [00:00, ?KB/s]",
      "application/vnd.jupyter.widget-view+json": {
       "version_major": 2,
       "version_minor": 0,
       "model_id": "6135f66d04a748bb91301b255f29b51b"
      }
     },
     "metadata": {},
     "output_type": "display_data"
    },
    {
     "name": "stdout",
     "output_type": "stream",
     "text": [
      "Zapisano: yellow_tripdata_2019-10.parquet\n",
      "Pobieranie: yellow_tripdata_2019-11.parquet...\n"
     ]
    },
    {
     "data": {
      "text/plain": "yellow_tripdata_2019-11.parquet: 0KB [00:00, ?KB/s]",
      "application/vnd.jupyter.widget-view+json": {
       "version_major": 2,
       "version_minor": 0,
       "model_id": "bb86e07e2e3348cea08091c68b22fd09"
      }
     },
     "metadata": {},
     "output_type": "display_data"
    },
    {
     "name": "stdout",
     "output_type": "stream",
     "text": [
      "Zapisano: yellow_tripdata_2019-11.parquet\n",
      "Pobieranie: yellow_tripdata_2019-12.parquet...\n"
     ]
    },
    {
     "data": {
      "text/plain": "yellow_tripdata_2019-12.parquet: 0KB [00:00, ?KB/s]",
      "application/vnd.jupyter.widget-view+json": {
       "version_major": 2,
       "version_minor": 0,
       "model_id": "0b23dc6148b242ed88f86415782c131b"
      }
     },
     "metadata": {},
     "output_type": "display_data"
    },
    {
     "name": "stdout",
     "output_type": "stream",
     "text": [
      "Zapisano: yellow_tripdata_2019-12.parquet\n",
      "Pobieranie: yellow_tripdata_2020-01.parquet...\n"
     ]
    },
    {
     "data": {
      "text/plain": "yellow_tripdata_2020-01.parquet: 0KB [00:00, ?KB/s]",
      "application/vnd.jupyter.widget-view+json": {
       "version_major": 2,
       "version_minor": 0,
       "model_id": "e99a80d9e37143de9fcdd3df20bf4864"
      }
     },
     "metadata": {},
     "output_type": "display_data"
    },
    {
     "name": "stdout",
     "output_type": "stream",
     "text": [
      "Zapisano: yellow_tripdata_2020-01.parquet\n",
      "Pobieranie: yellow_tripdata_2020-02.parquet...\n"
     ]
    },
    {
     "data": {
      "text/plain": "yellow_tripdata_2020-02.parquet: 0KB [00:00, ?KB/s]",
      "application/vnd.jupyter.widget-view+json": {
       "version_major": 2,
       "version_minor": 0,
       "model_id": "5589031c1bc94f08bf28b9c1331a1f47"
      }
     },
     "metadata": {},
     "output_type": "display_data"
    },
    {
     "name": "stdout",
     "output_type": "stream",
     "text": [
      "Zapisano: yellow_tripdata_2020-02.parquet\n",
      "Pobieranie: yellow_tripdata_2020-03.parquet...\n"
     ]
    },
    {
     "data": {
      "text/plain": "yellow_tripdata_2020-03.parquet: 0KB [00:00, ?KB/s]",
      "application/vnd.jupyter.widget-view+json": {
       "version_major": 2,
       "version_minor": 0,
       "model_id": "6131f9c8b3d2410ead3fcd694bb52e24"
      }
     },
     "metadata": {},
     "output_type": "display_data"
    },
    {
     "name": "stdout",
     "output_type": "stream",
     "text": [
      "Zapisano: yellow_tripdata_2020-03.parquet\n",
      "Pobieranie: yellow_tripdata_2020-04.parquet...\n"
     ]
    },
    {
     "data": {
      "text/plain": "yellow_tripdata_2020-04.parquet: 0KB [00:00, ?KB/s]",
      "application/vnd.jupyter.widget-view+json": {
       "version_major": 2,
       "version_minor": 0,
       "model_id": "e064b27ee27a4374a3f90972e439c2aa"
      }
     },
     "metadata": {},
     "output_type": "display_data"
    },
    {
     "name": "stdout",
     "output_type": "stream",
     "text": [
      "Zapisano: yellow_tripdata_2020-04.parquet\n",
      "Pobieranie: yellow_tripdata_2020-05.parquet...\n"
     ]
    },
    {
     "data": {
      "text/plain": "yellow_tripdata_2020-05.parquet: 0KB [00:00, ?KB/s]",
      "application/vnd.jupyter.widget-view+json": {
       "version_major": 2,
       "version_minor": 0,
       "model_id": "a1f7026e995547e292c9bd7ad329ad80"
      }
     },
     "metadata": {},
     "output_type": "display_data"
    },
    {
     "name": "stdout",
     "output_type": "stream",
     "text": [
      "Zapisano: yellow_tripdata_2020-05.parquet\n",
      "Pobieranie: yellow_tripdata_2020-06.parquet...\n"
     ]
    },
    {
     "data": {
      "text/plain": "yellow_tripdata_2020-06.parquet: 0KB [00:00, ?KB/s]",
      "application/vnd.jupyter.widget-view+json": {
       "version_major": 2,
       "version_minor": 0,
       "model_id": "55950e6215454c2b960931bf40ed9027"
      }
     },
     "metadata": {},
     "output_type": "display_data"
    },
    {
     "name": "stdout",
     "output_type": "stream",
     "text": [
      "Zapisano: yellow_tripdata_2020-06.parquet\n",
      "Pobieranie: yellow_tripdata_2020-07.parquet...\n"
     ]
    },
    {
     "data": {
      "text/plain": "yellow_tripdata_2020-07.parquet: 0KB [00:00, ?KB/s]",
      "application/vnd.jupyter.widget-view+json": {
       "version_major": 2,
       "version_minor": 0,
       "model_id": "4b6afd68981a41b8976666bfc203ad86"
      }
     },
     "metadata": {},
     "output_type": "display_data"
    },
    {
     "name": "stdout",
     "output_type": "stream",
     "text": [
      "Zapisano: yellow_tripdata_2020-07.parquet\n",
      "Pobieranie: yellow_tripdata_2020-08.parquet...\n"
     ]
    },
    {
     "data": {
      "text/plain": "yellow_tripdata_2020-08.parquet: 0KB [00:00, ?KB/s]",
      "application/vnd.jupyter.widget-view+json": {
       "version_major": 2,
       "version_minor": 0,
       "model_id": "d0af41a5166f401bb2af032b61bd850d"
      }
     },
     "metadata": {},
     "output_type": "display_data"
    },
    {
     "name": "stdout",
     "output_type": "stream",
     "text": [
      "Zapisano: yellow_tripdata_2020-08.parquet\n",
      "Pobieranie: yellow_tripdata_2020-09.parquet...\n"
     ]
    },
    {
     "data": {
      "text/plain": "yellow_tripdata_2020-09.parquet: 0KB [00:00, ?KB/s]",
      "application/vnd.jupyter.widget-view+json": {
       "version_major": 2,
       "version_minor": 0,
       "model_id": "5b0b5a3c087945bcbd68798ac5b713a8"
      }
     },
     "metadata": {},
     "output_type": "display_data"
    },
    {
     "name": "stdout",
     "output_type": "stream",
     "text": [
      "Zapisano: yellow_tripdata_2020-09.parquet\n",
      "Pobieranie: yellow_tripdata_2020-10.parquet...\n"
     ]
    },
    {
     "data": {
      "text/plain": "yellow_tripdata_2020-10.parquet: 0KB [00:00, ?KB/s]",
      "application/vnd.jupyter.widget-view+json": {
       "version_major": 2,
       "version_minor": 0,
       "model_id": "7408845a457845c0baa6af36a7f95a58"
      }
     },
     "metadata": {},
     "output_type": "display_data"
    },
    {
     "name": "stdout",
     "output_type": "stream",
     "text": [
      "Zapisano: yellow_tripdata_2020-10.parquet\n",
      "Pobieranie: yellow_tripdata_2020-11.parquet...\n"
     ]
    },
    {
     "data": {
      "text/plain": "yellow_tripdata_2020-11.parquet: 0KB [00:00, ?KB/s]",
      "application/vnd.jupyter.widget-view+json": {
       "version_major": 2,
       "version_minor": 0,
       "model_id": "8fda3630e9e14aafa1c29c6b69be2cb4"
      }
     },
     "metadata": {},
     "output_type": "display_data"
    },
    {
     "name": "stdout",
     "output_type": "stream",
     "text": [
      "Zapisano: yellow_tripdata_2020-11.parquet\n",
      "Pobieranie: yellow_tripdata_2020-12.parquet...\n"
     ]
    },
    {
     "data": {
      "text/plain": "yellow_tripdata_2020-12.parquet: 0KB [00:00, ?KB/s]",
      "application/vnd.jupyter.widget-view+json": {
       "version_major": 2,
       "version_minor": 0,
       "model_id": "1581ae355e60417992e5d7d399a0e180"
      }
     },
     "metadata": {},
     "output_type": "display_data"
    },
    {
     "name": "stdout",
     "output_type": "stream",
     "text": [
      "Zapisano: yellow_tripdata_2020-12.parquet\n",
      "Pobieranie: yellow_tripdata_2021-01.parquet...\n"
     ]
    },
    {
     "data": {
      "text/plain": "yellow_tripdata_2021-01.parquet: 0KB [00:00, ?KB/s]",
      "application/vnd.jupyter.widget-view+json": {
       "version_major": 2,
       "version_minor": 0,
       "model_id": "e6c35b249cf5462f98aa99d6979a039b"
      }
     },
     "metadata": {},
     "output_type": "display_data"
    },
    {
     "name": "stdout",
     "output_type": "stream",
     "text": [
      "Zapisano: yellow_tripdata_2021-01.parquet\n",
      "Pobieranie: yellow_tripdata_2021-02.parquet...\n"
     ]
    },
    {
     "data": {
      "text/plain": "yellow_tripdata_2021-02.parquet: 0KB [00:00, ?KB/s]",
      "application/vnd.jupyter.widget-view+json": {
       "version_major": 2,
       "version_minor": 0,
       "model_id": "37fe179266de4b3181b03cef925d3240"
      }
     },
     "metadata": {},
     "output_type": "display_data"
    },
    {
     "name": "stdout",
     "output_type": "stream",
     "text": [
      "Zapisano: yellow_tripdata_2021-02.parquet\n",
      "Pobieranie: yellow_tripdata_2021-03.parquet...\n"
     ]
    },
    {
     "data": {
      "text/plain": "yellow_tripdata_2021-03.parquet: 0KB [00:00, ?KB/s]",
      "application/vnd.jupyter.widget-view+json": {
       "version_major": 2,
       "version_minor": 0,
       "model_id": "4d8c344a58c5443fbd08a0dbc60435f4"
      }
     },
     "metadata": {},
     "output_type": "display_data"
    },
    {
     "name": "stdout",
     "output_type": "stream",
     "text": [
      "Zapisano: yellow_tripdata_2021-03.parquet\n",
      "Pobieranie: yellow_tripdata_2021-04.parquet...\n"
     ]
    },
    {
     "data": {
      "text/plain": "yellow_tripdata_2021-04.parquet: 0KB [00:00, ?KB/s]",
      "application/vnd.jupyter.widget-view+json": {
       "version_major": 2,
       "version_minor": 0,
       "model_id": "0edef6e4fe3e4cffbe95ef1795d7352d"
      }
     },
     "metadata": {},
     "output_type": "display_data"
    },
    {
     "name": "stdout",
     "output_type": "stream",
     "text": [
      "Zapisano: yellow_tripdata_2021-04.parquet\n",
      "Pobieranie: yellow_tripdata_2021-05.parquet...\n"
     ]
    },
    {
     "data": {
      "text/plain": "yellow_tripdata_2021-05.parquet: 0KB [00:00, ?KB/s]",
      "application/vnd.jupyter.widget-view+json": {
       "version_major": 2,
       "version_minor": 0,
       "model_id": "7a555bf222a645f2b291f119cfb84ac6"
      }
     },
     "metadata": {},
     "output_type": "display_data"
    },
    {
     "name": "stdout",
     "output_type": "stream",
     "text": [
      "Zapisano: yellow_tripdata_2021-05.parquet\n",
      "Pobieranie: yellow_tripdata_2021-06.parquet...\n"
     ]
    },
    {
     "data": {
      "text/plain": "yellow_tripdata_2021-06.parquet: 0KB [00:00, ?KB/s]",
      "application/vnd.jupyter.widget-view+json": {
       "version_major": 2,
       "version_minor": 0,
       "model_id": "b8030c22013a4c0f803a97b671bf14db"
      }
     },
     "metadata": {},
     "output_type": "display_data"
    },
    {
     "name": "stdout",
     "output_type": "stream",
     "text": [
      "Zapisano: yellow_tripdata_2021-06.parquet\n",
      "Pobieranie: yellow_tripdata_2021-07.parquet...\n"
     ]
    },
    {
     "data": {
      "text/plain": "yellow_tripdata_2021-07.parquet: 0KB [00:00, ?KB/s]",
      "application/vnd.jupyter.widget-view+json": {
       "version_major": 2,
       "version_minor": 0,
       "model_id": "4f56f657c79940b3a7b01fb4756c3bcf"
      }
     },
     "metadata": {},
     "output_type": "display_data"
    },
    {
     "name": "stdout",
     "output_type": "stream",
     "text": [
      "Zapisano: yellow_tripdata_2021-07.parquet\n",
      "Pobieranie: yellow_tripdata_2021-08.parquet...\n"
     ]
    },
    {
     "data": {
      "text/plain": "yellow_tripdata_2021-08.parquet: 0KB [00:00, ?KB/s]",
      "application/vnd.jupyter.widget-view+json": {
       "version_major": 2,
       "version_minor": 0,
       "model_id": "944ef7c9e3c64e8daf8e676903bf6838"
      }
     },
     "metadata": {},
     "output_type": "display_data"
    },
    {
     "name": "stdout",
     "output_type": "stream",
     "text": [
      "Zapisano: yellow_tripdata_2021-08.parquet\n",
      "Pobieranie: yellow_tripdata_2021-09.parquet...\n"
     ]
    },
    {
     "data": {
      "text/plain": "yellow_tripdata_2021-09.parquet: 0KB [00:00, ?KB/s]",
      "application/vnd.jupyter.widget-view+json": {
       "version_major": 2,
       "version_minor": 0,
       "model_id": "cae7a1404e414729b0b58bd5569a3c2a"
      }
     },
     "metadata": {},
     "output_type": "display_data"
    },
    {
     "name": "stdout",
     "output_type": "stream",
     "text": [
      "Zapisano: yellow_tripdata_2021-09.parquet\n",
      "Pobieranie: yellow_tripdata_2021-10.parquet...\n"
     ]
    },
    {
     "data": {
      "text/plain": "yellow_tripdata_2021-10.parquet: 0KB [00:00, ?KB/s]",
      "application/vnd.jupyter.widget-view+json": {
       "version_major": 2,
       "version_minor": 0,
       "model_id": "4976b0b77478479bbc911fa751099b7a"
      }
     },
     "metadata": {},
     "output_type": "display_data"
    },
    {
     "name": "stdout",
     "output_type": "stream",
     "text": [
      "Zapisano: yellow_tripdata_2021-10.parquet\n",
      "Pobieranie: yellow_tripdata_2021-11.parquet...\n"
     ]
    },
    {
     "data": {
      "text/plain": "yellow_tripdata_2021-11.parquet: 0KB [00:00, ?KB/s]",
      "application/vnd.jupyter.widget-view+json": {
       "version_major": 2,
       "version_minor": 0,
       "model_id": "4aab367bfe3049ae85d587ee39244f82"
      }
     },
     "metadata": {},
     "output_type": "display_data"
    },
    {
     "name": "stdout",
     "output_type": "stream",
     "text": [
      "Zapisano: yellow_tripdata_2021-11.parquet\n",
      "Pobieranie: yellow_tripdata_2021-12.parquet...\n"
     ]
    },
    {
     "data": {
      "text/plain": "yellow_tripdata_2021-12.parquet: 0KB [00:00, ?KB/s]",
      "application/vnd.jupyter.widget-view+json": {
       "version_major": 2,
       "version_minor": 0,
       "model_id": "10d727adb15e41e9aa13edd81fbd7d15"
      }
     },
     "metadata": {},
     "output_type": "display_data"
    },
    {
     "name": "stdout",
     "output_type": "stream",
     "text": [
      "Zapisano: yellow_tripdata_2021-12.parquet\n",
      "Pobieranie: yellow_tripdata_2022-01.parquet...\n"
     ]
    },
    {
     "data": {
      "text/plain": "yellow_tripdata_2022-01.parquet: 0KB [00:00, ?KB/s]",
      "application/vnd.jupyter.widget-view+json": {
       "version_major": 2,
       "version_minor": 0,
       "model_id": "cec4d82f746c42cda2d5a3ce865a6bc9"
      }
     },
     "metadata": {},
     "output_type": "display_data"
    },
    {
     "name": "stdout",
     "output_type": "stream",
     "text": [
      "Zapisano: yellow_tripdata_2022-01.parquet\n",
      "Pobieranie: yellow_tripdata_2022-02.parquet...\n"
     ]
    },
    {
     "data": {
      "text/plain": "yellow_tripdata_2022-02.parquet: 0KB [00:00, ?KB/s]",
      "application/vnd.jupyter.widget-view+json": {
       "version_major": 2,
       "version_minor": 0,
       "model_id": "2e3e248a961b4aa882ef8c919c3275e1"
      }
     },
     "metadata": {},
     "output_type": "display_data"
    },
    {
     "name": "stdout",
     "output_type": "stream",
     "text": [
      "Zapisano: yellow_tripdata_2022-02.parquet\n",
      "Pobieranie: yellow_tripdata_2022-03.parquet...\n"
     ]
    },
    {
     "data": {
      "text/plain": "yellow_tripdata_2022-03.parquet: 0KB [00:00, ?KB/s]",
      "application/vnd.jupyter.widget-view+json": {
       "version_major": 2,
       "version_minor": 0,
       "model_id": "ca7d40b86ec34ec7a2e13ab93ff7560a"
      }
     },
     "metadata": {},
     "output_type": "display_data"
    },
    {
     "name": "stdout",
     "output_type": "stream",
     "text": [
      "Zapisano: yellow_tripdata_2022-03.parquet\n",
      "Pobieranie: yellow_tripdata_2022-04.parquet...\n"
     ]
    },
    {
     "data": {
      "text/plain": "yellow_tripdata_2022-04.parquet: 0KB [00:00, ?KB/s]",
      "application/vnd.jupyter.widget-view+json": {
       "version_major": 2,
       "version_minor": 0,
       "model_id": "d7e5160132ed4656af0c24ea82496234"
      }
     },
     "metadata": {},
     "output_type": "display_data"
    },
    {
     "name": "stdout",
     "output_type": "stream",
     "text": [
      "Zapisano: yellow_tripdata_2022-04.parquet\n",
      "Pobieranie: yellow_tripdata_2022-05.parquet...\n"
     ]
    },
    {
     "data": {
      "text/plain": "yellow_tripdata_2022-05.parquet: 0KB [00:00, ?KB/s]",
      "application/vnd.jupyter.widget-view+json": {
       "version_major": 2,
       "version_minor": 0,
       "model_id": "1f0fe769a7254ca08674901b142c77b8"
      }
     },
     "metadata": {},
     "output_type": "display_data"
    },
    {
     "name": "stdout",
     "output_type": "stream",
     "text": [
      "Zapisano: yellow_tripdata_2022-05.parquet\n",
      "Pobieranie: yellow_tripdata_2022-06.parquet...\n"
     ]
    },
    {
     "data": {
      "text/plain": "yellow_tripdata_2022-06.parquet: 0KB [00:00, ?KB/s]",
      "application/vnd.jupyter.widget-view+json": {
       "version_major": 2,
       "version_minor": 0,
       "model_id": "7bb0c334efad476ab8a5a32f4318b552"
      }
     },
     "metadata": {},
     "output_type": "display_data"
    },
    {
     "name": "stdout",
     "output_type": "stream",
     "text": [
      "Zapisano: yellow_tripdata_2022-06.parquet\n",
      "Pobieranie: yellow_tripdata_2022-07.parquet...\n"
     ]
    },
    {
     "data": {
      "text/plain": "yellow_tripdata_2022-07.parquet: 0KB [00:00, ?KB/s]",
      "application/vnd.jupyter.widget-view+json": {
       "version_major": 2,
       "version_minor": 0,
       "model_id": "14aa86079b9f4926af53421bb3ee585d"
      }
     },
     "metadata": {},
     "output_type": "display_data"
    },
    {
     "name": "stdout",
     "output_type": "stream",
     "text": [
      "Zapisano: yellow_tripdata_2022-07.parquet\n",
      "Pobieranie: yellow_tripdata_2022-08.parquet...\n"
     ]
    },
    {
     "data": {
      "text/plain": "yellow_tripdata_2022-08.parquet: 0KB [00:00, ?KB/s]",
      "application/vnd.jupyter.widget-view+json": {
       "version_major": 2,
       "version_minor": 0,
       "model_id": "962d57c74cbb47c2acee4b2bc575cd3c"
      }
     },
     "metadata": {},
     "output_type": "display_data"
    },
    {
     "name": "stdout",
     "output_type": "stream",
     "text": [
      "Zapisano: yellow_tripdata_2022-08.parquet\n",
      "Pobieranie: yellow_tripdata_2022-09.parquet...\n"
     ]
    },
    {
     "data": {
      "text/plain": "yellow_tripdata_2022-09.parquet: 0KB [00:00, ?KB/s]",
      "application/vnd.jupyter.widget-view+json": {
       "version_major": 2,
       "version_minor": 0,
       "model_id": "cdafe4def05d444b9eff312611f5b6e6"
      }
     },
     "metadata": {},
     "output_type": "display_data"
    },
    {
     "name": "stdout",
     "output_type": "stream",
     "text": [
      "Zapisano: yellow_tripdata_2022-09.parquet\n",
      "Pobieranie: yellow_tripdata_2022-10.parquet...\n"
     ]
    },
    {
     "data": {
      "text/plain": "yellow_tripdata_2022-10.parquet: 0KB [00:00, ?KB/s]",
      "application/vnd.jupyter.widget-view+json": {
       "version_major": 2,
       "version_minor": 0,
       "model_id": "1794b9a44286414892dc2e087edf4c15"
      }
     },
     "metadata": {},
     "output_type": "display_data"
    },
    {
     "name": "stdout",
     "output_type": "stream",
     "text": [
      "Zapisano: yellow_tripdata_2022-10.parquet\n",
      "Pobieranie: yellow_tripdata_2022-11.parquet...\n"
     ]
    },
    {
     "data": {
      "text/plain": "yellow_tripdata_2022-11.parquet: 0KB [00:00, ?KB/s]",
      "application/vnd.jupyter.widget-view+json": {
       "version_major": 2,
       "version_minor": 0,
       "model_id": "6443e09634084a0da1274cd359140259"
      }
     },
     "metadata": {},
     "output_type": "display_data"
    },
    {
     "name": "stdout",
     "output_type": "stream",
     "text": [
      "Zapisano: yellow_tripdata_2022-11.parquet\n",
      "Pobieranie: yellow_tripdata_2022-12.parquet...\n"
     ]
    },
    {
     "data": {
      "text/plain": "yellow_tripdata_2022-12.parquet: 0KB [00:00, ?KB/s]",
      "application/vnd.jupyter.widget-view+json": {
       "version_major": 2,
       "version_minor": 0,
       "model_id": "90b63cb57b944c1c866526eb98d1575d"
      }
     },
     "metadata": {},
     "output_type": "display_data"
    },
    {
     "name": "stdout",
     "output_type": "stream",
     "text": [
      "Zapisano: yellow_tripdata_2022-12.parquet\n",
      "Pobieranie: yellow_tripdata_2023-01.parquet...\n"
     ]
    },
    {
     "data": {
      "text/plain": "yellow_tripdata_2023-01.parquet: 0KB [00:00, ?KB/s]",
      "application/vnd.jupyter.widget-view+json": {
       "version_major": 2,
       "version_minor": 0,
       "model_id": "a8976f85726c41edab61aa2be94cd97c"
      }
     },
     "metadata": {},
     "output_type": "display_data"
    },
    {
     "name": "stdout",
     "output_type": "stream",
     "text": [
      "Zapisano: yellow_tripdata_2023-01.parquet\n",
      "Pobieranie: yellow_tripdata_2023-02.parquet...\n"
     ]
    },
    {
     "data": {
      "text/plain": "yellow_tripdata_2023-02.parquet: 0KB [00:00, ?KB/s]",
      "application/vnd.jupyter.widget-view+json": {
       "version_major": 2,
       "version_minor": 0,
       "model_id": "e91d78eafcd44498b95caca71301311a"
      }
     },
     "metadata": {},
     "output_type": "display_data"
    },
    {
     "name": "stdout",
     "output_type": "stream",
     "text": [
      "Zapisano: yellow_tripdata_2023-02.parquet\n",
      "Pobieranie: yellow_tripdata_2023-03.parquet...\n"
     ]
    },
    {
     "data": {
      "text/plain": "yellow_tripdata_2023-03.parquet: 0KB [00:00, ?KB/s]",
      "application/vnd.jupyter.widget-view+json": {
       "version_major": 2,
       "version_minor": 0,
       "model_id": "d18378b25d204cea8de66b34b647c04c"
      }
     },
     "metadata": {},
     "output_type": "display_data"
    },
    {
     "name": "stdout",
     "output_type": "stream",
     "text": [
      "Zapisano: yellow_tripdata_2023-03.parquet\n",
      "Pobieranie: yellow_tripdata_2023-04.parquet...\n"
     ]
    },
    {
     "data": {
      "text/plain": "yellow_tripdata_2023-04.parquet: 0KB [00:00, ?KB/s]",
      "application/vnd.jupyter.widget-view+json": {
       "version_major": 2,
       "version_minor": 0,
       "model_id": "1f993b9c25fe4f5b88321b92298155be"
      }
     },
     "metadata": {},
     "output_type": "display_data"
    },
    {
     "name": "stdout",
     "output_type": "stream",
     "text": [
      "Zapisano: yellow_tripdata_2023-04.parquet\n",
      "Pobieranie: yellow_tripdata_2023-05.parquet...\n"
     ]
    },
    {
     "data": {
      "text/plain": "yellow_tripdata_2023-05.parquet: 0KB [00:00, ?KB/s]",
      "application/vnd.jupyter.widget-view+json": {
       "version_major": 2,
       "version_minor": 0,
       "model_id": "c5058a232d244470868168291bb8a7ad"
      }
     },
     "metadata": {},
     "output_type": "display_data"
    },
    {
     "name": "stdout",
     "output_type": "stream",
     "text": [
      "Zapisano: yellow_tripdata_2023-05.parquet\n",
      "Pobieranie: yellow_tripdata_2023-06.parquet...\n"
     ]
    },
    {
     "data": {
      "text/plain": "yellow_tripdata_2023-06.parquet: 0KB [00:00, ?KB/s]",
      "application/vnd.jupyter.widget-view+json": {
       "version_major": 2,
       "version_minor": 0,
       "model_id": "f0e9036925784b50b8257b915da0abda"
      }
     },
     "metadata": {},
     "output_type": "display_data"
    },
    {
     "name": "stdout",
     "output_type": "stream",
     "text": [
      "Zapisano: yellow_tripdata_2023-06.parquet\n",
      "Pobieranie: yellow_tripdata_2023-07.parquet...\n"
     ]
    },
    {
     "data": {
      "text/plain": "yellow_tripdata_2023-07.parquet: 0KB [00:00, ?KB/s]",
      "application/vnd.jupyter.widget-view+json": {
       "version_major": 2,
       "version_minor": 0,
       "model_id": "c5a8df480073437bafe125b91758dd11"
      }
     },
     "metadata": {},
     "output_type": "display_data"
    },
    {
     "name": "stdout",
     "output_type": "stream",
     "text": [
      "Zapisano: yellow_tripdata_2023-07.parquet\n",
      "Pobieranie: yellow_tripdata_2023-08.parquet...\n"
     ]
    },
    {
     "data": {
      "text/plain": "yellow_tripdata_2023-08.parquet: 0KB [00:00, ?KB/s]",
      "application/vnd.jupyter.widget-view+json": {
       "version_major": 2,
       "version_minor": 0,
       "model_id": "86753e52832e4cbf927fe3a76624aa1a"
      }
     },
     "metadata": {},
     "output_type": "display_data"
    },
    {
     "name": "stdout",
     "output_type": "stream",
     "text": [
      "Zapisano: yellow_tripdata_2023-08.parquet\n",
      "Pobieranie: yellow_tripdata_2023-09.parquet...\n"
     ]
    },
    {
     "data": {
      "text/plain": "yellow_tripdata_2023-09.parquet: 0KB [00:00, ?KB/s]",
      "application/vnd.jupyter.widget-view+json": {
       "version_major": 2,
       "version_minor": 0,
       "model_id": "76d7f06c2d9046d496b8c9a7f9ed75ed"
      }
     },
     "metadata": {},
     "output_type": "display_data"
    },
    {
     "name": "stdout",
     "output_type": "stream",
     "text": [
      "Zapisano: yellow_tripdata_2023-09.parquet\n",
      "Pobieranie: yellow_tripdata_2023-10.parquet...\n"
     ]
    },
    {
     "data": {
      "text/plain": "yellow_tripdata_2023-10.parquet: 0KB [00:00, ?KB/s]",
      "application/vnd.jupyter.widget-view+json": {
       "version_major": 2,
       "version_minor": 0,
       "model_id": "88a5798121d74e4b9b033f65230dbb47"
      }
     },
     "metadata": {},
     "output_type": "display_data"
    },
    {
     "name": "stdout",
     "output_type": "stream",
     "text": [
      "Zapisano: yellow_tripdata_2023-10.parquet\n",
      "Pobieranie: yellow_tripdata_2023-11.parquet...\n"
     ]
    },
    {
     "data": {
      "text/plain": "yellow_tripdata_2023-11.parquet: 0KB [00:00, ?KB/s]",
      "application/vnd.jupyter.widget-view+json": {
       "version_major": 2,
       "version_minor": 0,
       "model_id": "e42cda0a217143d2b493ac6ffe109a89"
      }
     },
     "metadata": {},
     "output_type": "display_data"
    },
    {
     "name": "stdout",
     "output_type": "stream",
     "text": [
      "Zapisano: yellow_tripdata_2023-11.parquet\n",
      "Pobieranie: yellow_tripdata_2023-12.parquet...\n"
     ]
    },
    {
     "data": {
      "text/plain": "yellow_tripdata_2023-12.parquet: 0KB [00:00, ?KB/s]",
      "application/vnd.jupyter.widget-view+json": {
       "version_major": 2,
       "version_minor": 0,
       "model_id": "e89fcc9d1e9d4948984a07b5f6207746"
      }
     },
     "metadata": {},
     "output_type": "display_data"
    },
    {
     "name": "stdout",
     "output_type": "stream",
     "text": [
      "Zapisano: yellow_tripdata_2023-12.parquet\n",
      "Pobieranie: yellow_tripdata_2024-01.parquet...\n"
     ]
    },
    {
     "data": {
      "text/plain": "yellow_tripdata_2024-01.parquet: 0KB [00:00, ?KB/s]",
      "application/vnd.jupyter.widget-view+json": {
       "version_major": 2,
       "version_minor": 0,
       "model_id": "becd02fc23a54931ae805780c239a2b0"
      }
     },
     "metadata": {},
     "output_type": "display_data"
    },
    {
     "name": "stdout",
     "output_type": "stream",
     "text": [
      "Zapisano: yellow_tripdata_2024-01.parquet\n",
      "Pobieranie: yellow_tripdata_2024-02.parquet...\n"
     ]
    },
    {
     "data": {
      "text/plain": "yellow_tripdata_2024-02.parquet: 0KB [00:00, ?KB/s]",
      "application/vnd.jupyter.widget-view+json": {
       "version_major": 2,
       "version_minor": 0,
       "model_id": "043228347f6a4626a82216ffef11e73f"
      }
     },
     "metadata": {},
     "output_type": "display_data"
    },
    {
     "name": "stdout",
     "output_type": "stream",
     "text": [
      "Zapisano: yellow_tripdata_2024-02.parquet\n",
      "Pobieranie: yellow_tripdata_2024-03.parquet...\n"
     ]
    },
    {
     "data": {
      "text/plain": "yellow_tripdata_2024-03.parquet: 0KB [00:00, ?KB/s]",
      "application/vnd.jupyter.widget-view+json": {
       "version_major": 2,
       "version_minor": 0,
       "model_id": "502c0f51523e470ca92bb79fbcb43d82"
      }
     },
     "metadata": {},
     "output_type": "display_data"
    },
    {
     "name": "stdout",
     "output_type": "stream",
     "text": [
      "Zapisano: yellow_tripdata_2024-03.parquet\n",
      "Pobieranie: yellow_tripdata_2024-04.parquet...\n"
     ]
    },
    {
     "data": {
      "text/plain": "yellow_tripdata_2024-04.parquet: 0KB [00:00, ?KB/s]",
      "application/vnd.jupyter.widget-view+json": {
       "version_major": 2,
       "version_minor": 0,
       "model_id": "4a323fd536c54eb58c561d9bd6fb8191"
      }
     },
     "metadata": {},
     "output_type": "display_data"
    },
    {
     "name": "stdout",
     "output_type": "stream",
     "text": [
      "Zapisano: yellow_tripdata_2024-04.parquet\n",
      "Pobieranie: yellow_tripdata_2024-05.parquet...\n"
     ]
    },
    {
     "data": {
      "text/plain": "yellow_tripdata_2024-05.parquet: 0KB [00:00, ?KB/s]",
      "application/vnd.jupyter.widget-view+json": {
       "version_major": 2,
       "version_minor": 0,
       "model_id": "359730f60d824bb39d331ac638543c33"
      }
     },
     "metadata": {},
     "output_type": "display_data"
    },
    {
     "name": "stdout",
     "output_type": "stream",
     "text": [
      "Zapisano: yellow_tripdata_2024-05.parquet\n",
      "Pobieranie: yellow_tripdata_2024-06.parquet...\n"
     ]
    },
    {
     "data": {
      "text/plain": "yellow_tripdata_2024-06.parquet: 0KB [00:00, ?KB/s]",
      "application/vnd.jupyter.widget-view+json": {
       "version_major": 2,
       "version_minor": 0,
       "model_id": "e4365c8c4c0c42368b702894db4db808"
      }
     },
     "metadata": {},
     "output_type": "display_data"
    },
    {
     "name": "stdout",
     "output_type": "stream",
     "text": [
      "Zapisano: yellow_tripdata_2024-06.parquet\n",
      "Pobieranie: yellow_tripdata_2024-07.parquet...\n"
     ]
    },
    {
     "data": {
      "text/plain": "yellow_tripdata_2024-07.parquet: 0KB [00:00, ?KB/s]",
      "application/vnd.jupyter.widget-view+json": {
       "version_major": 2,
       "version_minor": 0,
       "model_id": "e095a9a392134c049fa7958dc2de93a2"
      }
     },
     "metadata": {},
     "output_type": "display_data"
    },
    {
     "name": "stdout",
     "output_type": "stream",
     "text": [
      "Zapisano: yellow_tripdata_2024-07.parquet\n",
      "Pobieranie: yellow_tripdata_2024-08.parquet...\n"
     ]
    },
    {
     "data": {
      "text/plain": "yellow_tripdata_2024-08.parquet: 0KB [00:00, ?KB/s]",
      "application/vnd.jupyter.widget-view+json": {
       "version_major": 2,
       "version_minor": 0,
       "model_id": "e43743e92b394a8c9899cb3719745f55"
      }
     },
     "metadata": {},
     "output_type": "display_data"
    },
    {
     "name": "stdout",
     "output_type": "stream",
     "text": [
      "Zapisano: yellow_tripdata_2024-08.parquet\n",
      "Pobieranie: yellow_tripdata_2024-09.parquet...\n"
     ]
    },
    {
     "data": {
      "text/plain": "yellow_tripdata_2024-09.parquet: 0KB [00:00, ?KB/s]",
      "application/vnd.jupyter.widget-view+json": {
       "version_major": 2,
       "version_minor": 0,
       "model_id": "a213b932e3244c4db832160eca0b2dbd"
      }
     },
     "metadata": {},
     "output_type": "display_data"
    },
    {
     "name": "stdout",
     "output_type": "stream",
     "text": [
      "Zapisano: yellow_tripdata_2024-09.parquet\n",
      "Pobieranie: yellow_tripdata_2024-10.parquet...\n"
     ]
    },
    {
     "data": {
      "text/plain": "yellow_tripdata_2024-10.parquet: 0KB [00:00, ?KB/s]",
      "application/vnd.jupyter.widget-view+json": {
       "version_major": 2,
       "version_minor": 0,
       "model_id": "fa12ab61cbbc4b39b4349e2cec8b8973"
      }
     },
     "metadata": {},
     "output_type": "display_data"
    },
    {
     "name": "stdout",
     "output_type": "stream",
     "text": [
      "Zapisano: yellow_tripdata_2024-10.parquet\n",
      "Pobieranie: yellow_tripdata_2024-11.parquet...\n",
      "Nie udało się pobrać yellow_tripdata_2024-11.parquet: 403 Client Error: Forbidden for url: https://d37ci6vzurychx.cloudfront.net/trip-data/yellow_tripdata_2024-11.parquet\n",
      "Pobieranie: yellow_tripdata_2024-12.parquet...\n",
      "Nie udało się pobrać yellow_tripdata_2024-12.parquet: 403 Client Error: Forbidden for url: https://d37ci6vzurychx.cloudfront.net/trip-data/yellow_tripdata_2024-12.parquet\n"
     ]
    }
   ],
   "source": [
    "download_taxi_data(start_year=2009, end_year=2024)"
   ],
   "metadata": {
    "collapsed": false,
    "ExecuteTime": {
     "end_time": "2025-01-06T09:44:17.350836Z",
     "start_time": "2025-01-06T09:38:08.224812Z"
    }
   },
   "id": "dd8f4471b05a418e",
   "execution_count": 3
  }
 ],
 "metadata": {
  "kernelspec": {
   "display_name": "Python 3",
   "language": "python",
   "name": "python3"
  },
  "language_info": {
   "codemirror_mode": {
    "name": "ipython",
    "version": 2
   },
   "file_extension": ".py",
   "mimetype": "text/x-python",
   "name": "python",
   "nbconvert_exporter": "python",
   "pygments_lexer": "ipython2",
   "version": "2.7.6"
  }
 },
 "nbformat": 4,
 "nbformat_minor": 5
}
