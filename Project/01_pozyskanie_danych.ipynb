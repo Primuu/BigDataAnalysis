{
 "cells": [
  {
   "cell_type": "markdown",
   "source": [
    "# Etap 1 - Pozyskanie danych\n",
    "\n",
    "## Dataset: Yellow Taxi Trip Records\n",
    "\n",
    "Dane użyte w tym projekcie pochodzą z serwisu NYC Taxi & Limousine Commission. Dane te zawierają informacje o przejazdach taksówek w Nowym Jorku, takie jak np. miejsca rozpoczęcia i zakończenia przejazdu, czas trwania oraz odległość itp.\n",
    "\n",
    "## Licencja\n",
    "\n",
    "`Dane zostały zebrane i przekazane do NYC Taxi and Limousine Commission (TLC) przez dostawców technologii autoryzowanych w ramach programów Taxicab & Livery Passenger Enhancement Programs (TPEP/LPEP). Dane dotyczące przejazdów nie zostały utworzone przez TLC, a TLC nie składa żadnych oświadczeń co do ich dokładności.`\n",
    "\n",
    "[https://www.nyc.gov](https://www.nyc.gov/site/tlc/about/tlc-trip-record-data.page)\n",
    "\n",
    "## Spis treści\n",
    "1. [Import bibliotek](#import-bibliotek)\n",
    "2. [Funkcja pobierająca](#funkcja-pobierająca)\n",
    "3. [Pobieranie danych](#pobieranie-danych)"
   ],
   "metadata": {
    "collapsed": false
   },
   "id": "35e6b6bb17653370"
  },
  {
   "cell_type": "markdown",
   "source": [
    "## Import bibliotek"
   ],
   "metadata": {
    "collapsed": false
   },
   "id": "970be254a3fd1077"
  },
  {
   "cell_type": "code",
   "execution_count": 4,
   "id": "initial_id",
   "metadata": {
    "collapsed": true,
    "ExecuteTime": {
     "end_time": "2025-01-05T10:22:54.146866Z",
     "start_time": "2025-01-05T10:22:53.473874Z"
    }
   },
   "outputs": [],
   "source": [
    "import os\n",
    "import requests\n",
    "from tqdm.notebook import tqdm"
   ]
  },
  {
   "cell_type": "markdown",
   "source": [
    "## Funkcja pobierająca"
   ],
   "metadata": {
    "collapsed": false
   },
   "id": "87e524bd2d9cf34c"
  },
  {
   "cell_type": "code",
   "outputs": [],
   "source": [
    "def download_taxi_data(start_year, end_year, folder='data'):\n",
    "    base_url = \"https://d37ci6vzurychx.cloudfront.net/trip-data\"\n",
    "    os.makedirs(folder, exist_ok=True)\n",
    "    \n",
    "    for year in range(start_year, end_year + 1):\n",
    "        for month in range(1, 13):\n",
    "            file_name = f'yellow_tripdata_{year}-{month:02d}.parquet'\n",
    "            file_path = os.path.join(folder, file_name)\n",
    "            url = f\"{base_url}/{file_name}\"\n",
    "            \n",
    "            if os.path.exists(file_path):\n",
    "                print(f\"Plik {file_name} już istnieje. Pomijanie...\")\n",
    "                continue\n",
    "            \n",
    "            print(f\"Pobieranie: {file_name}...\")\n",
    "            try:\n",
    "                response = requests.get(url, stream=True)\n",
    "                response.raise_for_status()\n",
    "                \n",
    "                with open(file_path, 'wb') as file:\n",
    "                    for chunk in tqdm(response.iter_content(chunk_size=1024), desc=file_name, unit=\"KB\"):\n",
    "                        file.write(chunk)\n",
    "                \n",
    "                print(f\"Zapisano: {file_name}\")\n",
    "            except requests.exceptions.RequestException as e:\n",
    "                print(f\"Nie udało się pobrać {file_name}: {e}\")"
   ],
   "metadata": {
    "collapsed": false,
    "ExecuteTime": {
     "end_time": "2025-01-05T10:22:54.677838Z",
     "start_time": "2025-01-05T10:22:54.667681Z"
    }
   },
   "id": "37e748c36d565427",
   "execution_count": 5
  },
  {
   "cell_type": "markdown",
   "source": [
    "## Pobieranie danych"
   ],
   "metadata": {
    "collapsed": false
   },
   "id": "c60772db03e63fa5"
  },
  {
   "cell_type": "code",
   "outputs": [
    {
     "name": "stdout",
     "output_type": "stream",
     "text": [
      "Plik yellow_tripdata_2009-01.parquet już istnieje. Pomijanie...\n",
      "Plik yellow_tripdata_2009-02.parquet już istnieje. Pomijanie...\n",
      "Plik yellow_tripdata_2009-03.parquet już istnieje. Pomijanie...\n",
      "Plik yellow_tripdata_2009-04.parquet już istnieje. Pomijanie...\n",
      "Plik yellow_tripdata_2009-05.parquet już istnieje. Pomijanie...\n",
      "Plik yellow_tripdata_2009-06.parquet już istnieje. Pomijanie...\n",
      "Plik yellow_tripdata_2009-07.parquet już istnieje. Pomijanie...\n",
      "Plik yellow_tripdata_2009-08.parquet już istnieje. Pomijanie...\n",
      "Plik yellow_tripdata_2009-09.parquet już istnieje. Pomijanie...\n",
      "Plik yellow_tripdata_2009-10.parquet już istnieje. Pomijanie...\n",
      "Plik yellow_tripdata_2009-11.parquet już istnieje. Pomijanie...\n",
      "Plik yellow_tripdata_2009-12.parquet już istnieje. Pomijanie...\n",
      "Plik yellow_tripdata_2010-01.parquet już istnieje. Pomijanie...\n",
      "Plik yellow_tripdata_2010-02.parquet już istnieje. Pomijanie...\n",
      "Plik yellow_tripdata_2010-03.parquet już istnieje. Pomijanie...\n",
      "Plik yellow_tripdata_2010-04.parquet już istnieje. Pomijanie...\n",
      "Plik yellow_tripdata_2010-05.parquet już istnieje. Pomijanie...\n",
      "Plik yellow_tripdata_2010-06.parquet już istnieje. Pomijanie...\n",
      "Plik yellow_tripdata_2010-07.parquet już istnieje. Pomijanie...\n",
      "Plik yellow_tripdata_2010-08.parquet już istnieje. Pomijanie...\n",
      "Plik yellow_tripdata_2010-09.parquet już istnieje. Pomijanie...\n",
      "Plik yellow_tripdata_2010-10.parquet już istnieje. Pomijanie...\n",
      "Plik yellow_tripdata_2010-11.parquet już istnieje. Pomijanie...\n",
      "Plik yellow_tripdata_2010-12.parquet już istnieje. Pomijanie...\n",
      "Pobieranie: yellow_tripdata_2011-01.parquet...\n"
     ]
    },
    {
     "data": {
      "text/plain": "yellow_tripdata_2011-01.parquet: 0KB [00:00, ?KB/s]",
      "application/vnd.jupyter.widget-view+json": {
       "version_major": 2,
       "version_minor": 0,
       "model_id": "cd77f4717a4c46e88db712516dfea54e"
      }
     },
     "metadata": {},
     "output_type": "display_data"
    },
    {
     "name": "stdout",
     "output_type": "stream",
     "text": [
      "Zapisano: yellow_tripdata_2011-01.parquet\n",
      "Pobieranie: yellow_tripdata_2011-02.parquet...\n"
     ]
    },
    {
     "data": {
      "text/plain": "yellow_tripdata_2011-02.parquet: 0KB [00:00, ?KB/s]",
      "application/vnd.jupyter.widget-view+json": {
       "version_major": 2,
       "version_minor": 0,
       "model_id": "2554c251dbbe4b7496a68c1b407a3ed6"
      }
     },
     "metadata": {},
     "output_type": "display_data"
    },
    {
     "name": "stdout",
     "output_type": "stream",
     "text": [
      "Zapisano: yellow_tripdata_2011-02.parquet\n",
      "Pobieranie: yellow_tripdata_2011-03.parquet...\n"
     ]
    },
    {
     "data": {
      "text/plain": "yellow_tripdata_2011-03.parquet: 0KB [00:00, ?KB/s]",
      "application/vnd.jupyter.widget-view+json": {
       "version_major": 2,
       "version_minor": 0,
       "model_id": "9567149457324665be0507519656fd61"
      }
     },
     "metadata": {},
     "output_type": "display_data"
    },
    {
     "name": "stdout",
     "output_type": "stream",
     "text": [
      "Zapisano: yellow_tripdata_2011-03.parquet\n",
      "Pobieranie: yellow_tripdata_2011-04.parquet...\n"
     ]
    },
    {
     "data": {
      "text/plain": "yellow_tripdata_2011-04.parquet: 0KB [00:00, ?KB/s]",
      "application/vnd.jupyter.widget-view+json": {
       "version_major": 2,
       "version_minor": 0,
       "model_id": "da989a92bc00435ba02fc4fbeb0394ec"
      }
     },
     "metadata": {},
     "output_type": "display_data"
    },
    {
     "name": "stdout",
     "output_type": "stream",
     "text": [
      "Zapisano: yellow_tripdata_2011-04.parquet\n",
      "Pobieranie: yellow_tripdata_2011-05.parquet...\n"
     ]
    },
    {
     "data": {
      "text/plain": "yellow_tripdata_2011-05.parquet: 0KB [00:00, ?KB/s]",
      "application/vnd.jupyter.widget-view+json": {
       "version_major": 2,
       "version_minor": 0,
       "model_id": "6b7bc37750b34dab9c542b3b65d08e5b"
      }
     },
     "metadata": {},
     "output_type": "display_data"
    },
    {
     "name": "stdout",
     "output_type": "stream",
     "text": [
      "Zapisano: yellow_tripdata_2011-05.parquet\n",
      "Pobieranie: yellow_tripdata_2011-06.parquet...\n"
     ]
    },
    {
     "data": {
      "text/plain": "yellow_tripdata_2011-06.parquet: 0KB [00:00, ?KB/s]",
      "application/vnd.jupyter.widget-view+json": {
       "version_major": 2,
       "version_minor": 0,
       "model_id": "036a39c583094b3a90d0a5eca8edec53"
      }
     },
     "metadata": {},
     "output_type": "display_data"
    },
    {
     "name": "stdout",
     "output_type": "stream",
     "text": [
      "Zapisano: yellow_tripdata_2011-06.parquet\n",
      "Pobieranie: yellow_tripdata_2011-07.parquet...\n"
     ]
    },
    {
     "data": {
      "text/plain": "yellow_tripdata_2011-07.parquet: 0KB [00:00, ?KB/s]",
      "application/vnd.jupyter.widget-view+json": {
       "version_major": 2,
       "version_minor": 0,
       "model_id": "e034b280cdce40b2ba0e6a7426901491"
      }
     },
     "metadata": {},
     "output_type": "display_data"
    },
    {
     "name": "stdout",
     "output_type": "stream",
     "text": [
      "Zapisano: yellow_tripdata_2011-07.parquet\n",
      "Pobieranie: yellow_tripdata_2011-08.parquet...\n"
     ]
    },
    {
     "data": {
      "text/plain": "yellow_tripdata_2011-08.parquet: 0KB [00:00, ?KB/s]",
      "application/vnd.jupyter.widget-view+json": {
       "version_major": 2,
       "version_minor": 0,
       "model_id": "b8ff44ee984e436daadb51b69db9b078"
      }
     },
     "metadata": {},
     "output_type": "display_data"
    },
    {
     "name": "stdout",
     "output_type": "stream",
     "text": [
      "Zapisano: yellow_tripdata_2011-08.parquet\n",
      "Pobieranie: yellow_tripdata_2011-09.parquet...\n"
     ]
    },
    {
     "data": {
      "text/plain": "yellow_tripdata_2011-09.parquet: 0KB [00:00, ?KB/s]",
      "application/vnd.jupyter.widget-view+json": {
       "version_major": 2,
       "version_minor": 0,
       "model_id": "a203fb4fc0d3434fa27dbfe336dbed06"
      }
     },
     "metadata": {},
     "output_type": "display_data"
    },
    {
     "name": "stdout",
     "output_type": "stream",
     "text": [
      "Zapisano: yellow_tripdata_2011-09.parquet\n",
      "Pobieranie: yellow_tripdata_2011-10.parquet...\n"
     ]
    },
    {
     "data": {
      "text/plain": "yellow_tripdata_2011-10.parquet: 0KB [00:00, ?KB/s]",
      "application/vnd.jupyter.widget-view+json": {
       "version_major": 2,
       "version_minor": 0,
       "model_id": "30cd14e086b84b26b7426b5340d768e0"
      }
     },
     "metadata": {},
     "output_type": "display_data"
    },
    {
     "name": "stdout",
     "output_type": "stream",
     "text": [
      "Zapisano: yellow_tripdata_2011-10.parquet\n",
      "Pobieranie: yellow_tripdata_2011-11.parquet...\n"
     ]
    },
    {
     "data": {
      "text/plain": "yellow_tripdata_2011-11.parquet: 0KB [00:00, ?KB/s]",
      "application/vnd.jupyter.widget-view+json": {
       "version_major": 2,
       "version_minor": 0,
       "model_id": "cc5bef469aec47a187e3b8bca1f0c090"
      }
     },
     "metadata": {},
     "output_type": "display_data"
    },
    {
     "name": "stdout",
     "output_type": "stream",
     "text": [
      "Zapisano: yellow_tripdata_2011-11.parquet\n",
      "Pobieranie: yellow_tripdata_2011-12.parquet...\n"
     ]
    },
    {
     "data": {
      "text/plain": "yellow_tripdata_2011-12.parquet: 0KB [00:00, ?KB/s]",
      "application/vnd.jupyter.widget-view+json": {
       "version_major": 2,
       "version_minor": 0,
       "model_id": "5fe92e3874594f1c8ed248d8b3671d33"
      }
     },
     "metadata": {},
     "output_type": "display_data"
    },
    {
     "name": "stdout",
     "output_type": "stream",
     "text": [
      "Zapisano: yellow_tripdata_2011-12.parquet\n",
      "Pobieranie: yellow_tripdata_2012-01.parquet...\n"
     ]
    },
    {
     "data": {
      "text/plain": "yellow_tripdata_2012-01.parquet: 0KB [00:00, ?KB/s]",
      "application/vnd.jupyter.widget-view+json": {
       "version_major": 2,
       "version_minor": 0,
       "model_id": "1514b9f28c4e4a55a958ab1f6d584aed"
      }
     },
     "metadata": {},
     "output_type": "display_data"
    },
    {
     "name": "stdout",
     "output_type": "stream",
     "text": [
      "Zapisano: yellow_tripdata_2012-01.parquet\n",
      "Pobieranie: yellow_tripdata_2012-02.parquet...\n"
     ]
    },
    {
     "data": {
      "text/plain": "yellow_tripdata_2012-02.parquet: 0KB [00:00, ?KB/s]",
      "application/vnd.jupyter.widget-view+json": {
       "version_major": 2,
       "version_minor": 0,
       "model_id": "941600f7159c4b6d80d8fe0325c72ad6"
      }
     },
     "metadata": {},
     "output_type": "display_data"
    },
    {
     "name": "stdout",
     "output_type": "stream",
     "text": [
      "Zapisano: yellow_tripdata_2012-02.parquet\n",
      "Pobieranie: yellow_tripdata_2012-03.parquet...\n"
     ]
    },
    {
     "data": {
      "text/plain": "yellow_tripdata_2012-03.parquet: 0KB [00:00, ?KB/s]",
      "application/vnd.jupyter.widget-view+json": {
       "version_major": 2,
       "version_minor": 0,
       "model_id": "135885da3aba404baa0585a542e979d9"
      }
     },
     "metadata": {},
     "output_type": "display_data"
    },
    {
     "name": "stdout",
     "output_type": "stream",
     "text": [
      "Zapisano: yellow_tripdata_2012-03.parquet\n",
      "Pobieranie: yellow_tripdata_2012-04.parquet...\n"
     ]
    },
    {
     "data": {
      "text/plain": "yellow_tripdata_2012-04.parquet: 0KB [00:00, ?KB/s]",
      "application/vnd.jupyter.widget-view+json": {
       "version_major": 2,
       "version_minor": 0,
       "model_id": "45bc1919f282485c99e750fcd880fc50"
      }
     },
     "metadata": {},
     "output_type": "display_data"
    },
    {
     "name": "stdout",
     "output_type": "stream",
     "text": [
      "Zapisano: yellow_tripdata_2012-04.parquet\n",
      "Pobieranie: yellow_tripdata_2012-05.parquet...\n"
     ]
    },
    {
     "data": {
      "text/plain": "yellow_tripdata_2012-05.parquet: 0KB [00:00, ?KB/s]",
      "application/vnd.jupyter.widget-view+json": {
       "version_major": 2,
       "version_minor": 0,
       "model_id": "beadf6ebb1dd40449abbbdbb40956224"
      }
     },
     "metadata": {},
     "output_type": "display_data"
    },
    {
     "name": "stdout",
     "output_type": "stream",
     "text": [
      "Zapisano: yellow_tripdata_2012-05.parquet\n",
      "Pobieranie: yellow_tripdata_2012-06.parquet...\n"
     ]
    },
    {
     "data": {
      "text/plain": "yellow_tripdata_2012-06.parquet: 0KB [00:00, ?KB/s]",
      "application/vnd.jupyter.widget-view+json": {
       "version_major": 2,
       "version_minor": 0,
       "model_id": "9c44b54a02f442afa28d81a4403197b4"
      }
     },
     "metadata": {},
     "output_type": "display_data"
    },
    {
     "name": "stdout",
     "output_type": "stream",
     "text": [
      "Zapisano: yellow_tripdata_2012-06.parquet\n",
      "Pobieranie: yellow_tripdata_2012-07.parquet...\n"
     ]
    },
    {
     "data": {
      "text/plain": "yellow_tripdata_2012-07.parquet: 0KB [00:00, ?KB/s]",
      "application/vnd.jupyter.widget-view+json": {
       "version_major": 2,
       "version_minor": 0,
       "model_id": "db93aae62a2e4a08bee92f6bc6837f1e"
      }
     },
     "metadata": {},
     "output_type": "display_data"
    },
    {
     "name": "stdout",
     "output_type": "stream",
     "text": [
      "Zapisano: yellow_tripdata_2012-07.parquet\n",
      "Pobieranie: yellow_tripdata_2012-08.parquet...\n"
     ]
    },
    {
     "data": {
      "text/plain": "yellow_tripdata_2012-08.parquet: 0KB [00:00, ?KB/s]",
      "application/vnd.jupyter.widget-view+json": {
       "version_major": 2,
       "version_minor": 0,
       "model_id": "1c8c06285b1c499c8e7a8defa534ac51"
      }
     },
     "metadata": {},
     "output_type": "display_data"
    },
    {
     "name": "stdout",
     "output_type": "stream",
     "text": [
      "Zapisano: yellow_tripdata_2012-08.parquet\n",
      "Pobieranie: yellow_tripdata_2012-09.parquet...\n"
     ]
    },
    {
     "data": {
      "text/plain": "yellow_tripdata_2012-09.parquet: 0KB [00:00, ?KB/s]",
      "application/vnd.jupyter.widget-view+json": {
       "version_major": 2,
       "version_minor": 0,
       "model_id": "2c548ca948d44fe9a5e2d0f7c1cf91d4"
      }
     },
     "metadata": {},
     "output_type": "display_data"
    },
    {
     "name": "stdout",
     "output_type": "stream",
     "text": [
      "Zapisano: yellow_tripdata_2012-09.parquet\n",
      "Pobieranie: yellow_tripdata_2012-10.parquet...\n"
     ]
    },
    {
     "data": {
      "text/plain": "yellow_tripdata_2012-10.parquet: 0KB [00:00, ?KB/s]",
      "application/vnd.jupyter.widget-view+json": {
       "version_major": 2,
       "version_minor": 0,
       "model_id": "e0f9de781a08488fbc03d9c7a8a843a6"
      }
     },
     "metadata": {},
     "output_type": "display_data"
    },
    {
     "name": "stdout",
     "output_type": "stream",
     "text": [
      "Zapisano: yellow_tripdata_2012-10.parquet\n",
      "Pobieranie: yellow_tripdata_2012-11.parquet...\n"
     ]
    },
    {
     "data": {
      "text/plain": "yellow_tripdata_2012-11.parquet: 0KB [00:00, ?KB/s]",
      "application/vnd.jupyter.widget-view+json": {
       "version_major": 2,
       "version_minor": 0,
       "model_id": "d28e19ba905c43dca8d9dbc3801058c1"
      }
     },
     "metadata": {},
     "output_type": "display_data"
    },
    {
     "name": "stdout",
     "output_type": "stream",
     "text": [
      "Zapisano: yellow_tripdata_2012-11.parquet\n",
      "Pobieranie: yellow_tripdata_2012-12.parquet...\n"
     ]
    },
    {
     "data": {
      "text/plain": "yellow_tripdata_2012-12.parquet: 0KB [00:00, ?KB/s]",
      "application/vnd.jupyter.widget-view+json": {
       "version_major": 2,
       "version_minor": 0,
       "model_id": "9b55459fc4bc4455a2447facdcb243b3"
      }
     },
     "metadata": {},
     "output_type": "display_data"
    },
    {
     "name": "stdout",
     "output_type": "stream",
     "text": [
      "Zapisano: yellow_tripdata_2012-12.parquet\n",
      "Pobieranie: yellow_tripdata_2013-01.parquet...\n"
     ]
    },
    {
     "data": {
      "text/plain": "yellow_tripdata_2013-01.parquet: 0KB [00:00, ?KB/s]",
      "application/vnd.jupyter.widget-view+json": {
       "version_major": 2,
       "version_minor": 0,
       "model_id": "c725ba7b88034a3fba91e9dbc562fa55"
      }
     },
     "metadata": {},
     "output_type": "display_data"
    },
    {
     "name": "stdout",
     "output_type": "stream",
     "text": [
      "Zapisano: yellow_tripdata_2013-01.parquet\n",
      "Pobieranie: yellow_tripdata_2013-02.parquet...\n"
     ]
    },
    {
     "data": {
      "text/plain": "yellow_tripdata_2013-02.parquet: 0KB [00:00, ?KB/s]",
      "application/vnd.jupyter.widget-view+json": {
       "version_major": 2,
       "version_minor": 0,
       "model_id": "dc6417f03db9409dac04b71b2fabd22e"
      }
     },
     "metadata": {},
     "output_type": "display_data"
    },
    {
     "name": "stdout",
     "output_type": "stream",
     "text": [
      "Zapisano: yellow_tripdata_2013-02.parquet\n",
      "Pobieranie: yellow_tripdata_2013-03.parquet...\n"
     ]
    },
    {
     "data": {
      "text/plain": "yellow_tripdata_2013-03.parquet: 0KB [00:00, ?KB/s]",
      "application/vnd.jupyter.widget-view+json": {
       "version_major": 2,
       "version_minor": 0,
       "model_id": "8d21d9a706dc4e039ec8eca376434a46"
      }
     },
     "metadata": {},
     "output_type": "display_data"
    },
    {
     "name": "stdout",
     "output_type": "stream",
     "text": [
      "Zapisano: yellow_tripdata_2013-03.parquet\n",
      "Pobieranie: yellow_tripdata_2013-04.parquet...\n"
     ]
    },
    {
     "data": {
      "text/plain": "yellow_tripdata_2013-04.parquet: 0KB [00:00, ?KB/s]",
      "application/vnd.jupyter.widget-view+json": {
       "version_major": 2,
       "version_minor": 0,
       "model_id": "ab50539495ec4432b61e0f53f28a60d9"
      }
     },
     "metadata": {},
     "output_type": "display_data"
    },
    {
     "name": "stdout",
     "output_type": "stream",
     "text": [
      "Zapisano: yellow_tripdata_2013-04.parquet\n",
      "Pobieranie: yellow_tripdata_2013-05.parquet...\n"
     ]
    },
    {
     "data": {
      "text/plain": "yellow_tripdata_2013-05.parquet: 0KB [00:00, ?KB/s]",
      "application/vnd.jupyter.widget-view+json": {
       "version_major": 2,
       "version_minor": 0,
       "model_id": "1b7ec4bc557c48968f0107444704fe6a"
      }
     },
     "metadata": {},
     "output_type": "display_data"
    },
    {
     "name": "stdout",
     "output_type": "stream",
     "text": [
      "Zapisano: yellow_tripdata_2013-05.parquet\n",
      "Pobieranie: yellow_tripdata_2013-06.parquet...\n"
     ]
    },
    {
     "data": {
      "text/plain": "yellow_tripdata_2013-06.parquet: 0KB [00:00, ?KB/s]",
      "application/vnd.jupyter.widget-view+json": {
       "version_major": 2,
       "version_minor": 0,
       "model_id": "100a49ad32a746c782b7e9f22ba43e24"
      }
     },
     "metadata": {},
     "output_type": "display_data"
    },
    {
     "name": "stdout",
     "output_type": "stream",
     "text": [
      "Zapisano: yellow_tripdata_2013-06.parquet\n",
      "Pobieranie: yellow_tripdata_2013-07.parquet...\n"
     ]
    },
    {
     "data": {
      "text/plain": "yellow_tripdata_2013-07.parquet: 0KB [00:00, ?KB/s]",
      "application/vnd.jupyter.widget-view+json": {
       "version_major": 2,
       "version_minor": 0,
       "model_id": "d4c44fabae934c01b5d5f904086d699f"
      }
     },
     "metadata": {},
     "output_type": "display_data"
    },
    {
     "name": "stdout",
     "output_type": "stream",
     "text": [
      "Zapisano: yellow_tripdata_2013-07.parquet\n",
      "Pobieranie: yellow_tripdata_2013-08.parquet...\n"
     ]
    },
    {
     "data": {
      "text/plain": "yellow_tripdata_2013-08.parquet: 0KB [00:00, ?KB/s]",
      "application/vnd.jupyter.widget-view+json": {
       "version_major": 2,
       "version_minor": 0,
       "model_id": "9588261314e64342ab85179068eadadc"
      }
     },
     "metadata": {},
     "output_type": "display_data"
    },
    {
     "name": "stdout",
     "output_type": "stream",
     "text": [
      "Zapisano: yellow_tripdata_2013-08.parquet\n",
      "Pobieranie: yellow_tripdata_2013-09.parquet...\n"
     ]
    },
    {
     "data": {
      "text/plain": "yellow_tripdata_2013-09.parquet: 0KB [00:00, ?KB/s]",
      "application/vnd.jupyter.widget-view+json": {
       "version_major": 2,
       "version_minor": 0,
       "model_id": "759bfb5450a44d0699386b711a405d15"
      }
     },
     "metadata": {},
     "output_type": "display_data"
    },
    {
     "name": "stdout",
     "output_type": "stream",
     "text": [
      "Zapisano: yellow_tripdata_2013-09.parquet\n",
      "Pobieranie: yellow_tripdata_2013-10.parquet...\n"
     ]
    },
    {
     "data": {
      "text/plain": "yellow_tripdata_2013-10.parquet: 0KB [00:00, ?KB/s]",
      "application/vnd.jupyter.widget-view+json": {
       "version_major": 2,
       "version_minor": 0,
       "model_id": "5e4212205a874d00a260065a5cb2373f"
      }
     },
     "metadata": {},
     "output_type": "display_data"
    },
    {
     "name": "stdout",
     "output_type": "stream",
     "text": [
      "Zapisano: yellow_tripdata_2013-10.parquet\n",
      "Pobieranie: yellow_tripdata_2013-11.parquet...\n"
     ]
    },
    {
     "data": {
      "text/plain": "yellow_tripdata_2013-11.parquet: 0KB [00:00, ?KB/s]",
      "application/vnd.jupyter.widget-view+json": {
       "version_major": 2,
       "version_minor": 0,
       "model_id": "97848c2197124a40ac64965de26a2d70"
      }
     },
     "metadata": {},
     "output_type": "display_data"
    },
    {
     "name": "stdout",
     "output_type": "stream",
     "text": [
      "Zapisano: yellow_tripdata_2013-11.parquet\n",
      "Pobieranie: yellow_tripdata_2013-12.parquet...\n"
     ]
    },
    {
     "data": {
      "text/plain": "yellow_tripdata_2013-12.parquet: 0KB [00:00, ?KB/s]",
      "application/vnd.jupyter.widget-view+json": {
       "version_major": 2,
       "version_minor": 0,
       "model_id": "d3085b2429e74e97813dfd6241dc707a"
      }
     },
     "metadata": {},
     "output_type": "display_data"
    },
    {
     "name": "stdout",
     "output_type": "stream",
     "text": [
      "Zapisano: yellow_tripdata_2013-12.parquet\n",
      "Pobieranie: yellow_tripdata_2014-01.parquet...\n"
     ]
    },
    {
     "data": {
      "text/plain": "yellow_tripdata_2014-01.parquet: 0KB [00:00, ?KB/s]",
      "application/vnd.jupyter.widget-view+json": {
       "version_major": 2,
       "version_minor": 0,
       "model_id": "17817d1379234f4b99cb00db635388f9"
      }
     },
     "metadata": {},
     "output_type": "display_data"
    },
    {
     "name": "stdout",
     "output_type": "stream",
     "text": [
      "Zapisano: yellow_tripdata_2014-01.parquet\n",
      "Pobieranie: yellow_tripdata_2014-02.parquet...\n"
     ]
    },
    {
     "data": {
      "text/plain": "yellow_tripdata_2014-02.parquet: 0KB [00:00, ?KB/s]",
      "application/vnd.jupyter.widget-view+json": {
       "version_major": 2,
       "version_minor": 0,
       "model_id": "6b81129bc62b401c87ffafdb22075859"
      }
     },
     "metadata": {},
     "output_type": "display_data"
    },
    {
     "name": "stdout",
     "output_type": "stream",
     "text": [
      "Zapisano: yellow_tripdata_2014-02.parquet\n",
      "Pobieranie: yellow_tripdata_2014-03.parquet...\n"
     ]
    },
    {
     "data": {
      "text/plain": "yellow_tripdata_2014-03.parquet: 0KB [00:00, ?KB/s]",
      "application/vnd.jupyter.widget-view+json": {
       "version_major": 2,
       "version_minor": 0,
       "model_id": "9dab50d134444bb091011e065a9093d3"
      }
     },
     "metadata": {},
     "output_type": "display_data"
    },
    {
     "name": "stdout",
     "output_type": "stream",
     "text": [
      "Zapisano: yellow_tripdata_2014-03.parquet\n",
      "Pobieranie: yellow_tripdata_2014-04.parquet...\n"
     ]
    },
    {
     "data": {
      "text/plain": "yellow_tripdata_2014-04.parquet: 0KB [00:00, ?KB/s]",
      "application/vnd.jupyter.widget-view+json": {
       "version_major": 2,
       "version_minor": 0,
       "model_id": "28590cfd9dc54a5d99eaa5d484fdaf97"
      }
     },
     "metadata": {},
     "output_type": "display_data"
    },
    {
     "name": "stdout",
     "output_type": "stream",
     "text": [
      "Zapisano: yellow_tripdata_2014-04.parquet\n",
      "Pobieranie: yellow_tripdata_2014-05.parquet...\n"
     ]
    },
    {
     "data": {
      "text/plain": "yellow_tripdata_2014-05.parquet: 0KB [00:00, ?KB/s]",
      "application/vnd.jupyter.widget-view+json": {
       "version_major": 2,
       "version_minor": 0,
       "model_id": "b1039cf04a2c4f61902666bf274e9d99"
      }
     },
     "metadata": {},
     "output_type": "display_data"
    },
    {
     "name": "stdout",
     "output_type": "stream",
     "text": [
      "Zapisano: yellow_tripdata_2014-05.parquet\n",
      "Pobieranie: yellow_tripdata_2014-06.parquet...\n"
     ]
    },
    {
     "data": {
      "text/plain": "yellow_tripdata_2014-06.parquet: 0KB [00:00, ?KB/s]",
      "application/vnd.jupyter.widget-view+json": {
       "version_major": 2,
       "version_minor": 0,
       "model_id": "09a3972b422c45caa7e0447e5d569eb5"
      }
     },
     "metadata": {},
     "output_type": "display_data"
    },
    {
     "name": "stdout",
     "output_type": "stream",
     "text": [
      "Zapisano: yellow_tripdata_2014-06.parquet\n",
      "Pobieranie: yellow_tripdata_2014-07.parquet...\n"
     ]
    },
    {
     "data": {
      "text/plain": "yellow_tripdata_2014-07.parquet: 0KB [00:00, ?KB/s]",
      "application/vnd.jupyter.widget-view+json": {
       "version_major": 2,
       "version_minor": 0,
       "model_id": "62b81269c5aa4557a3375cc197f61098"
      }
     },
     "metadata": {},
     "output_type": "display_data"
    },
    {
     "name": "stdout",
     "output_type": "stream",
     "text": [
      "Zapisano: yellow_tripdata_2014-07.parquet\n",
      "Pobieranie: yellow_tripdata_2014-08.parquet...\n"
     ]
    },
    {
     "data": {
      "text/plain": "yellow_tripdata_2014-08.parquet: 0KB [00:00, ?KB/s]",
      "application/vnd.jupyter.widget-view+json": {
       "version_major": 2,
       "version_minor": 0,
       "model_id": "8fed9ff875cd4d31b1efa937134c4451"
      }
     },
     "metadata": {},
     "output_type": "display_data"
    },
    {
     "name": "stdout",
     "output_type": "stream",
     "text": [
      "Zapisano: yellow_tripdata_2014-08.parquet\n",
      "Pobieranie: yellow_tripdata_2014-09.parquet...\n"
     ]
    },
    {
     "data": {
      "text/plain": "yellow_tripdata_2014-09.parquet: 0KB [00:00, ?KB/s]",
      "application/vnd.jupyter.widget-view+json": {
       "version_major": 2,
       "version_minor": 0,
       "model_id": "020e4d3aa19a420f8956aeff9abbfa6d"
      }
     },
     "metadata": {},
     "output_type": "display_data"
    },
    {
     "name": "stdout",
     "output_type": "stream",
     "text": [
      "Zapisano: yellow_tripdata_2014-09.parquet\n",
      "Pobieranie: yellow_tripdata_2014-10.parquet...\n"
     ]
    },
    {
     "data": {
      "text/plain": "yellow_tripdata_2014-10.parquet: 0KB [00:00, ?KB/s]",
      "application/vnd.jupyter.widget-view+json": {
       "version_major": 2,
       "version_minor": 0,
       "model_id": "643fd4f03ef8421695913daa150dfc91"
      }
     },
     "metadata": {},
     "output_type": "display_data"
    },
    {
     "name": "stdout",
     "output_type": "stream",
     "text": [
      "Zapisano: yellow_tripdata_2014-10.parquet\n",
      "Pobieranie: yellow_tripdata_2014-11.parquet...\n"
     ]
    },
    {
     "data": {
      "text/plain": "yellow_tripdata_2014-11.parquet: 0KB [00:00, ?KB/s]",
      "application/vnd.jupyter.widget-view+json": {
       "version_major": 2,
       "version_minor": 0,
       "model_id": "3c780161affa48f8be325b34f23a4b91"
      }
     },
     "metadata": {},
     "output_type": "display_data"
    },
    {
     "name": "stdout",
     "output_type": "stream",
     "text": [
      "Zapisano: yellow_tripdata_2014-11.parquet\n",
      "Pobieranie: yellow_tripdata_2014-12.parquet...\n"
     ]
    },
    {
     "data": {
      "text/plain": "yellow_tripdata_2014-12.parquet: 0KB [00:00, ?KB/s]",
      "application/vnd.jupyter.widget-view+json": {
       "version_major": 2,
       "version_minor": 0,
       "model_id": "c6c3e3be30034f8094156537847bd91e"
      }
     },
     "metadata": {},
     "output_type": "display_data"
    },
    {
     "name": "stdout",
     "output_type": "stream",
     "text": [
      "Zapisano: yellow_tripdata_2014-12.parquet\n",
      "Pobieranie: yellow_tripdata_2015-01.parquet...\n"
     ]
    },
    {
     "data": {
      "text/plain": "yellow_tripdata_2015-01.parquet: 0KB [00:00, ?KB/s]",
      "application/vnd.jupyter.widget-view+json": {
       "version_major": 2,
       "version_minor": 0,
       "model_id": "b156d72d3dba471c90afb10d9b6ad08e"
      }
     },
     "metadata": {},
     "output_type": "display_data"
    },
    {
     "name": "stdout",
     "output_type": "stream",
     "text": [
      "Zapisano: yellow_tripdata_2015-01.parquet\n",
      "Pobieranie: yellow_tripdata_2015-02.parquet...\n"
     ]
    },
    {
     "data": {
      "text/plain": "yellow_tripdata_2015-02.parquet: 0KB [00:00, ?KB/s]",
      "application/vnd.jupyter.widget-view+json": {
       "version_major": 2,
       "version_minor": 0,
       "model_id": "7274f4dbef19495aa4fbc8bd408b2fce"
      }
     },
     "metadata": {},
     "output_type": "display_data"
    },
    {
     "name": "stdout",
     "output_type": "stream",
     "text": [
      "Zapisano: yellow_tripdata_2015-02.parquet\n",
      "Pobieranie: yellow_tripdata_2015-03.parquet...\n"
     ]
    },
    {
     "data": {
      "text/plain": "yellow_tripdata_2015-03.parquet: 0KB [00:00, ?KB/s]",
      "application/vnd.jupyter.widget-view+json": {
       "version_major": 2,
       "version_minor": 0,
       "model_id": "f6f557cfc234443c8af609f0e264cf43"
      }
     },
     "metadata": {},
     "output_type": "display_data"
    },
    {
     "name": "stdout",
     "output_type": "stream",
     "text": [
      "Zapisano: yellow_tripdata_2015-03.parquet\n",
      "Pobieranie: yellow_tripdata_2015-04.parquet...\n"
     ]
    },
    {
     "data": {
      "text/plain": "yellow_tripdata_2015-04.parquet: 0KB [00:00, ?KB/s]",
      "application/vnd.jupyter.widget-view+json": {
       "version_major": 2,
       "version_minor": 0,
       "model_id": "bede338ddd9e4b6ca117224d729079ef"
      }
     },
     "metadata": {},
     "output_type": "display_data"
    },
    {
     "name": "stdout",
     "output_type": "stream",
     "text": [
      "Zapisano: yellow_tripdata_2015-04.parquet\n",
      "Pobieranie: yellow_tripdata_2015-05.parquet...\n"
     ]
    },
    {
     "data": {
      "text/plain": "yellow_tripdata_2015-05.parquet: 0KB [00:00, ?KB/s]",
      "application/vnd.jupyter.widget-view+json": {
       "version_major": 2,
       "version_minor": 0,
       "model_id": "367cf69f2dc94e2fa1ef27b3f8166248"
      }
     },
     "metadata": {},
     "output_type": "display_data"
    },
    {
     "name": "stdout",
     "output_type": "stream",
     "text": [
      "Zapisano: yellow_tripdata_2015-05.parquet\n",
      "Pobieranie: yellow_tripdata_2015-06.parquet...\n"
     ]
    },
    {
     "data": {
      "text/plain": "yellow_tripdata_2015-06.parquet: 0KB [00:00, ?KB/s]",
      "application/vnd.jupyter.widget-view+json": {
       "version_major": 2,
       "version_minor": 0,
       "model_id": "5cfb4c7581994ff0bf3f3b346a31e01d"
      }
     },
     "metadata": {},
     "output_type": "display_data"
    },
    {
     "name": "stdout",
     "output_type": "stream",
     "text": [
      "Zapisano: yellow_tripdata_2015-06.parquet\n",
      "Pobieranie: yellow_tripdata_2015-07.parquet...\n"
     ]
    },
    {
     "data": {
      "text/plain": "yellow_tripdata_2015-07.parquet: 0KB [00:00, ?KB/s]",
      "application/vnd.jupyter.widget-view+json": {
       "version_major": 2,
       "version_minor": 0,
       "model_id": "392aab93c25347a0ab99c841da412036"
      }
     },
     "metadata": {},
     "output_type": "display_data"
    },
    {
     "name": "stdout",
     "output_type": "stream",
     "text": [
      "Zapisano: yellow_tripdata_2015-07.parquet\n",
      "Pobieranie: yellow_tripdata_2015-08.parquet...\n"
     ]
    },
    {
     "data": {
      "text/plain": "yellow_tripdata_2015-08.parquet: 0KB [00:00, ?KB/s]",
      "application/vnd.jupyter.widget-view+json": {
       "version_major": 2,
       "version_minor": 0,
       "model_id": "6eac4a8afddb486b821ed185b0a1129e"
      }
     },
     "metadata": {},
     "output_type": "display_data"
    },
    {
     "name": "stdout",
     "output_type": "stream",
     "text": [
      "Zapisano: yellow_tripdata_2015-08.parquet\n",
      "Pobieranie: yellow_tripdata_2015-09.parquet...\n"
     ]
    },
    {
     "data": {
      "text/plain": "yellow_tripdata_2015-09.parquet: 0KB [00:00, ?KB/s]",
      "application/vnd.jupyter.widget-view+json": {
       "version_major": 2,
       "version_minor": 0,
       "model_id": "807c368380234a7f802bcedcf9533973"
      }
     },
     "metadata": {},
     "output_type": "display_data"
    },
    {
     "name": "stdout",
     "output_type": "stream",
     "text": [
      "Zapisano: yellow_tripdata_2015-09.parquet\n",
      "Pobieranie: yellow_tripdata_2015-10.parquet...\n"
     ]
    },
    {
     "data": {
      "text/plain": "yellow_tripdata_2015-10.parquet: 0KB [00:00, ?KB/s]",
      "application/vnd.jupyter.widget-view+json": {
       "version_major": 2,
       "version_minor": 0,
       "model_id": "72e6a773deb942debed5f175012a4782"
      }
     },
     "metadata": {},
     "output_type": "display_data"
    },
    {
     "name": "stdout",
     "output_type": "stream",
     "text": [
      "Zapisano: yellow_tripdata_2015-10.parquet\n",
      "Pobieranie: yellow_tripdata_2015-11.parquet...\n"
     ]
    },
    {
     "data": {
      "text/plain": "yellow_tripdata_2015-11.parquet: 0KB [00:00, ?KB/s]",
      "application/vnd.jupyter.widget-view+json": {
       "version_major": 2,
       "version_minor": 0,
       "model_id": "891af38772a4448282edc9401f0606df"
      }
     },
     "metadata": {},
     "output_type": "display_data"
    },
    {
     "name": "stdout",
     "output_type": "stream",
     "text": [
      "Zapisano: yellow_tripdata_2015-11.parquet\n",
      "Pobieranie: yellow_tripdata_2015-12.parquet...\n"
     ]
    },
    {
     "data": {
      "text/plain": "yellow_tripdata_2015-12.parquet: 0KB [00:00, ?KB/s]",
      "application/vnd.jupyter.widget-view+json": {
       "version_major": 2,
       "version_minor": 0,
       "model_id": "5c6dc50c6eda447bbe2ff0bb51b99728"
      }
     },
     "metadata": {},
     "output_type": "display_data"
    },
    {
     "name": "stdout",
     "output_type": "stream",
     "text": [
      "Zapisano: yellow_tripdata_2015-12.parquet\n",
      "Pobieranie: yellow_tripdata_2016-01.parquet...\n"
     ]
    },
    {
     "data": {
      "text/plain": "yellow_tripdata_2016-01.parquet: 0KB [00:00, ?KB/s]",
      "application/vnd.jupyter.widget-view+json": {
       "version_major": 2,
       "version_minor": 0,
       "model_id": "0540e9112e294edf866edcdfe9c36d6d"
      }
     },
     "metadata": {},
     "output_type": "display_data"
    },
    {
     "name": "stdout",
     "output_type": "stream",
     "text": [
      "Zapisano: yellow_tripdata_2016-01.parquet\n",
      "Pobieranie: yellow_tripdata_2016-02.parquet...\n"
     ]
    },
    {
     "data": {
      "text/plain": "yellow_tripdata_2016-02.parquet: 0KB [00:00, ?KB/s]",
      "application/vnd.jupyter.widget-view+json": {
       "version_major": 2,
       "version_minor": 0,
       "model_id": "4de097251bf84c478e89aee1be92017e"
      }
     },
     "metadata": {},
     "output_type": "display_data"
    },
    {
     "name": "stdout",
     "output_type": "stream",
     "text": [
      "Zapisano: yellow_tripdata_2016-02.parquet\n",
      "Pobieranie: yellow_tripdata_2016-03.parquet...\n"
     ]
    },
    {
     "data": {
      "text/plain": "yellow_tripdata_2016-03.parquet: 0KB [00:00, ?KB/s]",
      "application/vnd.jupyter.widget-view+json": {
       "version_major": 2,
       "version_minor": 0,
       "model_id": "316bd21975134ef3ac6c8587bf0d2d55"
      }
     },
     "metadata": {},
     "output_type": "display_data"
    },
    {
     "name": "stdout",
     "output_type": "stream",
     "text": [
      "Zapisano: yellow_tripdata_2016-03.parquet\n",
      "Pobieranie: yellow_tripdata_2016-04.parquet...\n"
     ]
    },
    {
     "data": {
      "text/plain": "yellow_tripdata_2016-04.parquet: 0KB [00:00, ?KB/s]",
      "application/vnd.jupyter.widget-view+json": {
       "version_major": 2,
       "version_minor": 0,
       "model_id": "4856d8f292044c509482a4ffabae3fab"
      }
     },
     "metadata": {},
     "output_type": "display_data"
    },
    {
     "name": "stdout",
     "output_type": "stream",
     "text": [
      "Zapisano: yellow_tripdata_2016-04.parquet\n",
      "Pobieranie: yellow_tripdata_2016-05.parquet...\n"
     ]
    },
    {
     "data": {
      "text/plain": "yellow_tripdata_2016-05.parquet: 0KB [00:00, ?KB/s]",
      "application/vnd.jupyter.widget-view+json": {
       "version_major": 2,
       "version_minor": 0,
       "model_id": "9151567643f94fbeb5bdcc58c49f7ad7"
      }
     },
     "metadata": {},
     "output_type": "display_data"
    },
    {
     "name": "stdout",
     "output_type": "stream",
     "text": [
      "Zapisano: yellow_tripdata_2016-05.parquet\n",
      "Pobieranie: yellow_tripdata_2016-06.parquet...\n"
     ]
    },
    {
     "data": {
      "text/plain": "yellow_tripdata_2016-06.parquet: 0KB [00:00, ?KB/s]",
      "application/vnd.jupyter.widget-view+json": {
       "version_major": 2,
       "version_minor": 0,
       "model_id": "ff4f907ec7b9490186d37f2c519a42dd"
      }
     },
     "metadata": {},
     "output_type": "display_data"
    },
    {
     "name": "stdout",
     "output_type": "stream",
     "text": [
      "Zapisano: yellow_tripdata_2016-06.parquet\n",
      "Pobieranie: yellow_tripdata_2016-07.parquet...\n"
     ]
    },
    {
     "data": {
      "text/plain": "yellow_tripdata_2016-07.parquet: 0KB [00:00, ?KB/s]",
      "application/vnd.jupyter.widget-view+json": {
       "version_major": 2,
       "version_minor": 0,
       "model_id": "0cf029ca65f94fc5934094a52a496639"
      }
     },
     "metadata": {},
     "output_type": "display_data"
    },
    {
     "name": "stdout",
     "output_type": "stream",
     "text": [
      "Zapisano: yellow_tripdata_2016-07.parquet\n",
      "Pobieranie: yellow_tripdata_2016-08.parquet...\n"
     ]
    },
    {
     "data": {
      "text/plain": "yellow_tripdata_2016-08.parquet: 0KB [00:00, ?KB/s]",
      "application/vnd.jupyter.widget-view+json": {
       "version_major": 2,
       "version_minor": 0,
       "model_id": "45a0ea39d3914e718545cc92582c34a1"
      }
     },
     "metadata": {},
     "output_type": "display_data"
    },
    {
     "name": "stdout",
     "output_type": "stream",
     "text": [
      "Zapisano: yellow_tripdata_2016-08.parquet\n",
      "Pobieranie: yellow_tripdata_2016-09.parquet...\n"
     ]
    },
    {
     "data": {
      "text/plain": "yellow_tripdata_2016-09.parquet: 0KB [00:00, ?KB/s]",
      "application/vnd.jupyter.widget-view+json": {
       "version_major": 2,
       "version_minor": 0,
       "model_id": "835f32fe8dea48f2a83c6464a64023ad"
      }
     },
     "metadata": {},
     "output_type": "display_data"
    },
    {
     "name": "stdout",
     "output_type": "stream",
     "text": [
      "Zapisano: yellow_tripdata_2016-09.parquet\n",
      "Pobieranie: yellow_tripdata_2016-10.parquet...\n"
     ]
    },
    {
     "data": {
      "text/plain": "yellow_tripdata_2016-10.parquet: 0KB [00:00, ?KB/s]",
      "application/vnd.jupyter.widget-view+json": {
       "version_major": 2,
       "version_minor": 0,
       "model_id": "d2ab514dd9bc44f9a61d2a67da2ac2c1"
      }
     },
     "metadata": {},
     "output_type": "display_data"
    },
    {
     "name": "stdout",
     "output_type": "stream",
     "text": [
      "Zapisano: yellow_tripdata_2016-10.parquet\n",
      "Pobieranie: yellow_tripdata_2016-11.parquet...\n"
     ]
    },
    {
     "data": {
      "text/plain": "yellow_tripdata_2016-11.parquet: 0KB [00:00, ?KB/s]",
      "application/vnd.jupyter.widget-view+json": {
       "version_major": 2,
       "version_minor": 0,
       "model_id": "4b17679457ad4ee8b54f511fb351b63f"
      }
     },
     "metadata": {},
     "output_type": "display_data"
    },
    {
     "name": "stdout",
     "output_type": "stream",
     "text": [
      "Zapisano: yellow_tripdata_2016-11.parquet\n",
      "Pobieranie: yellow_tripdata_2016-12.parquet...\n"
     ]
    },
    {
     "data": {
      "text/plain": "yellow_tripdata_2016-12.parquet: 0KB [00:00, ?KB/s]",
      "application/vnd.jupyter.widget-view+json": {
       "version_major": 2,
       "version_minor": 0,
       "model_id": "fcea761daa0c43f59ed61fab45d28e1a"
      }
     },
     "metadata": {},
     "output_type": "display_data"
    },
    {
     "name": "stdout",
     "output_type": "stream",
     "text": [
      "Zapisano: yellow_tripdata_2016-12.parquet\n"
     ]
    }
   ],
   "source": [
    "download_taxi_data(start_year=2009, end_year=2016)"
   ],
   "metadata": {
    "collapsed": false,
    "ExecuteTime": {
     "end_time": "2025-01-05T10:37:03.907705Z",
     "start_time": "2025-01-05T10:27:47.328212Z"
    }
   },
   "id": "dd8f4471b05a418e",
   "execution_count": 7
  }
 ],
 "metadata": {
  "kernelspec": {
   "display_name": "Python 3",
   "language": "python",
   "name": "python3"
  },
  "language_info": {
   "codemirror_mode": {
    "name": "ipython",
    "version": 2
   },
   "file_extension": ".py",
   "mimetype": "text/x-python",
   "name": "python",
   "nbconvert_exporter": "python",
   "pygments_lexer": "ipython2",
   "version": "2.7.6"
  }
 },
 "nbformat": 4,
 "nbformat_minor": 5
}
