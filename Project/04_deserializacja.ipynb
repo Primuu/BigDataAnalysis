{
 "cells": [
  {
   "cell_type": "markdown",
   "source": [
    "# Etap 4 - Deserializacja\n",
    "\n",
    "Ostatni etap projektu:\n",
    "\n",
    "* Wczytanie wytrenowanego modelu.\n",
    "* Przetesotwanie modelu.\n",
    "\n",
    "## Spis treści\n",
    "1. [Import bibliotek i inicjalizacja klienta Dask](#import-bibliotek-i-inicjalizacja-klienta-dask)\n",
    "2. [Wczytanie modelu](#wczytanie-modelu)\n",
    "3. [Test modelu](#test-modelu)"
   ],
   "metadata": {
    "collapsed": false
   },
   "id": "ab84e52698007fb9"
  },
  {
   "cell_type": "markdown",
   "source": [
    "## Import bibliotek i inicjalizacja klienta Dask"
   ],
   "metadata": {
    "collapsed": false
   },
   "id": "f4a8e509b3e2d5b6"
  },
  {
   "cell_type": "code",
   "execution_count": 7,
   "id": "initial_id",
   "metadata": {
    "collapsed": true,
    "ExecuteTime": {
     "end_time": "2025-01-07T14:53:52.093189Z",
     "start_time": "2025-01-07T14:53:52.087150Z"
    }
   },
   "outputs": [],
   "source": [
    "from xgboost.dask import DaskXGBRegressor\n",
    "import dask.dataframe as dd"
   ]
  },
  {
   "cell_type": "code",
   "outputs": [
    {
     "name": "stderr",
     "output_type": "stream",
     "text": [
      "D:\\Projekty\\BigDataAnalysis\\.venv\\Lib\\site-packages\\distributed\\node.py:187: UserWarning: Port 8787 is already in use.\n",
      "Perhaps you already have a cluster running?\n",
      "Hosting the HTTP server on port 59150 instead\n",
      "  warnings.warn(\n"
     ]
    },
    {
     "data": {
      "text/plain": "<Client: 'tcp://127.0.0.1:59153' processes=2 threads=8, memory=22.35 GiB>",
      "text/html": "<div>\n    <div style=\"width: 24px; height: 24px; background-color: #e1e1e1; border: 3px solid #9D9D9D; border-radius: 5px; position: absolute;\"> </div>\n    <div style=\"margin-left: 48px;\">\n        <h3 style=\"margin-bottom: 0px;\">Client</h3>\n        <p style=\"color: #9D9D9D; margin-bottom: 0px;\">Client-898468d9-cd04-11ef-a664-706655680650</p>\n        <table style=\"width: 100%; text-align: left;\">\n\n        <tr>\n        \n            <td style=\"text-align: left;\"><strong>Connection method:</strong> Cluster object</td>\n            <td style=\"text-align: left;\"><strong>Cluster type:</strong> distributed.LocalCluster</td>\n        \n        </tr>\n\n        \n            <tr>\n                <td style=\"text-align: left;\">\n                    <strong>Dashboard: </strong> <a href=\"http://127.0.0.1:59150/status\" target=\"_blank\">http://127.0.0.1:59150/status</a>\n                </td>\n                <td style=\"text-align: left;\"></td>\n            </tr>\n        \n\n        </table>\n\n        \n\n        \n            <details>\n            <summary style=\"margin-bottom: 20px;\"><h3 style=\"display: inline;\">Cluster Info</h3></summary>\n            <div class=\"jp-RenderedHTMLCommon jp-RenderedHTML jp-mod-trusted jp-OutputArea-output\">\n    <div style=\"width: 24px; height: 24px; background-color: #e1e1e1; border: 3px solid #9D9D9D; border-radius: 5px; position: absolute;\">\n    </div>\n    <div style=\"margin-left: 48px;\">\n        <h3 style=\"margin-bottom: 0px; margin-top: 0px;\">LocalCluster</h3>\n        <p style=\"color: #9D9D9D; margin-bottom: 0px;\">54fc899a</p>\n        <table style=\"width: 100%; text-align: left;\">\n            <tr>\n                <td style=\"text-align: left;\">\n                    <strong>Dashboard:</strong> <a href=\"http://127.0.0.1:59150/status\" target=\"_blank\">http://127.0.0.1:59150/status</a>\n                </td>\n                <td style=\"text-align: left;\">\n                    <strong>Workers:</strong> 2\n                </td>\n            </tr>\n            <tr>\n                <td style=\"text-align: left;\">\n                    <strong>Total threads:</strong> 8\n                </td>\n                <td style=\"text-align: left;\">\n                    <strong>Total memory:</strong> 22.35 GiB\n                </td>\n            </tr>\n            \n            <tr>\n    <td style=\"text-align: left;\"><strong>Status:</strong> running</td>\n    <td style=\"text-align: left;\"><strong>Using processes:</strong> True</td>\n</tr>\n\n            \n        </table>\n\n        <details>\n            <summary style=\"margin-bottom: 20px;\">\n                <h3 style=\"display: inline;\">Scheduler Info</h3>\n            </summary>\n\n            <div style=\"\">\n    <div>\n        <div style=\"width: 24px; height: 24px; background-color: #FFF7E5; border: 3px solid #FF6132; border-radius: 5px; position: absolute;\"> </div>\n        <div style=\"margin-left: 48px;\">\n            <h3 style=\"margin-bottom: 0px;\">Scheduler</h3>\n            <p style=\"color: #9D9D9D; margin-bottom: 0px;\">Scheduler-b37a273f-25bd-4472-95d5-2e642669280c</p>\n            <table style=\"width: 100%; text-align: left;\">\n                <tr>\n                    <td style=\"text-align: left;\">\n                        <strong>Comm:</strong> tcp://127.0.0.1:59153\n                    </td>\n                    <td style=\"text-align: left;\">\n                        <strong>Workers:</strong> 2\n                    </td>\n                </tr>\n                <tr>\n                    <td style=\"text-align: left;\">\n                        <strong>Dashboard:</strong> <a href=\"http://127.0.0.1:59150/status\" target=\"_blank\">http://127.0.0.1:59150/status</a>\n                    </td>\n                    <td style=\"text-align: left;\">\n                        <strong>Total threads:</strong> 8\n                    </td>\n                </tr>\n                <tr>\n                    <td style=\"text-align: left;\">\n                        <strong>Started:</strong> Just now\n                    </td>\n                    <td style=\"text-align: left;\">\n                        <strong>Total memory:</strong> 22.35 GiB\n                    </td>\n                </tr>\n            </table>\n        </div>\n    </div>\n\n    <details style=\"margin-left: 48px;\">\n        <summary style=\"margin-bottom: 20px;\">\n            <h3 style=\"display: inline;\">Workers</h3>\n        </summary>\n\n        \n        <div style=\"margin-bottom: 20px;\">\n            <div style=\"width: 24px; height: 24px; background-color: #DBF5FF; border: 3px solid #4CC9FF; border-radius: 5px; position: absolute;\"> </div>\n            <div style=\"margin-left: 48px;\">\n            <details>\n                <summary>\n                    <h4 style=\"margin-bottom: 0px; display: inline;\">Worker: 0</h4>\n                </summary>\n                <table style=\"width: 100%; text-align: left;\">\n                    <tr>\n                        <td style=\"text-align: left;\">\n                            <strong>Comm: </strong> tcp://127.0.0.1:59165\n                        </td>\n                        <td style=\"text-align: left;\">\n                            <strong>Total threads: </strong> 4\n                        </td>\n                    </tr>\n                    <tr>\n                        <td style=\"text-align: left;\">\n                            <strong>Dashboard: </strong> <a href=\"http://127.0.0.1:59166/status\" target=\"_blank\">http://127.0.0.1:59166/status</a>\n                        </td>\n                        <td style=\"text-align: left;\">\n                            <strong>Memory: </strong> 11.18 GiB\n                        </td>\n                    </tr>\n                    <tr>\n                        <td style=\"text-align: left;\">\n                            <strong>Nanny: </strong> tcp://127.0.0.1:59156\n                        </td>\n                        <td style=\"text-align: left;\"></td>\n                    </tr>\n                    <tr>\n                        <td colspan=\"2\" style=\"text-align: left;\">\n                            <strong>Local directory: </strong> C:\\Users\\Adam\\AppData\\Local\\Temp\\dask-scratch-space\\worker-6hu9bypk\n                        </td>\n                    </tr>\n\n                    \n\n                    \n\n                </table>\n            </details>\n            </div>\n        </div>\n        \n        <div style=\"margin-bottom: 20px;\">\n            <div style=\"width: 24px; height: 24px; background-color: #DBF5FF; border: 3px solid #4CC9FF; border-radius: 5px; position: absolute;\"> </div>\n            <div style=\"margin-left: 48px;\">\n            <details>\n                <summary>\n                    <h4 style=\"margin-bottom: 0px; display: inline;\">Worker: 1</h4>\n                </summary>\n                <table style=\"width: 100%; text-align: left;\">\n                    <tr>\n                        <td style=\"text-align: left;\">\n                            <strong>Comm: </strong> tcp://127.0.0.1:59164\n                        </td>\n                        <td style=\"text-align: left;\">\n                            <strong>Total threads: </strong> 4\n                        </td>\n                    </tr>\n                    <tr>\n                        <td style=\"text-align: left;\">\n                            <strong>Dashboard: </strong> <a href=\"http://127.0.0.1:59167/status\" target=\"_blank\">http://127.0.0.1:59167/status</a>\n                        </td>\n                        <td style=\"text-align: left;\">\n                            <strong>Memory: </strong> 11.18 GiB\n                        </td>\n                    </tr>\n                    <tr>\n                        <td style=\"text-align: left;\">\n                            <strong>Nanny: </strong> tcp://127.0.0.1:59158\n                        </td>\n                        <td style=\"text-align: left;\"></td>\n                    </tr>\n                    <tr>\n                        <td colspan=\"2\" style=\"text-align: left;\">\n                            <strong>Local directory: </strong> C:\\Users\\Adam\\AppData\\Local\\Temp\\dask-scratch-space\\worker-edrkwr3w\n                        </td>\n                    </tr>\n\n                    \n\n                    \n\n                </table>\n            </details>\n            </div>\n        </div>\n        \n\n    </details>\n</div>\n\n        </details>\n    </div>\n</div>\n            </details>\n        \n\n    </div>\n</div>"
     },
     "execution_count": 1,
     "metadata": {},
     "output_type": "execute_result"
    }
   ],
   "source": [
    "from dask.distributed import LocalCluster, Client\n",
    "\n",
    "cluster = LocalCluster(\n",
    "    processes=True,\n",
    "    n_workers=2,\n",
    "    threads_per_worker=4,\n",
    "    memory_limit='12GB'\n",
    ")\n",
    "\n",
    "client = Client(cluster)\n",
    "client"
   ],
   "metadata": {
    "collapsed": false,
    "ExecuteTime": {
     "end_time": "2025-01-07T14:34:44.334732Z",
     "start_time": "2025-01-07T14:34:35.829236Z"
    }
   },
   "id": "c54b52e448a29bae",
   "execution_count": 1
  },
  {
   "cell_type": "markdown",
   "source": [
    "## Wczytanie modelu"
   ],
   "metadata": {
    "collapsed": false
   },
   "id": "81e7b18c67fa8635"
  },
  {
   "cell_type": "code",
   "outputs": [],
   "source": [
    "xgb_dask_reg_loaded = DaskXGBRegressor()\n",
    "xgb_dask_reg_loaded.load_model('xgb_dask_reg_model_tip_amount.json')"
   ],
   "metadata": {
    "collapsed": false,
    "ExecuteTime": {
     "end_time": "2025-01-07T14:35:56.501028Z",
     "start_time": "2025-01-07T14:35:55.819414Z"
    }
   },
   "id": "995390ad22979dd5",
   "execution_count": 3
  },
  {
   "cell_type": "markdown",
   "source": [
    "## Test modelu\n",
    "\n",
    "Model został przetestowany z użyciem danych testowych w poprzednim notebook'u."
   ],
   "metadata": {
    "collapsed": false
   },
   "id": "35d02beed3549304"
  },
  {
   "cell_type": "code",
   "outputs": [],
   "source": [
    "def predict_tip(model, payment_type, fare_amount, tolls_amount, extra, trip_time_seconds, trip_distance):\n",
    "    \"\"\"\n",
    "    Przewiduje wysokość napiwka na podstawie wczytanego modelu i podanych parametrów.\n",
    "\n",
    "    Args:\n",
    "        model: Wcześniej wczytany model Dask/XGBoost.\n",
    "        payment_type (int): Typ płatności.\n",
    "        fare_amount (float): Kwota za przejazd.\n",
    "        tolls_amount (float): Opłaty drogowe.\n",
    "        extra (float): Dodatkowe opłaty.\n",
    "        trip_time_seconds (int): Czas podróży w sekundach.\n",
    "        trip_distance (float): Dystans podróży w milach.\n",
    "\n",
    "    Returns:\n",
    "        float: Przewidywana wysokość napiwka.\n",
    "    \"\"\"\n",
    "        \n",
    "    input_data = dd.from_dict({\n",
    "        'payment_type': [payment_type],\n",
    "        'fare_amount': [fare_amount],\n",
    "        'tolls_amount': [tolls_amount],\n",
    "        'extra': [extra],\n",
    "        'trip_time_seconds': [trip_time_seconds],\n",
    "        'trip_distance': [trip_distance]\n",
    "    }, npartitions=1)\n",
    "\n",
    "    return model.predict(input_data).compute()[0]"
   ],
   "metadata": {
    "collapsed": false,
    "ExecuteTime": {
     "end_time": "2025-01-07T14:55:44.200865Z",
     "start_time": "2025-01-07T14:55:44.195760Z"
    }
   },
   "id": "ec25c16e3d1e6939",
   "execution_count": 14
  },
  {
   "cell_type": "code",
   "outputs": [
    {
     "name": "stderr",
     "output_type": "stream",
     "text": [
      "Windows is not officially supported for dask/xgboost, contribution are welcomed.\n",
      "Windows is not officially supported for dask/xgboost, contribution are welcomed.\n"
     ]
    },
    {
     "data": {
      "text/plain": "0.06"
     },
     "execution_count": 32,
     "metadata": {},
     "output_type": "execute_result"
    }
   ],
   "source": [
    "round(predict_tip(model=xgb_dask_reg_loaded,\n",
    "            payment_type=1,\n",
    "            fare_amount=35.0,\n",
    "            tolls_amount=1,\n",
    "            extra=1.5,\n",
    "            trip_time_seconds=2000,\n",
    "            trip_distance=12.0\n",
    "            ), 2)"
   ],
   "metadata": {
    "collapsed": false,
    "ExecuteTime": {
     "end_time": "2025-01-07T15:02:04.691227Z",
     "start_time": "2025-01-07T15:02:04.603672Z"
    }
   },
   "id": "72f5a8494c0b2199",
   "execution_count": 32
  }
 ],
 "metadata": {
  "kernelspec": {
   "display_name": "Python 3",
   "language": "python",
   "name": "python3"
  },
  "language_info": {
   "codemirror_mode": {
    "name": "ipython",
    "version": 2
   },
   "file_extension": ".py",
   "mimetype": "text/x-python",
   "name": "python",
   "nbconvert_exporter": "python",
   "pygments_lexer": "ipython2",
   "version": "2.7.6"
  }
 },
 "nbformat": 4,
 "nbformat_minor": 5
}
