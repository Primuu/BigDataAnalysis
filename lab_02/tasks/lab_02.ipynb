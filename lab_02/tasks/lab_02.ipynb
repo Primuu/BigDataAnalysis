{
 "cells": [
  {
   "cell_type": "code",
   "outputs": [],
   "source": [
    "import numpy as np\n",
    "import pandas as pd\n",
    "import dask.dataframe as dd\n",
    "import dask.array as da\n",
    "from datetime import datetime"
   ],
   "metadata": {
    "collapsed": false,
    "ExecuteTime": {
     "end_time": "2024-10-10T11:54:14.899856Z",
     "start_time": "2024-10-10T11:54:10.835105Z"
    }
   },
   "id": "1aab3931b968f2fd",
   "execution_count": 1
  },
  {
   "cell_type": "markdown",
   "source": [
    "### Task 1\n",
    "Wczytaj plik zamowienia.csv do ramki pandas, a następnie w kilku miejscach (ale nie w pierwszych 10 wierszach) wstaw wartość NaN, aby zasymulować wartości brakujące. Zapisz ramkę do pliku zamowienia_missing.csv. Wczytaj teraz plik do ramki Dask i sprawdź jakie typy danych zostały przydzielone. Czy zgadzają się z typami z oryginalnego pliku? Wykonaj dowolne obliczenia na całej ramce Dask, aby wymusić wywołanie .compute(). Czy pojawił się błąd dotyczący niespójności typów danych? Spróbuj uruchomić kilka razy funkcję wczytywania danych do ramki Dask dataframe z różnymi wartościami parametru samples. Dokumentacja dask.dataframe.read_csv(): https://docs.dask.org/en/stable/generated/dask.dataframe.read_csv.html"
   ],
   "metadata": {
    "collapsed": false
   },
   "id": "cc158b14ca755ea0"
  },
  {
   "cell_type": "code",
   "outputs": [],
   "source": [
    "df = pd.read_csv('../../lab_01/examples/zamowienia.csv', header=0, sep=';')"
   ],
   "metadata": {
    "collapsed": false,
    "ExecuteTime": {
     "end_time": "2024-10-10T11:36:52.093017Z",
     "start_time": "2024-10-10T11:36:52.081747Z"
    }
   },
   "id": "7085a28af42281be",
   "execution_count": 2
  },
  {
   "cell_type": "code",
   "outputs": [
    {
     "data": {
      "text/plain": "     Kraj Sprzedawca Data zamowienia  idZamowienia    Utarg\n0  Polska   Kowalski      2003-07-16         10248   440.00\n1  Polska   Sowiński      2003-07-10         10249  1863.40\n2  Niemcy    Peacock      2003-07-12         10250  1552.60\n3  Niemcy  Leverling      2003-07-15         10251   654.06\n4  Niemcy    Peacock      2003-07-11         10252  3597.90",
      "text/html": "<div>\n<style scoped>\n    .dataframe tbody tr th:only-of-type {\n        vertical-align: middle;\n    }\n\n    .dataframe tbody tr th {\n        vertical-align: top;\n    }\n\n    .dataframe thead th {\n        text-align: right;\n    }\n</style>\n<table border=\"1\" class=\"dataframe\">\n  <thead>\n    <tr style=\"text-align: right;\">\n      <th></th>\n      <th>Kraj</th>\n      <th>Sprzedawca</th>\n      <th>Data zamowienia</th>\n      <th>idZamowienia</th>\n      <th>Utarg</th>\n    </tr>\n  </thead>\n  <tbody>\n    <tr>\n      <th>0</th>\n      <td>Polska</td>\n      <td>Kowalski</td>\n      <td>2003-07-16</td>\n      <td>10248</td>\n      <td>440.00</td>\n    </tr>\n    <tr>\n      <th>1</th>\n      <td>Polska</td>\n      <td>Sowiński</td>\n      <td>2003-07-10</td>\n      <td>10249</td>\n      <td>1863.40</td>\n    </tr>\n    <tr>\n      <th>2</th>\n      <td>Niemcy</td>\n      <td>Peacock</td>\n      <td>2003-07-12</td>\n      <td>10250</td>\n      <td>1552.60</td>\n    </tr>\n    <tr>\n      <th>3</th>\n      <td>Niemcy</td>\n      <td>Leverling</td>\n      <td>2003-07-15</td>\n      <td>10251</td>\n      <td>654.06</td>\n    </tr>\n    <tr>\n      <th>4</th>\n      <td>Niemcy</td>\n      <td>Peacock</td>\n      <td>2003-07-11</td>\n      <td>10252</td>\n      <td>3597.90</td>\n    </tr>\n  </tbody>\n</table>\n</div>"
     },
     "execution_count": 3,
     "metadata": {},
     "output_type": "execute_result"
    }
   ],
   "source": [
    "df.head()"
   ],
   "metadata": {
    "collapsed": false,
    "ExecuteTime": {
     "end_time": "2024-10-10T11:36:52.110755Z",
     "start_time": "2024-10-10T11:36:52.094022Z"
    }
   },
   "id": "e5a2b4dade7b1755",
   "execution_count": 3
  },
  {
   "cell_type": "code",
   "outputs": [],
   "source": [
    "df.loc[15, 'Utarg'] = np.nan\n",
    "df.loc[33, 'Kraj'] = np.nan\n",
    "df.loc[33, 'Utarg'] = np.nan\n",
    "df.loc[34, 'Utarg'] = np.nan\n",
    "df.loc[35, 'Utarg'] = np.nan\n",
    "df.loc[36, 'Utarg'] = np.nan\n",
    "df.loc[37, 'Utarg'] = np.nan\n",
    "df.loc[37, 'Kraj'] = np.nan\n",
    "df.loc[36, 'Kraj'] = np.nan"
   ],
   "metadata": {
    "collapsed": false,
    "ExecuteTime": {
     "end_time": "2024-10-10T11:36:52.121116Z",
     "start_time": "2024-10-10T11:36:52.112752Z"
    }
   },
   "id": "4998e8d643bf899f",
   "execution_count": 4
  },
  {
   "cell_type": "code",
   "outputs": [],
   "source": [
    "df.to_csv('data/zamowienia_missing.csv', index=False)"
   ],
   "metadata": {
    "collapsed": false,
    "ExecuteTime": {
     "end_time": "2024-10-10T11:36:52.133925Z",
     "start_time": "2024-10-10T11:36:52.124238Z"
    }
   },
   "id": "2fe06d090b2538b0",
   "execution_count": 5
  },
  {
   "cell_type": "code",
   "outputs": [],
   "source": [
    "dask_df = dd.read_csv('data/zamowienia_missing.csv')"
   ],
   "metadata": {
    "collapsed": false,
    "ExecuteTime": {
     "end_time": "2024-10-10T11:36:52.152338Z",
     "start_time": "2024-10-10T11:36:52.134929Z"
    }
   },
   "id": "97ef95ee5f0b7297",
   "execution_count": 6
  },
  {
   "cell_type": "code",
   "outputs": [
    {
     "name": "stdout",
     "output_type": "stream",
     "text": [
      "Kraj               string[pyarrow]\n",
      "Sprzedawca         string[pyarrow]\n",
      "Data zamowienia    string[pyarrow]\n",
      "idZamowienia                 int64\n",
      "Utarg                      float64\n",
      "dtype: object\n"
     ]
    }
   ],
   "source": [
    "print(dask_df.dtypes)"
   ],
   "metadata": {
    "collapsed": false,
    "ExecuteTime": {
     "end_time": "2024-10-10T11:36:52.161654Z",
     "start_time": "2024-10-10T11:36:52.153343Z"
    }
   },
   "id": "76be789838b433e2",
   "execution_count": 7
  },
  {
   "cell_type": "code",
   "outputs": [
    {
     "data": {
      "text/plain": "np.float64(1221883.17)"
     },
     "execution_count": 8,
     "metadata": {},
     "output_type": "execute_result"
    }
   ],
   "source": [
    "result = dask_df['Utarg'].sum().compute()\n",
    "result"
   ],
   "metadata": {
    "collapsed": false,
    "ExecuteTime": {
     "end_time": "2024-10-10T11:36:52.494973Z",
     "start_time": "2024-10-10T11:36:52.164237Z"
    }
   },
   "id": "8665c5ade78fe043",
   "execution_count": 8
  },
  {
   "cell_type": "code",
   "outputs": [],
   "source": [
    "dask_df = dd.read_csv('data/zamowienia_missing.csv', sample=52)"
   ],
   "metadata": {
    "collapsed": false,
    "ExecuteTime": {
     "end_time": "2024-10-10T11:36:52.509232Z",
     "start_time": "2024-10-10T11:36:52.495981Z"
    }
   },
   "id": "fc6a2783f5291ca",
   "execution_count": 9
  },
  {
   "cell_type": "code",
   "outputs": [
    {
     "name": "stdout",
     "output_type": "stream",
     "text": [
      "Kraj               string[pyarrow]\n",
      "Sprzedawca         string[pyarrow]\n",
      "Data zamowienia    string[pyarrow]\n",
      "idZamowienia                 int64\n",
      "Utarg                      float64\n",
      "dtype: object\n"
     ]
    }
   ],
   "source": [
    "print(dask_df.dtypes)"
   ],
   "metadata": {
    "collapsed": false,
    "ExecuteTime": {
     "end_time": "2024-10-10T11:36:52.516783Z",
     "start_time": "2024-10-10T11:36:52.510237Z"
    }
   },
   "id": "c96f949311ccdae1",
   "execution_count": 10
  },
  {
   "cell_type": "markdown",
   "source": [
    "### Task 2\n",
    "Ze strony https://docs.dask.org/en/stable/dashboard.html skonfiguruj plugin Dask dashboard dla Jupyter Lab i przetestuj jego działanie."
   ],
   "metadata": {
    "collapsed": false
   },
   "id": "bc94fa48d5d16e7f"
  },
  {
   "cell_type": "markdown",
   "source": [
    "### Task 3\n",
    "Skonfiguruj lokalny klaster (Client) tak, aby nie zaalokował wszystkich zasobów (np. zostaw 8 GB RAM dla systemu hosta + 2 rdzenie). Pobierz dane udostępnione na poprzednich zajęciach (https://huggingface.co/datasets/vargr/private_instagram/tree/main/data) i załaduj do ramki Dask tyle części ile zdołasz w formie bez optymalizacji. Zmierz czas tej operacji."
   ],
   "metadata": {
    "collapsed": false
   },
   "id": "d476c6c67405be4a"
  },
  {
   "cell_type": "code",
   "outputs": [
    {
     "data": {
      "text/plain": "<Client: 'tcp://127.0.0.1:50542' processes=1 threads=4, memory=5.59 GiB>",
      "text/html": "<div>\n    <div style=\"width: 24px; height: 24px; background-color: #e1e1e1; border: 3px solid #9D9D9D; border-radius: 5px; position: absolute;\"> </div>\n    <div style=\"margin-left: 48px;\">\n        <h3 style=\"margin-bottom: 0px;\">Client</h3>\n        <p style=\"color: #9D9D9D; margin-bottom: 0px;\">Client-f37d737c-86fb-11ef-ac90-706655680650</p>\n        <table style=\"width: 100%; text-align: left;\">\n\n        <tr>\n        \n            <td style=\"text-align: left;\"><strong>Connection method:</strong> Cluster object</td>\n            <td style=\"text-align: left;\"><strong>Cluster type:</strong> distributed.LocalCluster</td>\n        \n        </tr>\n\n        \n            <tr>\n                <td style=\"text-align: left;\">\n                    <strong>Dashboard: </strong> <a href=\"http://127.0.0.1:8787/status\" target=\"_blank\">http://127.0.0.1:8787/status</a>\n                </td>\n                <td style=\"text-align: left;\"></td>\n            </tr>\n        \n\n        </table>\n\n        \n\n        \n            <details>\n            <summary style=\"margin-bottom: 20px;\"><h3 style=\"display: inline;\">Cluster Info</h3></summary>\n            <div class=\"jp-RenderedHTMLCommon jp-RenderedHTML jp-mod-trusted jp-OutputArea-output\">\n    <div style=\"width: 24px; height: 24px; background-color: #e1e1e1; border: 3px solid #9D9D9D; border-radius: 5px; position: absolute;\">\n    </div>\n    <div style=\"margin-left: 48px;\">\n        <h3 style=\"margin-bottom: 0px; margin-top: 0px;\">LocalCluster</h3>\n        <p style=\"color: #9D9D9D; margin-bottom: 0px;\">21ad3705</p>\n        <table style=\"width: 100%; text-align: left;\">\n            <tr>\n                <td style=\"text-align: left;\">\n                    <strong>Dashboard:</strong> <a href=\"http://127.0.0.1:8787/status\" target=\"_blank\">http://127.0.0.1:8787/status</a>\n                </td>\n                <td style=\"text-align: left;\">\n                    <strong>Workers:</strong> 1\n                </td>\n            </tr>\n            <tr>\n                <td style=\"text-align: left;\">\n                    <strong>Total threads:</strong> 4\n                </td>\n                <td style=\"text-align: left;\">\n                    <strong>Total memory:</strong> 5.59 GiB\n                </td>\n            </tr>\n            \n            <tr>\n    <td style=\"text-align: left;\"><strong>Status:</strong> running</td>\n    <td style=\"text-align: left;\"><strong>Using processes:</strong> True</td>\n</tr>\n\n            \n        </table>\n\n        <details>\n            <summary style=\"margin-bottom: 20px;\">\n                <h3 style=\"display: inline;\">Scheduler Info</h3>\n            </summary>\n\n            <div style=\"\">\n    <div>\n        <div style=\"width: 24px; height: 24px; background-color: #FFF7E5; border: 3px solid #FF6132; border-radius: 5px; position: absolute;\"> </div>\n        <div style=\"margin-left: 48px;\">\n            <h3 style=\"margin-bottom: 0px;\">Scheduler</h3>\n            <p style=\"color: #9D9D9D; margin-bottom: 0px;\">Scheduler-e8d63003-b827-41ad-b729-221e1a5ecafc</p>\n            <table style=\"width: 100%; text-align: left;\">\n                <tr>\n                    <td style=\"text-align: left;\">\n                        <strong>Comm:</strong> tcp://127.0.0.1:50542\n                    </td>\n                    <td style=\"text-align: left;\">\n                        <strong>Workers:</strong> 1\n                    </td>\n                </tr>\n                <tr>\n                    <td style=\"text-align: left;\">\n                        <strong>Dashboard:</strong> <a href=\"http://127.0.0.1:8787/status\" target=\"_blank\">http://127.0.0.1:8787/status</a>\n                    </td>\n                    <td style=\"text-align: left;\">\n                        <strong>Total threads:</strong> 4\n                    </td>\n                </tr>\n                <tr>\n                    <td style=\"text-align: left;\">\n                        <strong>Started:</strong> Just now\n                    </td>\n                    <td style=\"text-align: left;\">\n                        <strong>Total memory:</strong> 5.59 GiB\n                    </td>\n                </tr>\n            </table>\n        </div>\n    </div>\n\n    <details style=\"margin-left: 48px;\">\n        <summary style=\"margin-bottom: 20px;\">\n            <h3 style=\"display: inline;\">Workers</h3>\n        </summary>\n\n        \n        <div style=\"margin-bottom: 20px;\">\n            <div style=\"width: 24px; height: 24px; background-color: #DBF5FF; border: 3px solid #4CC9FF; border-radius: 5px; position: absolute;\"> </div>\n            <div style=\"margin-left: 48px;\">\n            <details>\n                <summary>\n                    <h4 style=\"margin-bottom: 0px; display: inline;\">Worker: 0</h4>\n                </summary>\n                <table style=\"width: 100%; text-align: left;\">\n                    <tr>\n                        <td style=\"text-align: left;\">\n                            <strong>Comm: </strong> tcp://127.0.0.1:50549\n                        </td>\n                        <td style=\"text-align: left;\">\n                            <strong>Total threads: </strong> 4\n                        </td>\n                    </tr>\n                    <tr>\n                        <td style=\"text-align: left;\">\n                            <strong>Dashboard: </strong> <a href=\"http://127.0.0.1:50550/status\" target=\"_blank\">http://127.0.0.1:50550/status</a>\n                        </td>\n                        <td style=\"text-align: left;\">\n                            <strong>Memory: </strong> 5.59 GiB\n                        </td>\n                    </tr>\n                    <tr>\n                        <td style=\"text-align: left;\">\n                            <strong>Nanny: </strong> tcp://127.0.0.1:50545\n                        </td>\n                        <td style=\"text-align: left;\"></td>\n                    </tr>\n                    <tr>\n                        <td colspan=\"2\" style=\"text-align: left;\">\n                            <strong>Local directory: </strong> C:\\Users\\Adam\\AppData\\Local\\Temp\\dask-scratch-space\\worker-zrzvrhpg\n                        </td>\n                    </tr>\n\n                    \n\n                    \n\n                </table>\n            </details>\n            </div>\n        </div>\n        \n\n    </details>\n</div>\n\n        </details>\n    </div>\n</div>\n            </details>\n        \n\n    </div>\n</div>"
     },
     "execution_count": 11,
     "metadata": {},
     "output_type": "execute_result"
    }
   ],
   "source": [
    "from dask.distributed import LocalCluster, Client\n",
    "\n",
    "cluster = LocalCluster(\n",
    "    n_workers=1,\n",
    "    threads_per_worker=4,\n",
    "    memory_limit='6GB',\n",
    ")\n",
    "\n",
    "client = Client(cluster)\n",
    "client"
   ],
   "metadata": {
    "collapsed": false,
    "ExecuteTime": {
     "end_time": "2024-10-10T11:36:55.220547Z",
     "start_time": "2024-10-10T11:36:52.517791Z"
    }
   },
   "id": "979a04555f334776",
   "execution_count": 11
  },
  {
   "cell_type": "code",
   "outputs": [
    {
     "name": "stdout",
     "output_type": "stream",
     "text": [
      "CPU times: total: 62.5 ms\n",
      "Wall time: 100 ms\n"
     ]
    }
   ],
   "source": [
    "%%time\n",
    "dask_df = dd.read_parquet(['../../lab_01/tasks/data/0000.parquet', '../../lab_01/tasks/data/0001.parquet'])"
   ],
   "metadata": {
    "collapsed": false,
    "ExecuteTime": {
     "end_time": "2024-10-10T11:36:55.328993Z",
     "start_time": "2024-10-10T11:36:55.221591Z"
    }
   },
   "id": "13ba1035232c7fa4",
   "execution_count": 12
  },
  {
   "cell_type": "markdown",
   "source": [
    "### Task 4\n",
    "Wykonaj kilka operacji na klastrze lokalnym z danymi z zadania 3:\n",
    "* wyświetl top 10 użytkowników z najwyższą liczbą like'ów,\n",
    "* pobierz dane tylko za pierwsze półrocze 2019 roku.\n",
    "\n",
    "Każdorazowo zmierz i wyświetl czas operacji i obserwuj dashboard."
   ],
   "metadata": {
    "collapsed": false
   },
   "id": "f0e60e41bae1c89e"
  },
  {
   "cell_type": "code",
   "outputs": [
    {
     "data": {
      "text/plain": "        sid  sid_profile      post_id  profile_id                 date  \\\n0  28370919      3496776  BXdjjUlgcgq  2237947779  2017-08-06 20:06:57   \n1  13623950      3496776  BeyPed5hKj9  2237947779  2018-02-04 19:35:20   \n2  28370905      3496776  Bunhd1DFVAG  2237947779  2019-03-05 08:03:11   \n3  28370907      3496776  Bppi85gliQK  2237947779  2018-11-01 20:17:41   \n4  32170690      3496776  BuDfIyslzfw  2237947779  2019-02-19 08:10:11   \n\n   post_type                                        description  likes  \\\n0          2  Wreckloose! Deevalley bike park laps on the @i...     80   \n1          1  The dirty south was prime today. Top day with ...     86   \n2          1  Tech Tuesday. Been flat out on the tools. Got ...    168   \n3          1  On the tools, my favourite wheel builds @stans...    102   \n4          1  Solid effort on the bar turn.\\nFully turned.\\n...    145   \n\n   comments   username                                                bio  \\\n0         0  andylund_  Professional Bicycle technician, Intense Racin...   \n1         2  andylund_  Professional Bicycle technician, Intense Racin...   \n2         3  andylund_  Professional Bicycle technician, Intense Racin...   \n3         2  andylund_  Professional Bicycle technician, Intense Racin...   \n4         2  andylund_  Professional Bicycle technician, Intense Racin...   \n\n   following  followers  num_posts  is_business_account lang  \\\n0        520       1204        494                False   en   \n1        520       1204        494                False   en   \n2        520       1204        494                False   en   \n3        520       1204        494                False   en   \n4        520       1204        494                False   en   \n\n               category  \n0    travel_&_adventure  \n1  diaries_&_daily_life  \n2  science_&_technology  \n3  diaries_&_daily_life  \n4  diaries_&_daily_life  ",
      "text/html": "<div>\n<style scoped>\n    .dataframe tbody tr th:only-of-type {\n        vertical-align: middle;\n    }\n\n    .dataframe tbody tr th {\n        vertical-align: top;\n    }\n\n    .dataframe thead th {\n        text-align: right;\n    }\n</style>\n<table border=\"1\" class=\"dataframe\">\n  <thead>\n    <tr style=\"text-align: right;\">\n      <th></th>\n      <th>sid</th>\n      <th>sid_profile</th>\n      <th>post_id</th>\n      <th>profile_id</th>\n      <th>date</th>\n      <th>post_type</th>\n      <th>description</th>\n      <th>likes</th>\n      <th>comments</th>\n      <th>username</th>\n      <th>bio</th>\n      <th>following</th>\n      <th>followers</th>\n      <th>num_posts</th>\n      <th>is_business_account</th>\n      <th>lang</th>\n      <th>category</th>\n    </tr>\n  </thead>\n  <tbody>\n    <tr>\n      <th>0</th>\n      <td>28370919</td>\n      <td>3496776</td>\n      <td>BXdjjUlgcgq</td>\n      <td>2237947779</td>\n      <td>2017-08-06 20:06:57</td>\n      <td>2</td>\n      <td>Wreckloose! Deevalley bike park laps on the @i...</td>\n      <td>80</td>\n      <td>0</td>\n      <td>andylund_</td>\n      <td>Professional Bicycle technician, Intense Racin...</td>\n      <td>520</td>\n      <td>1204</td>\n      <td>494</td>\n      <td>False</td>\n      <td>en</td>\n      <td>travel_&amp;_adventure</td>\n    </tr>\n    <tr>\n      <th>1</th>\n      <td>13623950</td>\n      <td>3496776</td>\n      <td>BeyPed5hKj9</td>\n      <td>2237947779</td>\n      <td>2018-02-04 19:35:20</td>\n      <td>1</td>\n      <td>The dirty south was prime today. Top day with ...</td>\n      <td>86</td>\n      <td>2</td>\n      <td>andylund_</td>\n      <td>Professional Bicycle technician, Intense Racin...</td>\n      <td>520</td>\n      <td>1204</td>\n      <td>494</td>\n      <td>False</td>\n      <td>en</td>\n      <td>diaries_&amp;_daily_life</td>\n    </tr>\n    <tr>\n      <th>2</th>\n      <td>28370905</td>\n      <td>3496776</td>\n      <td>Bunhd1DFVAG</td>\n      <td>2237947779</td>\n      <td>2019-03-05 08:03:11</td>\n      <td>1</td>\n      <td>Tech Tuesday. Been flat out on the tools. Got ...</td>\n      <td>168</td>\n      <td>3</td>\n      <td>andylund_</td>\n      <td>Professional Bicycle technician, Intense Racin...</td>\n      <td>520</td>\n      <td>1204</td>\n      <td>494</td>\n      <td>False</td>\n      <td>en</td>\n      <td>science_&amp;_technology</td>\n    </tr>\n    <tr>\n      <th>3</th>\n      <td>28370907</td>\n      <td>3496776</td>\n      <td>Bppi85gliQK</td>\n      <td>2237947779</td>\n      <td>2018-11-01 20:17:41</td>\n      <td>1</td>\n      <td>On the tools, my favourite wheel builds @stans...</td>\n      <td>102</td>\n      <td>2</td>\n      <td>andylund_</td>\n      <td>Professional Bicycle technician, Intense Racin...</td>\n      <td>520</td>\n      <td>1204</td>\n      <td>494</td>\n      <td>False</td>\n      <td>en</td>\n      <td>diaries_&amp;_daily_life</td>\n    </tr>\n    <tr>\n      <th>4</th>\n      <td>32170690</td>\n      <td>3496776</td>\n      <td>BuDfIyslzfw</td>\n      <td>2237947779</td>\n      <td>2019-02-19 08:10:11</td>\n      <td>1</td>\n      <td>Solid effort on the bar turn.\\nFully turned.\\n...</td>\n      <td>145</td>\n      <td>2</td>\n      <td>andylund_</td>\n      <td>Professional Bicycle technician, Intense Racin...</td>\n      <td>520</td>\n      <td>1204</td>\n      <td>494</td>\n      <td>False</td>\n      <td>en</td>\n      <td>diaries_&amp;_daily_life</td>\n    </tr>\n  </tbody>\n</table>\n</div>"
     },
     "execution_count": 13,
     "metadata": {},
     "output_type": "execute_result"
    }
   ],
   "source": [
    "dask_df.head()"
   ],
   "metadata": {
    "collapsed": false,
    "ExecuteTime": {
     "end_time": "2024-10-10T11:36:57.425478Z",
     "start_time": "2024-10-10T11:36:55.329989Z"
    }
   },
   "id": "9114f48760812d7",
   "execution_count": 13
  },
  {
   "cell_type": "code",
   "outputs": [
    {
     "name": "stdout",
     "output_type": "stream",
     "text": [
      "Top 10 users: profile_id\n",
      "25025320     29864166\n",
      "253625977    16457870\n",
      "10245870     15019135\n",
      "907025384    13352324\n",
      "19769622     11709658\n",
      "9446524      10109849\n",
      "50417061      9253425\n",
      "369719055     9104884\n",
      "6849281       7378589\n",
      "9429520       6261284\n",
      "Name: likes, dtype: int64\n",
      "CPU times: total: 0 ns\n",
      "Wall time: 857 ms\n"
     ]
    }
   ],
   "source": [
    "%%time\n",
    "top_users = dask_df.groupby('profile_id')['likes'].sum().nlargest(10).compute()\n",
    "print(f'Top 10 users: {top_users}')"
   ],
   "metadata": {
    "collapsed": false,
    "ExecuteTime": {
     "end_time": "2024-10-10T11:36:58.291856Z",
     "start_time": "2024-10-10T11:36:57.429649Z"
    }
   },
   "id": "655716d15aa0e781",
   "execution_count": 14
  },
  {
   "cell_type": "code",
   "outputs": [
    {
     "name": "stdout",
     "output_type": "stream",
     "text": [
      "CPU times: total: 1.05 s\n",
      "Wall time: 6.76 s\n"
     ]
    },
    {
     "data": {
      "text/plain": "        sid  sid_profile      post_id  profile_id                 date  \\\n2  28370905      3496776  Bunhd1DFVAG  2237947779  2019-03-05 08:03:11   \n4  32170690      3496776  BuDfIyslzfw  2237947779  2019-02-19 08:10:11   \n5  14315358      3496776  BxJsMDpA2yH  2237947779  2019-05-07 08:33:51   \n6   8304346      3496776  Bt5LFpZlm3z  2237947779  2019-02-15 08:02:35   \n7  14315346      3496776  BxZIzaQhS-o  2237947779  2019-05-13 08:32:30   \n\n   post_type                                        description  likes  \\\n2          1  Tech Tuesday. Been flat out on the tools. Got ...    168   \n4          1  Solid effort on the bar turn.\\nFully turned.\\n...    145   \n5          1  Annual springtime flora picture.\\nTurn bars in...    124   \n6          1  Laps in spring like conditions. Getting these ...    150   \n7          1  Cheers Scotland 🏴󠁧󠁢󠁳󠁣󠁴󠁿 See you in a few weeks...    166   \n\n   comments   username                                                bio  \\\n2         3  andylund_  Professional Bicycle technician, Intense Racin...   \n4         2  andylund_  Professional Bicycle technician, Intense Racin...   \n5         2  andylund_  Professional Bicycle technician, Intense Racin...   \n6         3  andylund_  Professional Bicycle technician, Intense Racin...   \n7         2  andylund_  Professional Bicycle technician, Intense Racin...   \n\n   following  followers  num_posts  is_business_account lang  \\\n2        520       1204        494                False   en   \n4        520       1204        494                False   en   \n5        520       1204        494                False   en   \n6        520       1204        494                False   en   \n7        520       1204        494                False   en   \n\n               category  \n2  science_&_technology  \n4  diaries_&_daily_life  \n5        arts_&_culture  \n6                sports  \n7                sports  ",
      "text/html": "<div>\n<style scoped>\n    .dataframe tbody tr th:only-of-type {\n        vertical-align: middle;\n    }\n\n    .dataframe tbody tr th {\n        vertical-align: top;\n    }\n\n    .dataframe thead th {\n        text-align: right;\n    }\n</style>\n<table border=\"1\" class=\"dataframe\">\n  <thead>\n    <tr style=\"text-align: right;\">\n      <th></th>\n      <th>sid</th>\n      <th>sid_profile</th>\n      <th>post_id</th>\n      <th>profile_id</th>\n      <th>date</th>\n      <th>post_type</th>\n      <th>description</th>\n      <th>likes</th>\n      <th>comments</th>\n      <th>username</th>\n      <th>bio</th>\n      <th>following</th>\n      <th>followers</th>\n      <th>num_posts</th>\n      <th>is_business_account</th>\n      <th>lang</th>\n      <th>category</th>\n    </tr>\n  </thead>\n  <tbody>\n    <tr>\n      <th>2</th>\n      <td>28370905</td>\n      <td>3496776</td>\n      <td>Bunhd1DFVAG</td>\n      <td>2237947779</td>\n      <td>2019-03-05 08:03:11</td>\n      <td>1</td>\n      <td>Tech Tuesday. Been flat out on the tools. Got ...</td>\n      <td>168</td>\n      <td>3</td>\n      <td>andylund_</td>\n      <td>Professional Bicycle technician, Intense Racin...</td>\n      <td>520</td>\n      <td>1204</td>\n      <td>494</td>\n      <td>False</td>\n      <td>en</td>\n      <td>science_&amp;_technology</td>\n    </tr>\n    <tr>\n      <th>4</th>\n      <td>32170690</td>\n      <td>3496776</td>\n      <td>BuDfIyslzfw</td>\n      <td>2237947779</td>\n      <td>2019-02-19 08:10:11</td>\n      <td>1</td>\n      <td>Solid effort on the bar turn.\\nFully turned.\\n...</td>\n      <td>145</td>\n      <td>2</td>\n      <td>andylund_</td>\n      <td>Professional Bicycle technician, Intense Racin...</td>\n      <td>520</td>\n      <td>1204</td>\n      <td>494</td>\n      <td>False</td>\n      <td>en</td>\n      <td>diaries_&amp;_daily_life</td>\n    </tr>\n    <tr>\n      <th>5</th>\n      <td>14315358</td>\n      <td>3496776</td>\n      <td>BxJsMDpA2yH</td>\n      <td>2237947779</td>\n      <td>2019-05-07 08:33:51</td>\n      <td>1</td>\n      <td>Annual springtime flora picture.\\nTurn bars in...</td>\n      <td>124</td>\n      <td>2</td>\n      <td>andylund_</td>\n      <td>Professional Bicycle technician, Intense Racin...</td>\n      <td>520</td>\n      <td>1204</td>\n      <td>494</td>\n      <td>False</td>\n      <td>en</td>\n      <td>arts_&amp;_culture</td>\n    </tr>\n    <tr>\n      <th>6</th>\n      <td>8304346</td>\n      <td>3496776</td>\n      <td>Bt5LFpZlm3z</td>\n      <td>2237947779</td>\n      <td>2019-02-15 08:02:35</td>\n      <td>1</td>\n      <td>Laps in spring like conditions. Getting these ...</td>\n      <td>150</td>\n      <td>3</td>\n      <td>andylund_</td>\n      <td>Professional Bicycle technician, Intense Racin...</td>\n      <td>520</td>\n      <td>1204</td>\n      <td>494</td>\n      <td>False</td>\n      <td>en</td>\n      <td>sports</td>\n    </tr>\n    <tr>\n      <th>7</th>\n      <td>14315346</td>\n      <td>3496776</td>\n      <td>BxZIzaQhS-o</td>\n      <td>2237947779</td>\n      <td>2019-05-13 08:32:30</td>\n      <td>1</td>\n      <td>Cheers Scotland 🏴󠁧󠁢󠁳󠁣󠁴󠁿 See you in a few weeks...</td>\n      <td>166</td>\n      <td>2</td>\n      <td>andylund_</td>\n      <td>Professional Bicycle technician, Intense Racin...</td>\n      <td>520</td>\n      <td>1204</td>\n      <td>494</td>\n      <td>False</td>\n      <td>en</td>\n      <td>sports</td>\n    </tr>\n  </tbody>\n</table>\n</div>"
     },
     "execution_count": 15,
     "metadata": {},
     "output_type": "execute_result"
    }
   ],
   "source": [
    "%%time\n",
    "filtered_df = dask_df[(dask_df['date'] >= '2019-01-01') & (dask_df['date'] < '2019-07-01')].compute()\n",
    "filtered_df.head()"
   ],
   "metadata": {
    "collapsed": false,
    "ExecuteTime": {
     "end_time": "2024-10-10T11:37:05.070669Z",
     "start_time": "2024-10-10T11:36:58.292853Z"
    }
   },
   "id": "61f718dfad760f3d",
   "execution_count": 15
  },
  {
   "cell_type": "markdown",
   "source": [
    "### Task 5\n",
    "Wczytaj te same dane do ramki Dask co w zadaniu 3, ale podaj typy danych, które zostały wybrane w procesie optymalizacji wykonanej w zadaniach z lab 01. Porównaj czas ładowania z zadaniem 3. Wykonaj również te same operacje co w zadaniu 4 i porównaj czas. Śledź wykonanie zadań patrząć na graf wywołań."
   ],
   "metadata": {
    "collapsed": false
   },
   "id": "4324417ec850e5f5"
  },
  {
   "cell_type": "code",
   "outputs": [
    {
     "data": {
      "text/plain": "sid                              int64\nsid_profile                      int64\npost_id                string[pyarrow]\nprofile_id                       int64\ndate                   string[pyarrow]\npost_type                        int64\ndescription            string[pyarrow]\nlikes                            int64\ncomments                         int64\nusername               string[pyarrow]\nbio                    string[pyarrow]\nfollowing                        int64\nfollowers                        int64\nnum_posts                        int64\nis_business_account               bool\nlang                   string[pyarrow]\ncategory               string[pyarrow]\ndtype: object"
     },
     "execution_count": 20,
     "metadata": {},
     "output_type": "execute_result"
    }
   ],
   "source": [
    "dask_df.dtypes"
   ],
   "metadata": {
    "collapsed": false,
    "ExecuteTime": {
     "end_time": "2024-10-10T11:39:49.315433Z",
     "start_time": "2024-10-10T11:39:49.306042Z"
    }
   },
   "id": "54687f8659417ad5",
   "execution_count": 20
  },
  {
   "cell_type": "code",
   "outputs": [],
   "source": [
    "dask_df['sid'] = dask_df['sid'].astype(np.int32)\n",
    "dask_df['sid_profile'] = dask_df['sid_profile'].astype(np.int32)\n",
    "dask_df['post_id'] = dask_df['post_id'].astype('string')\n",
    "dask_df['profile_id'] = dask_df['profile_id'].astype('string')\n",
    "dask_df['date'] = dd.to_datetime(dask_df['date'])\n",
    "dask_df['post_type'] = dask_df['post_type'].astype('category')\n",
    "dask_df['description'] = dask_df['description'].astype('string')\n",
    "dask_df['likes'] = dask_df['likes'].astype(np.int32)\n",
    "dask_df['comments'] = dask_df['comments'].astype(np.int16)\n",
    "dask_df['username'] = dask_df['username'].astype('category')\n",
    "dask_df['bio'] = dask_df['bio'].astype('category')\n",
    "dask_df['following'] = dask_df['following'].astype(np.int32)\n",
    "dask_df['followers'] = dask_df['followers'].astype(np.int32)\n",
    "dask_df['num_posts'] = dask_df['num_posts'].astype(np.int32)\n",
    "dask_df['is_business_account'] = dask_df['is_business_account'].astype('bool')\n",
    "dask_df['lang'] = dask_df['lang'].astype('category')\n",
    "dask_df['category'] = dask_df['category'].astype('category')"
   ],
   "metadata": {
    "collapsed": false,
    "ExecuteTime": {
     "end_time": "2024-10-10T11:40:18.612791Z",
     "start_time": "2024-10-10T11:40:18.455014Z"
    }
   },
   "id": "4c7c5895cf43afa7",
   "execution_count": 21
  },
  {
   "cell_type": "code",
   "outputs": [
    {
     "data": {
      "text/plain": "sid                             int32\nsid_profile                     int32\npost_id                string[python]\nprofile_id             string[python]\ndate                   datetime64[ns]\npost_type                    category\ndescription            string[python]\nlikes                           int32\ncomments                        int16\nusername                     category\nbio                          category\nfollowing                       int32\nfollowers                       int32\nnum_posts                       int32\nis_business_account              bool\nlang                         category\ncategory                     category\ndtype: object"
     },
     "execution_count": 22,
     "metadata": {},
     "output_type": "execute_result"
    }
   ],
   "source": [
    "dask_df.dtypes"
   ],
   "metadata": {
    "collapsed": false,
    "ExecuteTime": {
     "end_time": "2024-10-10T11:40:30.376017Z",
     "start_time": "2024-10-10T11:40:30.366091Z"
    }
   },
   "id": "601d04f713e54c97",
   "execution_count": 22
  },
  {
   "cell_type": "code",
   "outputs": [
    {
     "data": {
      "text/plain": "        sid  sid_profile      post_id  profile_id                date  \\\n0  28370919      3496776  BXdjjUlgcgq  2237947779 2017-08-06 20:06:57   \n1  13623950      3496776  BeyPed5hKj9  2237947779 2018-02-04 19:35:20   \n2  28370905      3496776  Bunhd1DFVAG  2237947779 2019-03-05 08:03:11   \n3  28370907      3496776  Bppi85gliQK  2237947779 2018-11-01 20:17:41   \n4  32170690      3496776  BuDfIyslzfw  2237947779 2019-02-19 08:10:11   \n\n  post_type                                        description  likes  \\\n0         2  Wreckloose! Deevalley bike park laps on the @i...     80   \n1         1  The dirty south was prime today. Top day with ...     86   \n2         1  Tech Tuesday. Been flat out on the tools. Got ...    168   \n3         1  On the tools, my favourite wheel builds @stans...    102   \n4         1  Solid effort on the bar turn.\\nFully turned.\\n...    145   \n\n   comments   username                                                bio  \\\n0         0  andylund_  Professional Bicycle technician, Intense Racin...   \n1         2  andylund_  Professional Bicycle technician, Intense Racin...   \n2         3  andylund_  Professional Bicycle technician, Intense Racin...   \n3         2  andylund_  Professional Bicycle technician, Intense Racin...   \n4         2  andylund_  Professional Bicycle technician, Intense Racin...   \n\n   following  followers  num_posts  is_business_account lang  \\\n0        520       1204        494                False   en   \n1        520       1204        494                False   en   \n2        520       1204        494                False   en   \n3        520       1204        494                False   en   \n4        520       1204        494                False   en   \n\n               category  \n0    travel_&_adventure  \n1  diaries_&_daily_life  \n2  science_&_technology  \n3  diaries_&_daily_life  \n4  diaries_&_daily_life  ",
      "text/html": "<div>\n<style scoped>\n    .dataframe tbody tr th:only-of-type {\n        vertical-align: middle;\n    }\n\n    .dataframe tbody tr th {\n        vertical-align: top;\n    }\n\n    .dataframe thead th {\n        text-align: right;\n    }\n</style>\n<table border=\"1\" class=\"dataframe\">\n  <thead>\n    <tr style=\"text-align: right;\">\n      <th></th>\n      <th>sid</th>\n      <th>sid_profile</th>\n      <th>post_id</th>\n      <th>profile_id</th>\n      <th>date</th>\n      <th>post_type</th>\n      <th>description</th>\n      <th>likes</th>\n      <th>comments</th>\n      <th>username</th>\n      <th>bio</th>\n      <th>following</th>\n      <th>followers</th>\n      <th>num_posts</th>\n      <th>is_business_account</th>\n      <th>lang</th>\n      <th>category</th>\n    </tr>\n  </thead>\n  <tbody>\n    <tr>\n      <th>0</th>\n      <td>28370919</td>\n      <td>3496776</td>\n      <td>BXdjjUlgcgq</td>\n      <td>2237947779</td>\n      <td>2017-08-06 20:06:57</td>\n      <td>2</td>\n      <td>Wreckloose! Deevalley bike park laps on the @i...</td>\n      <td>80</td>\n      <td>0</td>\n      <td>andylund_</td>\n      <td>Professional Bicycle technician, Intense Racin...</td>\n      <td>520</td>\n      <td>1204</td>\n      <td>494</td>\n      <td>False</td>\n      <td>en</td>\n      <td>travel_&amp;_adventure</td>\n    </tr>\n    <tr>\n      <th>1</th>\n      <td>13623950</td>\n      <td>3496776</td>\n      <td>BeyPed5hKj9</td>\n      <td>2237947779</td>\n      <td>2018-02-04 19:35:20</td>\n      <td>1</td>\n      <td>The dirty south was prime today. Top day with ...</td>\n      <td>86</td>\n      <td>2</td>\n      <td>andylund_</td>\n      <td>Professional Bicycle technician, Intense Racin...</td>\n      <td>520</td>\n      <td>1204</td>\n      <td>494</td>\n      <td>False</td>\n      <td>en</td>\n      <td>diaries_&amp;_daily_life</td>\n    </tr>\n    <tr>\n      <th>2</th>\n      <td>28370905</td>\n      <td>3496776</td>\n      <td>Bunhd1DFVAG</td>\n      <td>2237947779</td>\n      <td>2019-03-05 08:03:11</td>\n      <td>1</td>\n      <td>Tech Tuesday. Been flat out on the tools. Got ...</td>\n      <td>168</td>\n      <td>3</td>\n      <td>andylund_</td>\n      <td>Professional Bicycle technician, Intense Racin...</td>\n      <td>520</td>\n      <td>1204</td>\n      <td>494</td>\n      <td>False</td>\n      <td>en</td>\n      <td>science_&amp;_technology</td>\n    </tr>\n    <tr>\n      <th>3</th>\n      <td>28370907</td>\n      <td>3496776</td>\n      <td>Bppi85gliQK</td>\n      <td>2237947779</td>\n      <td>2018-11-01 20:17:41</td>\n      <td>1</td>\n      <td>On the tools, my favourite wheel builds @stans...</td>\n      <td>102</td>\n      <td>2</td>\n      <td>andylund_</td>\n      <td>Professional Bicycle technician, Intense Racin...</td>\n      <td>520</td>\n      <td>1204</td>\n      <td>494</td>\n      <td>False</td>\n      <td>en</td>\n      <td>diaries_&amp;_daily_life</td>\n    </tr>\n    <tr>\n      <th>4</th>\n      <td>32170690</td>\n      <td>3496776</td>\n      <td>BuDfIyslzfw</td>\n      <td>2237947779</td>\n      <td>2019-02-19 08:10:11</td>\n      <td>1</td>\n      <td>Solid effort on the bar turn.\\nFully turned.\\n...</td>\n      <td>145</td>\n      <td>2</td>\n      <td>andylund_</td>\n      <td>Professional Bicycle technician, Intense Racin...</td>\n      <td>520</td>\n      <td>1204</td>\n      <td>494</td>\n      <td>False</td>\n      <td>en</td>\n      <td>diaries_&amp;_daily_life</td>\n    </tr>\n  </tbody>\n</table>\n</div>"
     },
     "execution_count": 23,
     "metadata": {},
     "output_type": "execute_result"
    }
   ],
   "source": [
    "dask_df.head()"
   ],
   "metadata": {
    "collapsed": false,
    "ExecuteTime": {
     "end_time": "2024-10-10T11:40:46.440009Z",
     "start_time": "2024-10-10T11:40:44.138861Z"
    }
   },
   "id": "bd05cda60a05bab7",
   "execution_count": 23
  },
  {
   "cell_type": "code",
   "outputs": [
    {
     "name": "stdout",
     "output_type": "stream",
     "text": [
      "Top 10 users: profile_id\n",
      "25025320     29864166\n",
      "253625977    16457870\n",
      "19769622     11709658\n",
      "369719055     9104884\n",
      "9429520       6261284\n",
      "25236007      6146072\n",
      "16668152      5829086\n",
      "627934998     4991864\n",
      "189379530     4756493\n",
      "268167552     4693524\n",
      "Name: likes, dtype: int32\n",
      "CPU times: total: 62.5 ms\n",
      "Wall time: 1.56 s\n"
     ]
    }
   ],
   "source": [
    "%%time\n",
    "top_users = dask_df.groupby('profile_id')['likes'].sum().nlargest(10).compute()\n",
    "print(f'Top 10 users: {top_users}')"
   ],
   "metadata": {
    "collapsed": false,
    "ExecuteTime": {
     "end_time": "2024-10-10T11:40:53.713181Z",
     "start_time": "2024-10-10T11:40:52.143811Z"
    }
   },
   "id": "5f75e01790748e55",
   "execution_count": 24
  },
  {
   "cell_type": "code",
   "outputs": [
    {
     "name": "stdout",
     "output_type": "stream",
     "text": [
      "CPU times: total: 781 ms\n",
      "Wall time: 8.28 s\n"
     ]
    },
    {
     "data": {
      "text/plain": "        sid  sid_profile      post_id  profile_id                date  \\\n2  28370905      3496776  Bunhd1DFVAG  2237947779 2019-03-05 08:03:11   \n4  32170690      3496776  BuDfIyslzfw  2237947779 2019-02-19 08:10:11   \n5  14315358      3496776  BxJsMDpA2yH  2237947779 2019-05-07 08:33:51   \n6   8304346      3496776  Bt5LFpZlm3z  2237947779 2019-02-15 08:02:35   \n7  14315346      3496776  BxZIzaQhS-o  2237947779 2019-05-13 08:32:30   \n\n  post_type                                        description  likes  \\\n2         1  Tech Tuesday. Been flat out on the tools. Got ...    168   \n4         1  Solid effort on the bar turn.\\nFully turned.\\n...    145   \n5         1  Annual springtime flora picture.\\nTurn bars in...    124   \n6         1  Laps in spring like conditions. Getting these ...    150   \n7         1  Cheers Scotland 🏴󠁧󠁢󠁳󠁣󠁴󠁿 See you in a few weeks...    166   \n\n   comments   username                                                bio  \\\n2         3  andylund_  Professional Bicycle technician, Intense Racin...   \n4         2  andylund_  Professional Bicycle technician, Intense Racin...   \n5         2  andylund_  Professional Bicycle technician, Intense Racin...   \n6         3  andylund_  Professional Bicycle technician, Intense Racin...   \n7         2  andylund_  Professional Bicycle technician, Intense Racin...   \n\n   following  followers  num_posts  is_business_account lang  \\\n2        520       1204        494                False   en   \n4        520       1204        494                False   en   \n5        520       1204        494                False   en   \n6        520       1204        494                False   en   \n7        520       1204        494                False   en   \n\n               category  \n2  science_&_technology  \n4  diaries_&_daily_life  \n5        arts_&_culture  \n6                sports  \n7                sports  ",
      "text/html": "<div>\n<style scoped>\n    .dataframe tbody tr th:only-of-type {\n        vertical-align: middle;\n    }\n\n    .dataframe tbody tr th {\n        vertical-align: top;\n    }\n\n    .dataframe thead th {\n        text-align: right;\n    }\n</style>\n<table border=\"1\" class=\"dataframe\">\n  <thead>\n    <tr style=\"text-align: right;\">\n      <th></th>\n      <th>sid</th>\n      <th>sid_profile</th>\n      <th>post_id</th>\n      <th>profile_id</th>\n      <th>date</th>\n      <th>post_type</th>\n      <th>description</th>\n      <th>likes</th>\n      <th>comments</th>\n      <th>username</th>\n      <th>bio</th>\n      <th>following</th>\n      <th>followers</th>\n      <th>num_posts</th>\n      <th>is_business_account</th>\n      <th>lang</th>\n      <th>category</th>\n    </tr>\n  </thead>\n  <tbody>\n    <tr>\n      <th>2</th>\n      <td>28370905</td>\n      <td>3496776</td>\n      <td>Bunhd1DFVAG</td>\n      <td>2237947779</td>\n      <td>2019-03-05 08:03:11</td>\n      <td>1</td>\n      <td>Tech Tuesday. Been flat out on the tools. Got ...</td>\n      <td>168</td>\n      <td>3</td>\n      <td>andylund_</td>\n      <td>Professional Bicycle technician, Intense Racin...</td>\n      <td>520</td>\n      <td>1204</td>\n      <td>494</td>\n      <td>False</td>\n      <td>en</td>\n      <td>science_&amp;_technology</td>\n    </tr>\n    <tr>\n      <th>4</th>\n      <td>32170690</td>\n      <td>3496776</td>\n      <td>BuDfIyslzfw</td>\n      <td>2237947779</td>\n      <td>2019-02-19 08:10:11</td>\n      <td>1</td>\n      <td>Solid effort on the bar turn.\\nFully turned.\\n...</td>\n      <td>145</td>\n      <td>2</td>\n      <td>andylund_</td>\n      <td>Professional Bicycle technician, Intense Racin...</td>\n      <td>520</td>\n      <td>1204</td>\n      <td>494</td>\n      <td>False</td>\n      <td>en</td>\n      <td>diaries_&amp;_daily_life</td>\n    </tr>\n    <tr>\n      <th>5</th>\n      <td>14315358</td>\n      <td>3496776</td>\n      <td>BxJsMDpA2yH</td>\n      <td>2237947779</td>\n      <td>2019-05-07 08:33:51</td>\n      <td>1</td>\n      <td>Annual springtime flora picture.\\nTurn bars in...</td>\n      <td>124</td>\n      <td>2</td>\n      <td>andylund_</td>\n      <td>Professional Bicycle technician, Intense Racin...</td>\n      <td>520</td>\n      <td>1204</td>\n      <td>494</td>\n      <td>False</td>\n      <td>en</td>\n      <td>arts_&amp;_culture</td>\n    </tr>\n    <tr>\n      <th>6</th>\n      <td>8304346</td>\n      <td>3496776</td>\n      <td>Bt5LFpZlm3z</td>\n      <td>2237947779</td>\n      <td>2019-02-15 08:02:35</td>\n      <td>1</td>\n      <td>Laps in spring like conditions. Getting these ...</td>\n      <td>150</td>\n      <td>3</td>\n      <td>andylund_</td>\n      <td>Professional Bicycle technician, Intense Racin...</td>\n      <td>520</td>\n      <td>1204</td>\n      <td>494</td>\n      <td>False</td>\n      <td>en</td>\n      <td>sports</td>\n    </tr>\n    <tr>\n      <th>7</th>\n      <td>14315346</td>\n      <td>3496776</td>\n      <td>BxZIzaQhS-o</td>\n      <td>2237947779</td>\n      <td>2019-05-13 08:32:30</td>\n      <td>1</td>\n      <td>Cheers Scotland 🏴󠁧󠁢󠁳󠁣󠁴󠁿 See you in a few weeks...</td>\n      <td>166</td>\n      <td>2</td>\n      <td>andylund_</td>\n      <td>Professional Bicycle technician, Intense Racin...</td>\n      <td>520</td>\n      <td>1204</td>\n      <td>494</td>\n      <td>False</td>\n      <td>en</td>\n      <td>sports</td>\n    </tr>\n  </tbody>\n</table>\n</div>"
     },
     "execution_count": 25,
     "metadata": {},
     "output_type": "execute_result"
    }
   ],
   "source": [
    "%%time\n",
    "filtered_df = dask_df[(dask_df['date'] >= '2019-01-01') & (dask_df['date'] < '2019-07-01')].compute()\n",
    "filtered_df.head()"
   ],
   "metadata": {
    "collapsed": false,
    "ExecuteTime": {
     "end_time": "2024-10-10T11:41:22.020150Z",
     "start_time": "2024-10-10T11:41:13.712226Z"
    }
   },
   "id": "484bb6766d6e5643",
   "execution_count": 25
  },
  {
   "cell_type": "markdown",
   "source": [
    "### Task 6\n",
    "Podziel tablicę darr z przykładów na inne liczby chunków (eksperymentuj) i wykonaj te same obliczenie (średnia). Dla każdej liczby chunków wypisz czas obliczeń (wykonaj to samo obliczenie minimum 10 razy, aby nieco uwiarygodnić wyniki i uśrednij) i porównaj wyniki. Napisz wniosek o wynikach swoich eksperymentów i automatycznego podziału na chunki. Czy udało Ci się osiągnąć lepszą wydajność niż przy domyślnych ustawieniach?"
   ],
   "metadata": {
    "collapsed": false
   },
   "id": "f444583d1b762ee4"
  },
  {
   "cell_type": "code",
   "outputs": [
    {
     "name": "stdout",
     "output_type": "stream",
     "text": [
      "Average time for default settings 0:00:03.463077\n"
     ]
    }
   ],
   "source": [
    "times = []\n",
    "for _ in range(10):\n",
    "    darr = da.random.normal(5, 0.2, size=(20_000, 20_000))\n",
    "    darr_mean = darr.mean(axis=0)\n",
    "\n",
    "    start_time = datetime.now()\n",
    "    darr_mean.compute()\n",
    "    times.append(datetime.now() - start_time)\n",
    "\n",
    "avg_time = np.mean(times)\n",
    "print(f'Average time for default settings {avg_time}')"
   ],
   "metadata": {
    "collapsed": false,
    "ExecuteTime": {
     "end_time": "2024-10-10T11:57:40.062595Z",
     "start_time": "2024-10-10T11:57:05.370620Z"
    }
   },
   "id": "2effda0e553ea055",
   "execution_count": 5
  },
  {
   "cell_type": "code",
   "outputs": [
    {
     "data": {
      "text/plain": "   Chunk Size       Average Time (s)\n0        1000 0 days 00:00:02.919994\n1        1024 0 days 00:00:02.671516\n2        2000 0 days 00:00:02.600619\n3        2048 0 days 00:00:02.581085\n4        4000 0 days 00:00:02.879106\n5        4096 0 days 00:00:02.759572\n6        8000 0 days 00:00:03.297687\n7        8192 0 days 00:00:03.338199\n8       16000 0 days 00:00:08.519075\n9       16384 0 days 00:00:08.401654",
      "text/html": "<div>\n<style scoped>\n    .dataframe tbody tr th:only-of-type {\n        vertical-align: middle;\n    }\n\n    .dataframe tbody tr th {\n        vertical-align: top;\n    }\n\n    .dataframe thead th {\n        text-align: right;\n    }\n</style>\n<table border=\"1\" class=\"dataframe\">\n  <thead>\n    <tr style=\"text-align: right;\">\n      <th></th>\n      <th>Chunk Size</th>\n      <th>Average Time (s)</th>\n    </tr>\n  </thead>\n  <tbody>\n    <tr>\n      <th>0</th>\n      <td>1000</td>\n      <td>0 days 00:00:02.919994</td>\n    </tr>\n    <tr>\n      <th>1</th>\n      <td>1024</td>\n      <td>0 days 00:00:02.671516</td>\n    </tr>\n    <tr>\n      <th>2</th>\n      <td>2000</td>\n      <td>0 days 00:00:02.600619</td>\n    </tr>\n    <tr>\n      <th>3</th>\n      <td>2048</td>\n      <td>0 days 00:00:02.581085</td>\n    </tr>\n    <tr>\n      <th>4</th>\n      <td>4000</td>\n      <td>0 days 00:00:02.879106</td>\n    </tr>\n    <tr>\n      <th>5</th>\n      <td>4096</td>\n      <td>0 days 00:00:02.759572</td>\n    </tr>\n    <tr>\n      <th>6</th>\n      <td>8000</td>\n      <td>0 days 00:00:03.297687</td>\n    </tr>\n    <tr>\n      <th>7</th>\n      <td>8192</td>\n      <td>0 days 00:00:03.338199</td>\n    </tr>\n    <tr>\n      <th>8</th>\n      <td>16000</td>\n      <td>0 days 00:00:08.519075</td>\n    </tr>\n    <tr>\n      <th>9</th>\n      <td>16384</td>\n      <td>0 days 00:00:08.401654</td>\n    </tr>\n  </tbody>\n</table>\n</div>"
     },
     "execution_count": 6,
     "metadata": {},
     "output_type": "execute_result"
    }
   ],
   "source": [
    "chunk_sizes = [1000, 1024, 2000, 2048, 4000, 4096, 8000, 8192, 16_000, 16_384]\n",
    "results = {}\n",
    "\n",
    "for chunk_size in chunk_sizes:\n",
    "    times = []\n",
    "    for _ in range(10):\n",
    "        darr = da.random.normal(5, 0.2, size=(20_000, 20_000), chunks=(chunk_size, chunk_size))\n",
    "        darr_mean = darr.mean(axis=0)\n",
    "\n",
    "        start_time = datetime.now()\n",
    "        darr_mean.compute()\n",
    "        times.append(datetime.now() - start_time)\n",
    "\n",
    "    avg_time = np.mean(times)\n",
    "    results[chunk_size] = avg_time\n",
    "\n",
    "results_df = pd.DataFrame(list(results.items()), columns=['Chunk Size', 'Average Time (s)'])\n",
    "results_df"
   ],
   "metadata": {
    "collapsed": false,
    "ExecuteTime": {
     "end_time": "2024-10-10T12:05:19.746950Z",
     "start_time": "2024-10-10T11:58:39.276265Z"
    }
   },
   "id": "a4ee977f063dd694",
   "execution_count": 6
  }
 ],
 "metadata": {
  "kernelspec": {
   "display_name": "Python 3",
   "language": "python",
   "name": "python3"
  },
  "language_info": {
   "codemirror_mode": {
    "name": "ipython",
    "version": 2
   },
   "file_extension": ".py",
   "mimetype": "text/x-python",
   "name": "python",
   "nbconvert_exporter": "python",
   "pygments_lexer": "ipython2",
   "version": "2.7.6"
  }
 },
 "nbformat": 4,
 "nbformat_minor": 5
}
